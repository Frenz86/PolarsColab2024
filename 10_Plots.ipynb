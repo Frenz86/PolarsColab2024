{
 "cells": [
  {
   "cell_type": "markdown",
   "metadata": {
    "id": "lOACdEro3cH3"
   },
   "source": [
    "#Polars Plotting"
   ]
  },
  {
   "cell_type": "code",
   "execution_count": 1,
   "metadata": {
    "executionInfo": {
     "elapsed": 13774,
     "status": "ok",
     "timestamp": 1733570762367,
     "user": {
      "displayName": "Daniele Grotti",
      "userId": "05993002232846155126"
     },
     "user_tz": -60
    },
    "id": "coccr6se3bee"
   },
   "outputs": [
    {
     "name": "stderr",
     "output_type": "stream",
     "text": [
      "ERROR: pip's dependency resolver does not currently take into account all the packages that are installed. This behaviour is the source of the following dependency conflicts.\n",
      "marimo 0.9.11 requires websockets<13.0.0,>=10.0.0, but you have websockets 14.2 which is incompatible.\n"
     ]
    }
   ],
   "source": [
    "!pip install altair -U -q\n",
    "!pip install hvplot -q\n",
    "#RESTART RUNTIME"
   ]
  },
  {
   "cell_type": "code",
   "execution_count": 2,
   "metadata": {
    "colab": {
     "base_uri": "https://localhost:8080/"
    },
    "executionInfo": {
     "elapsed": 5,
     "status": "ok",
     "timestamp": 1733570762367,
     "user": {
      "displayName": "Daniele Grotti",
      "userId": "05993002232846155126"
     },
     "user_tz": -60
    },
    "id": "gyRmZaF53Dme",
    "outputId": "4a1b571b-74b3-4f03-f871-cd4bb9470d9c"
   },
   "outputs": [
    {
     "name": "stdout",
     "output_type": "stream",
     "text": [
      "1.23.0\n"
     ]
    }
   ],
   "source": [
    "import polars as pl\n",
    "\n",
    "print(pl.__version__)"
   ]
  },
  {
   "cell_type": "code",
   "execution_count": 3,
   "metadata": {
    "colab": {
     "base_uri": "https://localhost:8080/",
     "height": 443
    },
    "executionInfo": {
     "elapsed": 415,
     "status": "ok",
     "timestamp": 1733570762778,
     "user": {
      "displayName": "Daniele Grotti",
      "userId": "05993002232846155126"
     },
     "user_tz": -60
    },
    "id": "br2V7q183Dml",
    "outputId": "83480848-86de-4628-a934-255082c8b4e6"
   },
   "outputs": [
    {
     "data": {
      "text/html": [
       "<div><style>\n",
       ".dataframe > thead > tr,\n",
       ".dataframe > tbody > tr {\n",
       "  text-align: right;\n",
       "  white-space: pre-wrap;\n",
       "}\n",
       "</style>\n",
       "<small>shape: (150, 5)</small><table border=\"1\" class=\"dataframe\"><thead><tr><th>sepal_length</th><th>sepal_width</th><th>petal_length</th><th>petal_width</th><th>species</th></tr><tr><td>f64</td><td>f64</td><td>f64</td><td>f64</td><td>str</td></tr></thead><tbody><tr><td>5.1</td><td>3.5</td><td>1.4</td><td>0.2</td><td>&quot;setosa&quot;</td></tr><tr><td>4.9</td><td>3.0</td><td>1.4</td><td>0.2</td><td>&quot;setosa&quot;</td></tr><tr><td>4.7</td><td>3.2</td><td>1.3</td><td>0.2</td><td>&quot;setosa&quot;</td></tr><tr><td>4.6</td><td>3.1</td><td>1.5</td><td>0.2</td><td>&quot;setosa&quot;</td></tr><tr><td>5.0</td><td>3.6</td><td>1.4</td><td>0.2</td><td>&quot;setosa&quot;</td></tr><tr><td>&hellip;</td><td>&hellip;</td><td>&hellip;</td><td>&hellip;</td><td>&hellip;</td></tr><tr><td>6.7</td><td>3.0</td><td>5.2</td><td>2.3</td><td>&quot;virginica&quot;</td></tr><tr><td>6.3</td><td>2.5</td><td>5.0</td><td>1.9</td><td>&quot;virginica&quot;</td></tr><tr><td>6.5</td><td>3.0</td><td>5.2</td><td>2.0</td><td>&quot;virginica&quot;</td></tr><tr><td>6.2</td><td>3.4</td><td>5.4</td><td>2.3</td><td>&quot;virginica&quot;</td></tr><tr><td>5.9</td><td>3.0</td><td>5.1</td><td>1.8</td><td>&quot;virginica&quot;</td></tr></tbody></table></div>"
      ],
      "text/plain": [
       "shape: (150, 5)\n",
       "┌──────────────┬─────────────┬──────────────┬─────────────┬───────────┐\n",
       "│ sepal_length ┆ sepal_width ┆ petal_length ┆ petal_width ┆ species   │\n",
       "│ ---          ┆ ---         ┆ ---          ┆ ---         ┆ ---       │\n",
       "│ f64          ┆ f64         ┆ f64          ┆ f64         ┆ str       │\n",
       "╞══════════════╪═════════════╪══════════════╪═════════════╪═══════════╡\n",
       "│ 5.1          ┆ 3.5         ┆ 1.4          ┆ 0.2         ┆ setosa    │\n",
       "│ 4.9          ┆ 3.0         ┆ 1.4          ┆ 0.2         ┆ setosa    │\n",
       "│ 4.7          ┆ 3.2         ┆ 1.3          ┆ 0.2         ┆ setosa    │\n",
       "│ 4.6          ┆ 3.1         ┆ 1.5          ┆ 0.2         ┆ setosa    │\n",
       "│ 5.0          ┆ 3.6         ┆ 1.4          ┆ 0.2         ┆ setosa    │\n",
       "│ …            ┆ …           ┆ …            ┆ …           ┆ …         │\n",
       "│ 6.7          ┆ 3.0         ┆ 5.2          ┆ 2.3         ┆ virginica │\n",
       "│ 6.3          ┆ 2.5         ┆ 5.0          ┆ 1.9         ┆ virginica │\n",
       "│ 6.5          ┆ 3.0         ┆ 5.2          ┆ 2.0         ┆ virginica │\n",
       "│ 6.2          ┆ 3.4         ┆ 5.4          ┆ 2.3         ┆ virginica │\n",
       "│ 5.9          ┆ 3.0         ┆ 5.1          ┆ 1.8         ┆ virginica │\n",
       "└──────────────┴─────────────┴──────────────┴─────────────┴───────────┘"
      ]
     },
     "execution_count": 3,
     "metadata": {},
     "output_type": "execute_result"
    }
   ],
   "source": [
    "#path = \"data/iris.csv\"\n",
    "path = \"https://frenzy86.s3.eu-west-2.amazonaws.com/fav/iris.csv\"\n",
    "\n",
    "df = pl.read_csv(path)\n",
    "df"
   ]
  },
  {
   "cell_type": "markdown",
   "metadata": {
    "id": "Lu3rXZtB3Dml"
   },
   "source": [
    "### Altair (Built-in)"
   ]
  },
  {
   "cell_type": "code",
   "execution_count": 4,
   "metadata": {
    "colab": {
     "base_uri": "https://localhost:8080/",
     "height": 368
    },
    "executionInfo": {
     "elapsed": 330,
     "status": "ok",
     "timestamp": 1733570850036,
     "user": {
      "displayName": "Daniele Grotti",
      "userId": "05993002232846155126"
     },
     "user_tz": -60
    },
    "id": "8QwXaWql3Dmo",
    "outputId": "9fa8a01e-eb3d-4b3a-93be-af6312a32424"
   },
   "outputs": [
    {
     "data": {
      "text/html": [
       "\n",
       "<style>\n",
       "  #altair-viz-ee0aef51725c497c9e942bf0ceb9d558.vega-embed {\n",
       "    width: 100%;\n",
       "    display: flex;\n",
       "  }\n",
       "\n",
       "  #altair-viz-ee0aef51725c497c9e942bf0ceb9d558.vega-embed details,\n",
       "  #altair-viz-ee0aef51725c497c9e942bf0ceb9d558.vega-embed details summary {\n",
       "    position: relative;\n",
       "  }\n",
       "</style>\n",
       "<div id=\"altair-viz-ee0aef51725c497c9e942bf0ceb9d558\"></div>\n",
       "<script type=\"text/javascript\">\n",
       "  var VEGA_DEBUG = (typeof VEGA_DEBUG == \"undefined\") ? {} : VEGA_DEBUG;\n",
       "  (function(spec, embedOpt){\n",
       "    let outputDiv = document.currentScript.previousElementSibling;\n",
       "    if (outputDiv.id !== \"altair-viz-ee0aef51725c497c9e942bf0ceb9d558\") {\n",
       "      outputDiv = document.getElementById(\"altair-viz-ee0aef51725c497c9e942bf0ceb9d558\");\n",
       "    }\n",
       "\n",
       "    const paths = {\n",
       "      \"vega\": \"https://cdn.jsdelivr.net/npm/vega@5?noext\",\n",
       "      \"vega-lib\": \"https://cdn.jsdelivr.net/npm/vega-lib?noext\",\n",
       "      \"vega-lite\": \"https://cdn.jsdelivr.net/npm/vega-lite@5.20.1?noext\",\n",
       "      \"vega-embed\": \"https://cdn.jsdelivr.net/npm/vega-embed@6?noext\",\n",
       "    };\n",
       "\n",
       "    function maybeLoadScript(lib, version) {\n",
       "      var key = `${lib.replace(\"-\", \"\")}_version`;\n",
       "      return (VEGA_DEBUG[key] == version) ?\n",
       "        Promise.resolve(paths[lib]) :\n",
       "        new Promise(function(resolve, reject) {\n",
       "          var s = document.createElement('script');\n",
       "          document.getElementsByTagName(\"head\")[0].appendChild(s);\n",
       "          s.async = true;\n",
       "          s.onload = () => {\n",
       "            VEGA_DEBUG[key] = version;\n",
       "            return resolve(paths[lib]);\n",
       "          };\n",
       "          s.onerror = () => reject(`Error loading script: ${paths[lib]}`);\n",
       "          s.src = paths[lib];\n",
       "        });\n",
       "    }\n",
       "\n",
       "    function showError(err) {\n",
       "      outputDiv.innerHTML = `<div class=\"error\" style=\"color:red;\">${err}</div>`;\n",
       "      throw err;\n",
       "    }\n",
       "\n",
       "    function displayChart(vegaEmbed) {\n",
       "      vegaEmbed(outputDiv, spec, embedOpt)\n",
       "        .catch(err => showError(`Javascript Error: ${err.message}<br>This usually means there's a typo in your chart specification. See the javascript console for the full traceback.`));\n",
       "    }\n",
       "\n",
       "    if(typeof define === \"function\" && define.amd) {\n",
       "      requirejs.config({paths});\n",
       "      let deps = [\"vega-embed\"];\n",
       "      require(deps, displayChart, err => showError(`Error loading script: ${err.message}`));\n",
       "    } else {\n",
       "      maybeLoadScript(\"vega\", \"5\")\n",
       "        .then(() => maybeLoadScript(\"vega-lite\", \"5.20.1\"))\n",
       "        .then(() => maybeLoadScript(\"vega-embed\", \"6\"))\n",
       "        .catch(showError)\n",
       "        .then(() => displayChart(vegaEmbed));\n",
       "    }\n",
       "  })({\"config\": {\"view\": {\"continuousWidth\": 300, \"continuousHeight\": 300}, \"scale\": {\"zero\": false}}, \"data\": {\"name\": \"data-3a191f69da972c40738d695fb9f41d2b\"}, \"mark\": {\"type\": \"point\", \"tooltip\": true}, \"encoding\": {\"color\": {\"field\": \"species\", \"type\": \"nominal\"}, \"x\": {\"field\": \"sepal_length\", \"type\": \"quantitative\"}, \"y\": {\"field\": \"sepal_width\", \"type\": \"quantitative\"}}, \"params\": [{\"name\": \"param_1\", \"select\": {\"type\": \"interval\", \"encodings\": [\"x\", \"y\"]}, \"bind\": \"scales\"}], \"width\": 500, \"$schema\": \"https://vega.github.io/schema/vega-lite/v5.20.1.json\", \"datasets\": {\"data-3a191f69da972c40738d695fb9f41d2b\": [{\"sepal_length\": 5.1, \"sepal_width\": 3.5, \"petal_length\": 1.4, \"petal_width\": 0.2, \"species\": \"setosa\"}, {\"sepal_length\": 4.9, \"sepal_width\": 3.0, \"petal_length\": 1.4, \"petal_width\": 0.2, \"species\": \"setosa\"}, {\"sepal_length\": 4.7, \"sepal_width\": 3.2, \"petal_length\": 1.3, \"petal_width\": 0.2, \"species\": \"setosa\"}, {\"sepal_length\": 4.6, \"sepal_width\": 3.1, \"petal_length\": 1.5, \"petal_width\": 0.2, \"species\": \"setosa\"}, {\"sepal_length\": 5.0, \"sepal_width\": 3.6, \"petal_length\": 1.4, \"petal_width\": 0.2, \"species\": \"setosa\"}, {\"sepal_length\": 5.4, \"sepal_width\": 3.9, \"petal_length\": 1.7, \"petal_width\": 0.4, \"species\": \"setosa\"}, {\"sepal_length\": 4.6, \"sepal_width\": 3.4, \"petal_length\": 1.4, \"petal_width\": 0.3, \"species\": \"setosa\"}, {\"sepal_length\": 5.0, \"sepal_width\": 3.4, \"petal_length\": 1.5, \"petal_width\": 0.2, \"species\": \"setosa\"}, {\"sepal_length\": 4.4, \"sepal_width\": 2.9, \"petal_length\": 1.4, \"petal_width\": 0.2, \"species\": \"setosa\"}, {\"sepal_length\": 4.9, \"sepal_width\": 3.1, \"petal_length\": 1.5, \"petal_width\": 0.1, \"species\": \"setosa\"}, {\"sepal_length\": 5.4, \"sepal_width\": 3.7, \"petal_length\": 1.5, \"petal_width\": 0.2, \"species\": \"setosa\"}, {\"sepal_length\": 4.8, \"sepal_width\": 3.4, \"petal_length\": 1.6, \"petal_width\": 0.2, \"species\": \"setosa\"}, {\"sepal_length\": 4.8, \"sepal_width\": 3.0, \"petal_length\": 1.4, \"petal_width\": 0.1, \"species\": \"setosa\"}, {\"sepal_length\": 4.3, \"sepal_width\": 3.0, \"petal_length\": 1.1, \"petal_width\": 0.1, \"species\": \"setosa\"}, {\"sepal_length\": 5.8, \"sepal_width\": 4.0, \"petal_length\": 1.2, \"petal_width\": 0.2, \"species\": \"setosa\"}, {\"sepal_length\": 5.7, \"sepal_width\": 4.4, \"petal_length\": 1.5, \"petal_width\": 0.4, \"species\": \"setosa\"}, {\"sepal_length\": 5.4, \"sepal_width\": 3.9, \"petal_length\": 1.3, \"petal_width\": 0.4, \"species\": \"setosa\"}, {\"sepal_length\": 5.1, \"sepal_width\": 3.5, \"petal_length\": 1.4, \"petal_width\": 0.3, \"species\": \"setosa\"}, {\"sepal_length\": 5.7, \"sepal_width\": 3.8, \"petal_length\": 1.7, \"petal_width\": 0.3, \"species\": \"setosa\"}, {\"sepal_length\": 5.1, \"sepal_width\": 3.8, \"petal_length\": 1.5, \"petal_width\": 0.3, \"species\": \"setosa\"}, {\"sepal_length\": 5.4, \"sepal_width\": 3.4, \"petal_length\": 1.7, \"petal_width\": 0.2, \"species\": \"setosa\"}, {\"sepal_length\": 5.1, \"sepal_width\": 3.7, \"petal_length\": 1.5, \"petal_width\": 0.4, \"species\": \"setosa\"}, {\"sepal_length\": 4.6, \"sepal_width\": 3.6, \"petal_length\": 1.0, \"petal_width\": 0.2, \"species\": \"setosa\"}, {\"sepal_length\": 5.1, \"sepal_width\": 3.3, \"petal_length\": 1.7, \"petal_width\": 0.5, \"species\": \"setosa\"}, {\"sepal_length\": 4.8, \"sepal_width\": 3.4, \"petal_length\": 1.9, \"petal_width\": 0.2, \"species\": \"setosa\"}, {\"sepal_length\": 5.0, \"sepal_width\": 3.0, \"petal_length\": 1.6, \"petal_width\": 0.2, \"species\": \"setosa\"}, {\"sepal_length\": 5.0, \"sepal_width\": 3.4, \"petal_length\": 1.6, \"petal_width\": 0.4, \"species\": \"setosa\"}, {\"sepal_length\": 5.2, \"sepal_width\": 3.5, \"petal_length\": 1.5, \"petal_width\": 0.2, \"species\": \"setosa\"}, {\"sepal_length\": 5.2, \"sepal_width\": 3.4, \"petal_length\": 1.4, \"petal_width\": 0.2, \"species\": \"setosa\"}, {\"sepal_length\": 4.7, \"sepal_width\": 3.2, \"petal_length\": 1.6, \"petal_width\": 0.2, \"species\": \"setosa\"}, {\"sepal_length\": 4.8, \"sepal_width\": 3.1, \"petal_length\": 1.6, \"petal_width\": 0.2, \"species\": \"setosa\"}, {\"sepal_length\": 5.4, \"sepal_width\": 3.4, \"petal_length\": 1.5, \"petal_width\": 0.4, \"species\": \"setosa\"}, {\"sepal_length\": 5.2, \"sepal_width\": 4.1, \"petal_length\": 1.5, \"petal_width\": 0.1, \"species\": \"setosa\"}, {\"sepal_length\": 5.5, \"sepal_width\": 4.2, \"petal_length\": 1.4, \"petal_width\": 0.2, \"species\": \"setosa\"}, {\"sepal_length\": 4.9, \"sepal_width\": 3.1, \"petal_length\": 1.5, \"petal_width\": 0.2, \"species\": \"setosa\"}, {\"sepal_length\": 5.0, \"sepal_width\": 3.2, \"petal_length\": 1.2, \"petal_width\": 0.2, \"species\": \"setosa\"}, {\"sepal_length\": 5.5, \"sepal_width\": 3.5, \"petal_length\": 1.3, \"petal_width\": 0.2, \"species\": \"setosa\"}, {\"sepal_length\": 4.9, \"sepal_width\": 3.6, \"petal_length\": 1.4, \"petal_width\": 0.1, \"species\": \"setosa\"}, {\"sepal_length\": 4.4, \"sepal_width\": 3.0, \"petal_length\": 1.3, \"petal_width\": 0.2, \"species\": \"setosa\"}, {\"sepal_length\": 5.1, \"sepal_width\": 3.4, \"petal_length\": 1.5, \"petal_width\": 0.2, \"species\": \"setosa\"}, {\"sepal_length\": 5.0, \"sepal_width\": 3.5, \"petal_length\": 1.3, \"petal_width\": 0.3, \"species\": \"setosa\"}, {\"sepal_length\": 4.5, \"sepal_width\": 2.3, \"petal_length\": 1.3, \"petal_width\": 0.3, \"species\": \"setosa\"}, {\"sepal_length\": 4.4, \"sepal_width\": 3.2, \"petal_length\": 1.3, \"petal_width\": 0.2, \"species\": \"setosa\"}, {\"sepal_length\": 5.0, \"sepal_width\": 3.5, \"petal_length\": 1.6, \"petal_width\": 0.6, \"species\": \"setosa\"}, {\"sepal_length\": 5.1, \"sepal_width\": 3.8, \"petal_length\": 1.9, \"petal_width\": 0.4, \"species\": \"setosa\"}, {\"sepal_length\": 4.8, \"sepal_width\": 3.0, \"petal_length\": 1.4, \"petal_width\": 0.3, \"species\": \"setosa\"}, {\"sepal_length\": 5.1, \"sepal_width\": 3.8, \"petal_length\": 1.6, \"petal_width\": 0.2, \"species\": \"setosa\"}, {\"sepal_length\": 4.6, \"sepal_width\": 3.2, \"petal_length\": 1.4, \"petal_width\": 0.2, \"species\": \"setosa\"}, {\"sepal_length\": 5.3, \"sepal_width\": 3.7, \"petal_length\": 1.5, \"petal_width\": 0.2, \"species\": \"setosa\"}, {\"sepal_length\": 5.0, \"sepal_width\": 3.3, \"petal_length\": 1.4, \"petal_width\": 0.2, \"species\": \"setosa\"}, {\"sepal_length\": 7.0, \"sepal_width\": 3.2, \"petal_length\": 4.7, \"petal_width\": 1.4, \"species\": \"versicolor\"}, {\"sepal_length\": 6.4, \"sepal_width\": 3.2, \"petal_length\": 4.5, \"petal_width\": 1.5, \"species\": \"versicolor\"}, {\"sepal_length\": 6.9, \"sepal_width\": 3.1, \"petal_length\": 4.9, \"petal_width\": 1.5, \"species\": \"versicolor\"}, {\"sepal_length\": 5.5, \"sepal_width\": 2.3, \"petal_length\": 4.0, \"petal_width\": 1.3, \"species\": \"versicolor\"}, {\"sepal_length\": 6.5, \"sepal_width\": 2.8, \"petal_length\": 4.6, \"petal_width\": 1.5, \"species\": \"versicolor\"}, {\"sepal_length\": 5.7, \"sepal_width\": 2.8, \"petal_length\": 4.5, \"petal_width\": 1.3, \"species\": \"versicolor\"}, {\"sepal_length\": 6.3, \"sepal_width\": 3.3, \"petal_length\": 4.7, \"petal_width\": 1.6, \"species\": \"versicolor\"}, {\"sepal_length\": 4.9, \"sepal_width\": 2.4, \"petal_length\": 3.3, \"petal_width\": 1.0, \"species\": \"versicolor\"}, {\"sepal_length\": 6.6, \"sepal_width\": 2.9, \"petal_length\": 4.6, \"petal_width\": 1.3, \"species\": \"versicolor\"}, {\"sepal_length\": 5.2, \"sepal_width\": 2.7, \"petal_length\": 3.9, \"petal_width\": 1.4, \"species\": \"versicolor\"}, {\"sepal_length\": 5.0, \"sepal_width\": 2.0, \"petal_length\": 3.5, \"petal_width\": 1.0, \"species\": \"versicolor\"}, {\"sepal_length\": 5.9, \"sepal_width\": 3.0, \"petal_length\": 4.2, \"petal_width\": 1.5, \"species\": \"versicolor\"}, {\"sepal_length\": 6.0, \"sepal_width\": 2.2, \"petal_length\": 4.0, \"petal_width\": 1.0, \"species\": \"versicolor\"}, {\"sepal_length\": 6.1, \"sepal_width\": 2.9, \"petal_length\": 4.7, \"petal_width\": 1.4, \"species\": \"versicolor\"}, {\"sepal_length\": 5.6, \"sepal_width\": 2.9, \"petal_length\": 3.6, \"petal_width\": 1.3, \"species\": \"versicolor\"}, {\"sepal_length\": 6.7, \"sepal_width\": 3.1, \"petal_length\": 4.4, \"petal_width\": 1.4, \"species\": \"versicolor\"}, {\"sepal_length\": 5.6, \"sepal_width\": 3.0, \"petal_length\": 4.5, \"petal_width\": 1.5, \"species\": \"versicolor\"}, {\"sepal_length\": 5.8, \"sepal_width\": 2.7, \"petal_length\": 4.1, \"petal_width\": 1.0, \"species\": \"versicolor\"}, {\"sepal_length\": 6.2, \"sepal_width\": 2.2, \"petal_length\": 4.5, \"petal_width\": 1.5, \"species\": \"versicolor\"}, {\"sepal_length\": 5.6, \"sepal_width\": 2.5, \"petal_length\": 3.9, \"petal_width\": 1.1, \"species\": \"versicolor\"}, {\"sepal_length\": 5.9, \"sepal_width\": 3.2, \"petal_length\": 4.8, \"petal_width\": 1.8, \"species\": \"versicolor\"}, {\"sepal_length\": 6.1, \"sepal_width\": 2.8, \"petal_length\": 4.0, \"petal_width\": 1.3, \"species\": \"versicolor\"}, {\"sepal_length\": 6.3, \"sepal_width\": 2.5, \"petal_length\": 4.9, \"petal_width\": 1.5, \"species\": \"versicolor\"}, {\"sepal_length\": 6.1, \"sepal_width\": 2.8, \"petal_length\": 4.7, \"petal_width\": 1.2, \"species\": \"versicolor\"}, {\"sepal_length\": 6.4, \"sepal_width\": 2.9, \"petal_length\": 4.3, \"petal_width\": 1.3, \"species\": \"versicolor\"}, {\"sepal_length\": 6.6, \"sepal_width\": 3.0, \"petal_length\": 4.4, \"petal_width\": 1.4, \"species\": \"versicolor\"}, {\"sepal_length\": 6.8, \"sepal_width\": 2.8, \"petal_length\": 4.8, \"petal_width\": 1.4, \"species\": \"versicolor\"}, {\"sepal_length\": 6.7, \"sepal_width\": 3.0, \"petal_length\": 5.0, \"petal_width\": 1.7, \"species\": \"versicolor\"}, {\"sepal_length\": 6.0, \"sepal_width\": 2.9, \"petal_length\": 4.5, \"petal_width\": 1.5, \"species\": \"versicolor\"}, {\"sepal_length\": 5.7, \"sepal_width\": 2.6, \"petal_length\": 3.5, \"petal_width\": 1.0, \"species\": \"versicolor\"}, {\"sepal_length\": 5.5, \"sepal_width\": 2.4, \"petal_length\": 3.8, \"petal_width\": 1.1, \"species\": \"versicolor\"}, {\"sepal_length\": 5.5, \"sepal_width\": 2.4, \"petal_length\": 3.7, \"petal_width\": 1.0, \"species\": \"versicolor\"}, {\"sepal_length\": 5.8, \"sepal_width\": 2.7, \"petal_length\": 3.9, \"petal_width\": 1.2, \"species\": \"versicolor\"}, {\"sepal_length\": 6.0, \"sepal_width\": 2.7, \"petal_length\": 5.1, \"petal_width\": 1.6, \"species\": \"versicolor\"}, {\"sepal_length\": 5.4, \"sepal_width\": 3.0, \"petal_length\": 4.5, \"petal_width\": 1.5, \"species\": \"versicolor\"}, {\"sepal_length\": 6.0, \"sepal_width\": 3.4, \"petal_length\": 4.5, \"petal_width\": 1.6, \"species\": \"versicolor\"}, {\"sepal_length\": 6.7, \"sepal_width\": 3.1, \"petal_length\": 4.7, \"petal_width\": 1.5, \"species\": \"versicolor\"}, {\"sepal_length\": 6.3, \"sepal_width\": 2.3, \"petal_length\": 4.4, \"petal_width\": 1.3, \"species\": \"versicolor\"}, {\"sepal_length\": 5.6, \"sepal_width\": 3.0, \"petal_length\": 4.1, \"petal_width\": 1.3, \"species\": \"versicolor\"}, {\"sepal_length\": 5.5, \"sepal_width\": 2.5, \"petal_length\": 4.0, \"petal_width\": 1.3, \"species\": \"versicolor\"}, {\"sepal_length\": 5.5, \"sepal_width\": 2.6, \"petal_length\": 4.4, \"petal_width\": 1.2, \"species\": \"versicolor\"}, {\"sepal_length\": 6.1, \"sepal_width\": 3.0, \"petal_length\": 4.6, \"petal_width\": 1.4, \"species\": \"versicolor\"}, {\"sepal_length\": 5.8, \"sepal_width\": 2.6, \"petal_length\": 4.0, \"petal_width\": 1.2, \"species\": \"versicolor\"}, {\"sepal_length\": 5.0, \"sepal_width\": 2.3, \"petal_length\": 3.3, \"petal_width\": 1.0, \"species\": \"versicolor\"}, {\"sepal_length\": 5.6, \"sepal_width\": 2.7, \"petal_length\": 4.2, \"petal_width\": 1.3, \"species\": \"versicolor\"}, {\"sepal_length\": 5.7, \"sepal_width\": 3.0, \"petal_length\": 4.2, \"petal_width\": 1.2, \"species\": \"versicolor\"}, {\"sepal_length\": 5.7, \"sepal_width\": 2.9, \"petal_length\": 4.2, \"petal_width\": 1.3, \"species\": \"versicolor\"}, {\"sepal_length\": 6.2, \"sepal_width\": 2.9, \"petal_length\": 4.3, \"petal_width\": 1.3, \"species\": \"versicolor\"}, {\"sepal_length\": 5.1, \"sepal_width\": 2.5, \"petal_length\": 3.0, \"petal_width\": 1.1, \"species\": \"versicolor\"}, {\"sepal_length\": 5.7, \"sepal_width\": 2.8, \"petal_length\": 4.1, \"petal_width\": 1.3, \"species\": \"versicolor\"}, {\"sepal_length\": 6.3, \"sepal_width\": 3.3, \"petal_length\": 6.0, \"petal_width\": 2.5, \"species\": \"virginica\"}, {\"sepal_length\": 5.8, \"sepal_width\": 2.7, \"petal_length\": 5.1, \"petal_width\": 1.9, \"species\": \"virginica\"}, {\"sepal_length\": 7.1, \"sepal_width\": 3.0, \"petal_length\": 5.9, \"petal_width\": 2.1, \"species\": \"virginica\"}, {\"sepal_length\": 6.3, \"sepal_width\": 2.9, \"petal_length\": 5.6, \"petal_width\": 1.8, \"species\": \"virginica\"}, {\"sepal_length\": 6.5, \"sepal_width\": 3.0, \"petal_length\": 5.8, \"petal_width\": 2.2, \"species\": \"virginica\"}, {\"sepal_length\": 7.6, \"sepal_width\": 3.0, \"petal_length\": 6.6, \"petal_width\": 2.1, \"species\": \"virginica\"}, {\"sepal_length\": 4.9, \"sepal_width\": 2.5, \"petal_length\": 4.5, \"petal_width\": 1.7, \"species\": \"virginica\"}, {\"sepal_length\": 7.3, \"sepal_width\": 2.9, \"petal_length\": 6.3, \"petal_width\": 1.8, \"species\": \"virginica\"}, {\"sepal_length\": 6.7, \"sepal_width\": 2.5, \"petal_length\": 5.8, \"petal_width\": 1.8, \"species\": \"virginica\"}, {\"sepal_length\": 7.2, \"sepal_width\": 3.6, \"petal_length\": 6.1, \"petal_width\": 2.5, \"species\": \"virginica\"}, {\"sepal_length\": 6.5, \"sepal_width\": 3.2, \"petal_length\": 5.1, \"petal_width\": 2.0, \"species\": \"virginica\"}, {\"sepal_length\": 6.4, \"sepal_width\": 2.7, \"petal_length\": 5.3, \"petal_width\": 1.9, \"species\": \"virginica\"}, {\"sepal_length\": 6.8, \"sepal_width\": 3.0, \"petal_length\": 5.5, \"petal_width\": 2.1, \"species\": \"virginica\"}, {\"sepal_length\": 5.7, \"sepal_width\": 2.5, \"petal_length\": 5.0, \"petal_width\": 2.0, \"species\": \"virginica\"}, {\"sepal_length\": 5.8, \"sepal_width\": 2.8, \"petal_length\": 5.1, \"petal_width\": 2.4, \"species\": \"virginica\"}, {\"sepal_length\": 6.4, \"sepal_width\": 3.2, \"petal_length\": 5.3, \"petal_width\": 2.3, \"species\": \"virginica\"}, {\"sepal_length\": 6.5, \"sepal_width\": 3.0, \"petal_length\": 5.5, \"petal_width\": 1.8, \"species\": \"virginica\"}, {\"sepal_length\": 7.7, \"sepal_width\": 3.8, \"petal_length\": 6.7, \"petal_width\": 2.2, \"species\": \"virginica\"}, {\"sepal_length\": 7.7, \"sepal_width\": 2.6, \"petal_length\": 6.9, \"petal_width\": 2.3, \"species\": \"virginica\"}, {\"sepal_length\": 6.0, \"sepal_width\": 2.2, \"petal_length\": 5.0, \"petal_width\": 1.5, \"species\": \"virginica\"}, {\"sepal_length\": 6.9, \"sepal_width\": 3.2, \"petal_length\": 5.7, \"petal_width\": 2.3, \"species\": \"virginica\"}, {\"sepal_length\": 5.6, \"sepal_width\": 2.8, \"petal_length\": 4.9, \"petal_width\": 2.0, \"species\": \"virginica\"}, {\"sepal_length\": 7.7, \"sepal_width\": 2.8, \"petal_length\": 6.7, \"petal_width\": 2.0, \"species\": \"virginica\"}, {\"sepal_length\": 6.3, \"sepal_width\": 2.7, \"petal_length\": 4.9, \"petal_width\": 1.8, \"species\": \"virginica\"}, {\"sepal_length\": 6.7, \"sepal_width\": 3.3, \"petal_length\": 5.7, \"petal_width\": 2.1, \"species\": \"virginica\"}, {\"sepal_length\": 7.2, \"sepal_width\": 3.2, \"petal_length\": 6.0, \"petal_width\": 1.8, \"species\": \"virginica\"}, {\"sepal_length\": 6.2, \"sepal_width\": 2.8, \"petal_length\": 4.8, \"petal_width\": 1.8, \"species\": \"virginica\"}, {\"sepal_length\": 6.1, \"sepal_width\": 3.0, \"petal_length\": 4.9, \"petal_width\": 1.8, \"species\": \"virginica\"}, {\"sepal_length\": 6.4, \"sepal_width\": 2.8, \"petal_length\": 5.6, \"petal_width\": 2.1, \"species\": \"virginica\"}, {\"sepal_length\": 7.2, \"sepal_width\": 3.0, \"petal_length\": 5.8, \"petal_width\": 1.6, \"species\": \"virginica\"}, {\"sepal_length\": 7.4, \"sepal_width\": 2.8, \"petal_length\": 6.1, \"petal_width\": 1.9, \"species\": \"virginica\"}, {\"sepal_length\": 7.9, \"sepal_width\": 3.8, \"petal_length\": 6.4, \"petal_width\": 2.0, \"species\": \"virginica\"}, {\"sepal_length\": 6.4, \"sepal_width\": 2.8, \"petal_length\": 5.6, \"petal_width\": 2.2, \"species\": \"virginica\"}, {\"sepal_length\": 6.3, \"sepal_width\": 2.8, \"petal_length\": 5.1, \"petal_width\": 1.5, \"species\": \"virginica\"}, {\"sepal_length\": 6.1, \"sepal_width\": 2.6, \"petal_length\": 5.6, \"petal_width\": 1.4, \"species\": \"virginica\"}, {\"sepal_length\": 7.7, \"sepal_width\": 3.0, \"petal_length\": 6.1, \"petal_width\": 2.3, \"species\": \"virginica\"}, {\"sepal_length\": 6.3, \"sepal_width\": 3.4, \"petal_length\": 5.6, \"petal_width\": 2.4, \"species\": \"virginica\"}, {\"sepal_length\": 6.4, \"sepal_width\": 3.1, \"petal_length\": 5.5, \"petal_width\": 1.8, \"species\": \"virginica\"}, {\"sepal_length\": 6.0, \"sepal_width\": 3.0, \"petal_length\": 4.8, \"petal_width\": 1.8, \"species\": \"virginica\"}, {\"sepal_length\": 6.9, \"sepal_width\": 3.1, \"petal_length\": 5.4, \"petal_width\": 2.1, \"species\": \"virginica\"}, {\"sepal_length\": 6.7, \"sepal_width\": 3.1, \"petal_length\": 5.6, \"petal_width\": 2.4, \"species\": \"virginica\"}, {\"sepal_length\": 6.9, \"sepal_width\": 3.1, \"petal_length\": 5.1, \"petal_width\": 2.3, \"species\": \"virginica\"}, {\"sepal_length\": 5.8, \"sepal_width\": 2.7, \"petal_length\": 5.1, \"petal_width\": 1.9, \"species\": \"virginica\"}, {\"sepal_length\": 6.8, \"sepal_width\": 3.2, \"petal_length\": 5.9, \"petal_width\": 2.3, \"species\": \"virginica\"}, {\"sepal_length\": 6.7, \"sepal_width\": 3.3, \"petal_length\": 5.7, \"petal_width\": 2.5, \"species\": \"virginica\"}, {\"sepal_length\": 6.7, \"sepal_width\": 3.0, \"petal_length\": 5.2, \"petal_width\": 2.3, \"species\": \"virginica\"}, {\"sepal_length\": 6.3, \"sepal_width\": 2.5, \"petal_length\": 5.0, \"petal_width\": 1.9, \"species\": \"virginica\"}, {\"sepal_length\": 6.5, \"sepal_width\": 3.0, \"petal_length\": 5.2, \"petal_width\": 2.0, \"species\": \"virginica\"}, {\"sepal_length\": 6.2, \"sepal_width\": 3.4, \"petal_length\": 5.4, \"petal_width\": 2.3, \"species\": \"virginica\"}, {\"sepal_length\": 5.9, \"sepal_width\": 3.0, \"petal_length\": 5.1, \"petal_width\": 1.8, \"species\": \"virginica\"}]}}, {\"mode\": \"vega-lite\"});\n",
       "</script>"
      ],
      "text/plain": [
       "alt.Chart(...)"
      ]
     },
     "execution_count": 4,
     "metadata": {},
     "output_type": "execute_result"
    }
   ],
   "source": [
    "## Altair by default inside Polars\n",
    "(\n",
    "df.plot.point(\n",
    "                x=\"sepal_length\",\n",
    "                y=\"sepal_width\",\n",
    "                color=\"species\",\n",
    "            )\n",
    "            .properties(width=500)\n",
    "            .configure_scale(zero=False)\n",
    ")"
   ]
  },
  {
   "cell_type": "markdown",
   "metadata": {
    "id": "TZdHpWbJ3Dmp"
   },
   "source": [
    "### hvplot"
   ]
  },
  {
   "cell_type": "code",
   "execution_count": 5,
   "metadata": {
    "colab": {
     "base_uri": "https://localhost:8080/",
     "height": 327
    },
    "executionInfo": {
     "elapsed": 549,
     "status": "ok",
     "timestamp": 1733570789164,
     "user": {
      "displayName": "Daniele Grotti",
      "userId": "05993002232846155126"
     },
     "user_tz": -60
    },
    "id": "Lnt1SslO3Dmp",
    "outputId": "43f83b14-2186-4b26-efb5-75f7b7211978"
   },
   "outputs": [
    {
     "data": {
      "text/html": [
       "<script type=\"esms-options\">{\"shimMode\": true}</script><style>*[data-root-id],\n",
       "*[data-root-id] > * {\n",
       "  box-sizing: border-box;\n",
       "  font-family: var(--jp-ui-font-family);\n",
       "  font-size: var(--jp-ui-font-size1);\n",
       "  color: var(--vscode-editor-foreground, var(--jp-ui-font-color1));\n",
       "}\n",
       "\n",
       "/* Override VSCode background color */\n",
       ".cell-output-ipywidget-background:has(\n",
       "    > .cell-output-ipywidget-background > .lm-Widget > *[data-root-id]\n",
       "  ),\n",
       ".cell-output-ipywidget-background:has(> .lm-Widget > *[data-root-id]) {\n",
       "  background-color: transparent !important;\n",
       "}\n",
       "</style>"
      ]
     },
     "metadata": {},
     "output_type": "display_data"
    },
    {
     "data": {
      "application/javascript": "(function(root) {\n  function now() {\n    return new Date();\n  }\n\n  const force = true;\n  const py_version = '3.6.1'.replace('rc', '-rc.').replace('.dev', '-dev.');\n  const reloading = false;\n  const Bokeh = root.Bokeh;\n\n  // Set a timeout for this load but only if we are not already initializing\n  if (typeof (root._bokeh_timeout) === \"undefined\" || (force || !root._bokeh_is_initializing)) {\n    root._bokeh_timeout = Date.now() + 5000;\n    root._bokeh_failed_load = false;\n  }\n\n  function run_callbacks() {\n    try {\n      root._bokeh_onload_callbacks.forEach(function(callback) {\n        if (callback != null)\n          callback();\n      });\n    } finally {\n      delete root._bokeh_onload_callbacks;\n    }\n    console.debug(\"Bokeh: all callbacks have finished\");\n  }\n\n  function load_libs(css_urls, js_urls, js_modules, js_exports, callback) {\n    if (css_urls == null) css_urls = [];\n    if (js_urls == null) js_urls = [];\n    if (js_modules == null) js_modules = [];\n    if (js_exports == null) js_exports = {};\n\n    root._bokeh_onload_callbacks.push(callback);\n\n    if (root._bokeh_is_loading > 0) {\n      // Don't load bokeh if it is still initializing\n      console.debug(\"Bokeh: BokehJS is being loaded, scheduling callback at\", now());\n      return null;\n    } else if (js_urls.length === 0 && js_modules.length === 0 && Object.keys(js_exports).length === 0) {\n      // There is nothing to load\n      run_callbacks();\n      return null;\n    }\n\n    function on_load() {\n      root._bokeh_is_loading--;\n      if (root._bokeh_is_loading === 0) {\n        console.debug(\"Bokeh: all BokehJS libraries/stylesheets loaded\");\n        run_callbacks()\n      }\n    }\n    window._bokeh_on_load = on_load\n\n    function on_error(e) {\n      const src_el = e.srcElement\n      console.error(\"failed to load \" + (src_el.href || src_el.src));\n    }\n\n    const skip = [];\n    if (window.requirejs) {\n      window.requirejs.config({'packages': {}, 'paths': {}, 'shim': {}});\n      root._bokeh_is_loading = css_urls.length + 0;\n    } else {\n      root._bokeh_is_loading = css_urls.length + js_urls.length + js_modules.length + Object.keys(js_exports).length;\n    }\n\n    const existing_stylesheets = []\n    const links = document.getElementsByTagName('link')\n    for (let i = 0; i < links.length; i++) {\n      const link = links[i]\n      if (link.href != null) {\n        existing_stylesheets.push(link.href)\n      }\n    }\n    for (let i = 0; i < css_urls.length; i++) {\n      const url = css_urls[i];\n      const escaped = encodeURI(url)\n      if (existing_stylesheets.indexOf(escaped) !== -1) {\n        on_load()\n        continue;\n      }\n      const element = document.createElement(\"link\");\n      element.onload = on_load;\n      element.onerror = on_error;\n      element.rel = \"stylesheet\";\n      element.type = \"text/css\";\n      element.href = url;\n      console.debug(\"Bokeh: injecting link tag for BokehJS stylesheet: \", url);\n      document.body.appendChild(element);\n    }    var existing_scripts = []\n    const scripts = document.getElementsByTagName('script')\n    for (let i = 0; i < scripts.length; i++) {\n      var script = scripts[i]\n      if (script.src != null) {\n        existing_scripts.push(script.src)\n      }\n    }\n    for (let i = 0; i < js_urls.length; i++) {\n      const url = js_urls[i];\n      const escaped = encodeURI(url)\n      if (skip.indexOf(escaped) !== -1 || existing_scripts.indexOf(escaped) !== -1) {\n        if (!window.requirejs) {\n          on_load();\n        }\n        continue;\n      }\n      const element = document.createElement('script');\n      element.onload = on_load;\n      element.onerror = on_error;\n      element.async = false;\n      element.src = url;\n      console.debug(\"Bokeh: injecting script tag for BokehJS library: \", url);\n      document.head.appendChild(element);\n    }\n    for (let i = 0; i < js_modules.length; i++) {\n      const url = js_modules[i];\n      const escaped = encodeURI(url)\n      if (skip.indexOf(escaped) !== -1 || existing_scripts.indexOf(escaped) !== -1) {\n        if (!window.requirejs) {\n          on_load();\n        }\n        continue;\n      }\n      var element = document.createElement('script');\n      element.onload = on_load;\n      element.onerror = on_error;\n      element.async = false;\n      element.src = url;\n      element.type = \"module\";\n      console.debug(\"Bokeh: injecting script tag for BokehJS library: \", url);\n      document.head.appendChild(element);\n    }\n    for (const name in js_exports) {\n      const url = js_exports[name];\n      const escaped = encodeURI(url)\n      if (skip.indexOf(escaped) >= 0 || root[name] != null) {\n        if (!window.requirejs) {\n          on_load();\n        }\n        continue;\n      }\n      var element = document.createElement('script');\n      element.onerror = on_error;\n      element.async = false;\n      element.type = \"module\";\n      console.debug(\"Bokeh: injecting script tag for BokehJS library: \", url);\n      element.textContent = `\n      import ${name} from \"${url}\"\n      window.${name} = ${name}\n      window._bokeh_on_load()\n      `\n      document.head.appendChild(element);\n    }\n    if (!js_urls.length && !js_modules.length) {\n      on_load()\n    }\n  };\n\n  function inject_raw_css(css) {\n    const element = document.createElement(\"style\");\n    element.appendChild(document.createTextNode(css));\n    document.body.appendChild(element);\n  }\n\n  const js_urls = [\"https://cdn.holoviz.org/panel/1.5.3/dist/bundled/reactiveesm/es-module-shims@^1.10.0/dist/es-module-shims.min.js\", \"https://cdn.bokeh.org/bokeh/release/bokeh-3.6.1.min.js\", \"https://cdn.bokeh.org/bokeh/release/bokeh-gl-3.6.1.min.js\", \"https://cdn.bokeh.org/bokeh/release/bokeh-widgets-3.6.1.min.js\", \"https://cdn.bokeh.org/bokeh/release/bokeh-tables-3.6.1.min.js\", \"https://cdn.holoviz.org/panel/1.5.3/dist/panel.min.js\"];\n  const js_modules = [];\n  const js_exports = {};\n  const css_urls = [];\n  const inline_js = [    function(Bokeh) {\n      Bokeh.set_log_level(\"info\");\n    },\nfunction(Bokeh) {} // ensure no trailing comma for IE\n  ];\n\n  function run_inline_js() {\n    if ((root.Bokeh !== undefined) || (force === true)) {\n      for (let i = 0; i < inline_js.length; i++) {\n        try {\n          inline_js[i].call(root, root.Bokeh);\n        } catch(e) {\n          if (!reloading) {\n            throw e;\n          }\n        }\n      }\n      // Cache old bokeh versions\n      if (Bokeh != undefined && !reloading) {\n        var NewBokeh = root.Bokeh;\n        if (Bokeh.versions === undefined) {\n          Bokeh.versions = new Map();\n        }\n        if (NewBokeh.version !== Bokeh.version) {\n          Bokeh.versions.set(NewBokeh.version, NewBokeh)\n        }\n        root.Bokeh = Bokeh;\n      }\n    } else if (Date.now() < root._bokeh_timeout) {\n      setTimeout(run_inline_js, 100);\n    } else if (!root._bokeh_failed_load) {\n      console.log(\"Bokeh: BokehJS failed to load within specified timeout.\");\n      root._bokeh_failed_load = true;\n    }\n    root._bokeh_is_initializing = false\n  }\n\n  function load_or_wait() {\n    // Implement a backoff loop that tries to ensure we do not load multiple\n    // versions of Bokeh and its dependencies at the same time.\n    // In recent versions we use the root._bokeh_is_initializing flag\n    // to determine whether there is an ongoing attempt to initialize\n    // bokeh, however for backward compatibility we also try to ensure\n    // that we do not start loading a newer (Panel>=1.0 and Bokeh>3) version\n    // before older versions are fully initialized.\n    if (root._bokeh_is_initializing && Date.now() > root._bokeh_timeout) {\n      // If the timeout and bokeh was not successfully loaded we reset\n      // everything and try loading again\n      root._bokeh_timeout = Date.now() + 5000;\n      root._bokeh_is_initializing = false;\n      root._bokeh_onload_callbacks = undefined;\n      root._bokeh_is_loading = 0\n      console.log(\"Bokeh: BokehJS was loaded multiple times but one version failed to initialize.\");\n      load_or_wait();\n    } else if (root._bokeh_is_initializing || (typeof root._bokeh_is_initializing === \"undefined\" && root._bokeh_onload_callbacks !== undefined)) {\n      setTimeout(load_or_wait, 100);\n    } else {\n      root._bokeh_is_initializing = true\n      root._bokeh_onload_callbacks = []\n      const bokeh_loaded = root.Bokeh != null && (root.Bokeh.version === py_version || (root.Bokeh.versions !== undefined && root.Bokeh.versions.has(py_version)));\n      if (!reloading && !bokeh_loaded) {\n        if (root.Bokeh) {\n          root.Bokeh = undefined;\n        }\n        console.debug(\"Bokeh: BokehJS not loaded, scheduling load and callback at\", now());\n      }\n      load_libs(css_urls, js_urls, js_modules, js_exports, function() {\n        console.debug(\"Bokeh: BokehJS plotting callback run at\", now());\n        run_inline_js();\n      });\n    }\n  }\n  // Give older versions of the autoload script a head-start to ensure\n  // they initialize before we start loading newer version.\n  setTimeout(load_or_wait, 100)\n}(window));",
      "application/vnd.holoviews_load.v0+json": ""
     },
     "metadata": {},
     "output_type": "display_data"
    },
    {
     "data": {
      "application/javascript": "\nif ((window.PyViz === undefined) || (window.PyViz instanceof HTMLElement)) {\n  window.PyViz = {comms: {}, comm_status:{}, kernels:{}, receivers: {}, plot_index: []}\n}\n\n\n    function JupyterCommManager() {\n    }\n\n    JupyterCommManager.prototype.register_target = function(plot_id, comm_id, msg_handler) {\n      if (window.comm_manager || ((window.Jupyter !== undefined) && (Jupyter.notebook.kernel != null))) {\n        var comm_manager = window.comm_manager || Jupyter.notebook.kernel.comm_manager;\n        comm_manager.register_target(comm_id, function(comm) {\n          comm.on_msg(msg_handler);\n        });\n      } else if ((plot_id in window.PyViz.kernels) && (window.PyViz.kernels[plot_id])) {\n        window.PyViz.kernels[plot_id].registerCommTarget(comm_id, function(comm) {\n          comm.onMsg = msg_handler;\n        });\n      } else if (typeof google != 'undefined' && google.colab.kernel != null) {\n        google.colab.kernel.comms.registerTarget(comm_id, (comm) => {\n          var messages = comm.messages[Symbol.asyncIterator]();\n          function processIteratorResult(result) {\n            var message = result.value;\n            console.log(message)\n            var content = {data: message.data, comm_id};\n            var buffers = []\n            for (var buffer of message.buffers || []) {\n              buffers.push(new DataView(buffer))\n            }\n            var metadata = message.metadata || {};\n            var msg = {content, buffers, metadata}\n            msg_handler(msg);\n            return messages.next().then(processIteratorResult);\n          }\n          return messages.next().then(processIteratorResult);\n        })\n      }\n    }\n\n    JupyterCommManager.prototype.get_client_comm = function(plot_id, comm_id, msg_handler) {\n      if (comm_id in window.PyViz.comms) {\n        return window.PyViz.comms[comm_id];\n      } else if (window.comm_manager || ((window.Jupyter !== undefined) && (Jupyter.notebook.kernel != null))) {\n        var comm_manager = window.comm_manager || Jupyter.notebook.kernel.comm_manager;\n        var comm = comm_manager.new_comm(comm_id, {}, {}, {}, comm_id);\n        if (msg_handler) {\n          comm.on_msg(msg_handler);\n        }\n      } else if ((plot_id in window.PyViz.kernels) && (window.PyViz.kernels[plot_id])) {\n        var comm = window.PyViz.kernels[plot_id].connectToComm(comm_id);\n        comm.open();\n        if (msg_handler) {\n          comm.onMsg = msg_handler;\n        }\n      } else if (typeof google != 'undefined' && google.colab.kernel != null) {\n        var comm_promise = google.colab.kernel.comms.open(comm_id)\n        comm_promise.then((comm) => {\n          window.PyViz.comms[comm_id] = comm;\n          if (msg_handler) {\n            var messages = comm.messages[Symbol.asyncIterator]();\n            function processIteratorResult(result) {\n              var message = result.value;\n              var content = {data: message.data};\n              var metadata = message.metadata || {comm_id};\n              var msg = {content, metadata}\n              msg_handler(msg);\n              return messages.next().then(processIteratorResult);\n            }\n            return messages.next().then(processIteratorResult);\n          }\n        }) \n        var sendClosure = (data, metadata, buffers, disposeOnDone) => {\n          return comm_promise.then((comm) => {\n            comm.send(data, metadata, buffers, disposeOnDone);\n          });\n        };\n        var comm = {\n          send: sendClosure\n        };\n      }\n      window.PyViz.comms[comm_id] = comm;\n      return comm;\n    }\n    window.PyViz.comm_manager = new JupyterCommManager();\n    \n\n\nvar JS_MIME_TYPE = 'application/javascript';\nvar HTML_MIME_TYPE = 'text/html';\nvar EXEC_MIME_TYPE = 'application/vnd.holoviews_exec.v0+json';\nvar CLASS_NAME = 'output';\n\n/**\n * Render data to the DOM node\n */\nfunction render(props, node) {\n  var div = document.createElement(\"div\");\n  var script = document.createElement(\"script\");\n  node.appendChild(div);\n  node.appendChild(script);\n}\n\n/**\n * Handle when a new output is added\n */\nfunction handle_add_output(event, handle) {\n  var output_area = handle.output_area;\n  var output = handle.output;\n  if ((output.data == undefined) || (!output.data.hasOwnProperty(EXEC_MIME_TYPE))) {\n    return\n  }\n  var id = output.metadata[EXEC_MIME_TYPE][\"id\"];\n  var toinsert = output_area.element.find(\".\" + CLASS_NAME.split(' ')[0]);\n  if (id !== undefined) {\n    var nchildren = toinsert.length;\n    var html_node = toinsert[nchildren-1].children[0];\n    html_node.innerHTML = output.data[HTML_MIME_TYPE];\n    var scripts = [];\n    var nodelist = html_node.querySelectorAll(\"script\");\n    for (var i in nodelist) {\n      if (nodelist.hasOwnProperty(i)) {\n        scripts.push(nodelist[i])\n      }\n    }\n\n    scripts.forEach( function (oldScript) {\n      var newScript = document.createElement(\"script\");\n      var attrs = [];\n      var nodemap = oldScript.attributes;\n      for (var j in nodemap) {\n        if (nodemap.hasOwnProperty(j)) {\n          attrs.push(nodemap[j])\n        }\n      }\n      attrs.forEach(function(attr) { newScript.setAttribute(attr.name, attr.value) });\n      newScript.appendChild(document.createTextNode(oldScript.innerHTML));\n      oldScript.parentNode.replaceChild(newScript, oldScript);\n    });\n    if (JS_MIME_TYPE in output.data) {\n      toinsert[nchildren-1].children[1].textContent = output.data[JS_MIME_TYPE];\n    }\n    output_area._hv_plot_id = id;\n    if ((window.Bokeh !== undefined) && (id in Bokeh.index)) {\n      window.PyViz.plot_index[id] = Bokeh.index[id];\n    } else {\n      window.PyViz.plot_index[id] = null;\n    }\n  } else if (output.metadata[EXEC_MIME_TYPE][\"server_id\"] !== undefined) {\n    var bk_div = document.createElement(\"div\");\n    bk_div.innerHTML = output.data[HTML_MIME_TYPE];\n    var script_attrs = bk_div.children[0].attributes;\n    for (var i = 0; i < script_attrs.length; i++) {\n      toinsert[toinsert.length - 1].childNodes[1].setAttribute(script_attrs[i].name, script_attrs[i].value);\n    }\n    // store reference to server id on output_area\n    output_area._bokeh_server_id = output.metadata[EXEC_MIME_TYPE][\"server_id\"];\n  }\n}\n\n/**\n * Handle when an output is cleared or removed\n */\nfunction handle_clear_output(event, handle) {\n  var id = handle.cell.output_area._hv_plot_id;\n  var server_id = handle.cell.output_area._bokeh_server_id;\n  if (((id === undefined) || !(id in PyViz.plot_index)) && (server_id !== undefined)) { return; }\n  var comm = window.PyViz.comm_manager.get_client_comm(\"hv-extension-comm\", \"hv-extension-comm\", function () {});\n  if (server_id !== null) {\n    comm.send({event_type: 'server_delete', 'id': server_id});\n    return;\n  } else if (comm !== null) {\n    comm.send({event_type: 'delete', 'id': id});\n  }\n  delete PyViz.plot_index[id];\n  if ((window.Bokeh !== undefined) & (id in window.Bokeh.index)) {\n    var doc = window.Bokeh.index[id].model.document\n    doc.clear();\n    const i = window.Bokeh.documents.indexOf(doc);\n    if (i > -1) {\n      window.Bokeh.documents.splice(i, 1);\n    }\n  }\n}\n\n/**\n * Handle kernel restart event\n */\nfunction handle_kernel_cleanup(event, handle) {\n  delete PyViz.comms[\"hv-extension-comm\"];\n  window.PyViz.plot_index = {}\n}\n\n/**\n * Handle update_display_data messages\n */\nfunction handle_update_output(event, handle) {\n  handle_clear_output(event, {cell: {output_area: handle.output_area}})\n  handle_add_output(event, handle)\n}\n\nfunction register_renderer(events, OutputArea) {\n  function append_mime(data, metadata, element) {\n    // create a DOM node to render to\n    var toinsert = this.create_output_subarea(\n    metadata,\n    CLASS_NAME,\n    EXEC_MIME_TYPE\n    );\n    this.keyboard_manager.register_events(toinsert);\n    // Render to node\n    var props = {data: data, metadata: metadata[EXEC_MIME_TYPE]};\n    render(props, toinsert[0]);\n    element.append(toinsert);\n    return toinsert\n  }\n\n  events.on('output_added.OutputArea', handle_add_output);\n  events.on('output_updated.OutputArea', handle_update_output);\n  events.on('clear_output.CodeCell', handle_clear_output);\n  events.on('delete.Cell', handle_clear_output);\n  events.on('kernel_ready.Kernel', handle_kernel_cleanup);\n\n  OutputArea.prototype.register_mime_type(EXEC_MIME_TYPE, append_mime, {\n    safe: true,\n    index: 0\n  });\n}\n\nif (window.Jupyter !== undefined) {\n  try {\n    var events = require('base/js/events');\n    var OutputArea = require('notebook/js/outputarea').OutputArea;\n    if (OutputArea.prototype.mime_types().indexOf(EXEC_MIME_TYPE) == -1) {\n      register_renderer(events, OutputArea);\n    }\n  } catch(err) {\n  }\n}\n",
      "application/vnd.holoviews_load.v0+json": ""
     },
     "metadata": {},
     "output_type": "display_data"
    },
    {
     "data": {
      "application/vnd.holoviews_exec.v0+json": "",
      "text/html": [
       "<div id='7bd6614f-71e2-4f4f-b302-101616795914'>\n",
       "  <div id=\"b33cedc3-c566-4649-97c9-47785875d947\" data-root-id=\"7bd6614f-71e2-4f4f-b302-101616795914\" style=\"display: contents;\"></div>\n",
       "</div>\n",
       "<script type=\"application/javascript\">(function(root) {\n",
       "  var docs_json = {\"c8106e32-cdb1-4e24-8925-13e74afbbf13\":{\"version\":\"3.6.1\",\"title\":\"Bokeh Application\",\"roots\":[{\"type\":\"object\",\"name\":\"panel.models.browser.BrowserInfo\",\"id\":\"7bd6614f-71e2-4f4f-b302-101616795914\"},{\"type\":\"object\",\"name\":\"panel.models.comm_manager.CommManager\",\"id\":\"52fce0dc-2641-456f-96e1-5331ca153107\",\"attributes\":{\"plot_id\":\"7bd6614f-71e2-4f4f-b302-101616795914\",\"comm_id\":\"ecd8e288a7a44244bc7ff760a105d0b1\",\"client_comm_id\":\"3f6d69669d514b5d85198efd2ad2a15a\"}}],\"defs\":[{\"type\":\"model\",\"name\":\"ReactiveHTML1\"},{\"type\":\"model\",\"name\":\"FlexBox1\",\"properties\":[{\"name\":\"align_content\",\"kind\":\"Any\",\"default\":\"flex-start\"},{\"name\":\"align_items\",\"kind\":\"Any\",\"default\":\"flex-start\"},{\"name\":\"flex_direction\",\"kind\":\"Any\",\"default\":\"row\"},{\"name\":\"flex_wrap\",\"kind\":\"Any\",\"default\":\"wrap\"},{\"name\":\"gap\",\"kind\":\"Any\",\"default\":\"\"},{\"name\":\"justify_content\",\"kind\":\"Any\",\"default\":\"flex-start\"}]},{\"type\":\"model\",\"name\":\"FloatPanel1\",\"properties\":[{\"name\":\"config\",\"kind\":\"Any\",\"default\":{\"type\":\"map\"}},{\"name\":\"contained\",\"kind\":\"Any\",\"default\":true},{\"name\":\"position\",\"kind\":\"Any\",\"default\":\"right-top\"},{\"name\":\"offsetx\",\"kind\":\"Any\",\"default\":null},{\"name\":\"offsety\",\"kind\":\"Any\",\"default\":null},{\"name\":\"theme\",\"kind\":\"Any\",\"default\":\"primary\"},{\"name\":\"status\",\"kind\":\"Any\",\"default\":\"normalized\"}]},{\"type\":\"model\",\"name\":\"GridStack1\",\"properties\":[{\"name\":\"mode\",\"kind\":\"Any\",\"default\":\"warn\"},{\"name\":\"ncols\",\"kind\":\"Any\",\"default\":null},{\"name\":\"nrows\",\"kind\":\"Any\",\"default\":null},{\"name\":\"allow_resize\",\"kind\":\"Any\",\"default\":true},{\"name\":\"allow_drag\",\"kind\":\"Any\",\"default\":true},{\"name\":\"state\",\"kind\":\"Any\",\"default\":[]}]},{\"type\":\"model\",\"name\":\"drag1\",\"properties\":[{\"name\":\"slider_width\",\"kind\":\"Any\",\"default\":5},{\"name\":\"slider_color\",\"kind\":\"Any\",\"default\":\"black\"},{\"name\":\"value\",\"kind\":\"Any\",\"default\":50}]},{\"type\":\"model\",\"name\":\"click1\",\"properties\":[{\"name\":\"terminal_output\",\"kind\":\"Any\",\"default\":\"\"},{\"name\":\"debug_name\",\"kind\":\"Any\",\"default\":\"\"},{\"name\":\"clears\",\"kind\":\"Any\",\"default\":0}]},{\"type\":\"model\",\"name\":\"FastWrapper1\",\"properties\":[{\"name\":\"object\",\"kind\":\"Any\",\"default\":null},{\"name\":\"style\",\"kind\":\"Any\",\"default\":null}]},{\"type\":\"model\",\"name\":\"NotificationAreaBase1\",\"properties\":[{\"name\":\"js_events\",\"kind\":\"Any\",\"default\":{\"type\":\"map\"}},{\"name\":\"position\",\"kind\":\"Any\",\"default\":\"bottom-right\"},{\"name\":\"_clear\",\"kind\":\"Any\",\"default\":0}]},{\"type\":\"model\",\"name\":\"NotificationArea1\",\"properties\":[{\"name\":\"js_events\",\"kind\":\"Any\",\"default\":{\"type\":\"map\"}},{\"name\":\"notifications\",\"kind\":\"Any\",\"default\":[]},{\"name\":\"position\",\"kind\":\"Any\",\"default\":\"bottom-right\"},{\"name\":\"_clear\",\"kind\":\"Any\",\"default\":0},{\"name\":\"types\",\"kind\":\"Any\",\"default\":[{\"type\":\"map\",\"entries\":[[\"type\",\"warning\"],[\"background\",\"#ffc107\"],[\"icon\",{\"type\":\"map\",\"entries\":[[\"className\",\"fas fa-exclamation-triangle\"],[\"tagName\",\"i\"],[\"color\",\"white\"]]}]]},{\"type\":\"map\",\"entries\":[[\"type\",\"info\"],[\"background\",\"#007bff\"],[\"icon\",{\"type\":\"map\",\"entries\":[[\"className\",\"fas fa-info-circle\"],[\"tagName\",\"i\"],[\"color\",\"white\"]]}]]}]}]},{\"type\":\"model\",\"name\":\"Notification\",\"properties\":[{\"name\":\"background\",\"kind\":\"Any\",\"default\":null},{\"name\":\"duration\",\"kind\":\"Any\",\"default\":3000},{\"name\":\"icon\",\"kind\":\"Any\",\"default\":null},{\"name\":\"message\",\"kind\":\"Any\",\"default\":\"\"},{\"name\":\"notification_type\",\"kind\":\"Any\",\"default\":null},{\"name\":\"_destroyed\",\"kind\":\"Any\",\"default\":false}]},{\"type\":\"model\",\"name\":\"TemplateActions1\",\"properties\":[{\"name\":\"open_modal\",\"kind\":\"Any\",\"default\":0},{\"name\":\"close_modal\",\"kind\":\"Any\",\"default\":0}]},{\"type\":\"model\",\"name\":\"BootstrapTemplateActions1\",\"properties\":[{\"name\":\"open_modal\",\"kind\":\"Any\",\"default\":0},{\"name\":\"close_modal\",\"kind\":\"Any\",\"default\":0}]},{\"type\":\"model\",\"name\":\"TemplateEditor1\",\"properties\":[{\"name\":\"layout\",\"kind\":\"Any\",\"default\":[]}]},{\"type\":\"model\",\"name\":\"MaterialTemplateActions1\",\"properties\":[{\"name\":\"open_modal\",\"kind\":\"Any\",\"default\":0},{\"name\":\"close_modal\",\"kind\":\"Any\",\"default\":0}]},{\"type\":\"model\",\"name\":\"ReactiveESM1\"},{\"type\":\"model\",\"name\":\"JSComponent1\"},{\"type\":\"model\",\"name\":\"ReactComponent1\"},{\"type\":\"model\",\"name\":\"AnyWidgetComponent1\"},{\"type\":\"model\",\"name\":\"request_value1\",\"properties\":[{\"name\":\"fill\",\"kind\":\"Any\",\"default\":\"none\"},{\"name\":\"_synced\",\"kind\":\"Any\",\"default\":null},{\"name\":\"_request_sync\",\"kind\":\"Any\",\"default\":0}]}]}};\n",
       "  var render_items = [{\"docid\":\"c8106e32-cdb1-4e24-8925-13e74afbbf13\",\"roots\":{\"7bd6614f-71e2-4f4f-b302-101616795914\":\"b33cedc3-c566-4649-97c9-47785875d947\"},\"root_ids\":[\"7bd6614f-71e2-4f4f-b302-101616795914\"]}];\n",
       "  var docs = Object.values(docs_json)\n",
       "  if (!docs) {\n",
       "    return\n",
       "  }\n",
       "  const py_version = docs[0].version.replace('rc', '-rc.').replace('.dev', '-dev.')\n",
       "  async function embed_document(root) {\n",
       "    var Bokeh = get_bokeh(root)\n",
       "    await Bokeh.embed.embed_items_notebook(docs_json, render_items);\n",
       "    for (const render_item of render_items) {\n",
       "      for (const root_id of render_item.root_ids) {\n",
       "\tconst id_el = document.getElementById(root_id)\n",
       "\tif (id_el.children.length && id_el.children[0].hasAttribute('data-root-id')) {\n",
       "\t  const root_el = id_el.children[0]\n",
       "\t  root_el.id = root_el.id + '-rendered'\n",
       "\t  for (const child of root_el.children) {\n",
       "            // Ensure JupyterLab does not capture keyboard shortcuts\n",
       "            // see: https://jupyterlab.readthedocs.io/en/4.1.x/extension/notebook.html#keyboard-interaction-model\n",
       "\t    child.setAttribute('data-lm-suppress-shortcuts', 'true')\n",
       "\t  }\n",
       "\t}\n",
       "      }\n",
       "    }\n",
       "  }\n",
       "  function get_bokeh(root) {\n",
       "    if (root.Bokeh === undefined) {\n",
       "      return null\n",
       "    } else if (root.Bokeh.version !== py_version) {\n",
       "      if (root.Bokeh.versions === undefined || !root.Bokeh.versions.has(py_version)) {\n",
       "\treturn null\n",
       "      }\n",
       "      return root.Bokeh.versions.get(py_version);\n",
       "    } else if (root.Bokeh.version === py_version) {\n",
       "      return root.Bokeh\n",
       "    }\n",
       "    return null\n",
       "  }\n",
       "  function is_loaded(root) {\n",
       "    var Bokeh = get_bokeh(root)\n",
       "    return (Bokeh != null && Bokeh.Panel !== undefined)\n",
       "  }\n",
       "  if (is_loaded(root)) {\n",
       "    embed_document(root);\n",
       "  } else {\n",
       "    var attempts = 0;\n",
       "    var timer = setInterval(function(root) {\n",
       "      if (is_loaded(root)) {\n",
       "        clearInterval(timer);\n",
       "        embed_document(root);\n",
       "      } else if (document.readyState == \"complete\") {\n",
       "        attempts++;\n",
       "        if (attempts > 200) {\n",
       "          clearInterval(timer);\n",
       "\t  var Bokeh = get_bokeh(root)\n",
       "\t  if (Bokeh == null || Bokeh.Panel == null) {\n",
       "            console.warn(\"Panel: ERROR: Unable to run Panel code because Bokeh or Panel library is missing\");\n",
       "\t  } else {\n",
       "\t    console.warn(\"Panel: WARNING: Attempting to render but not all required libraries could be resolved.\")\n",
       "\t    embed_document(root)\n",
       "\t  }\n",
       "        }\n",
       "      }\n",
       "    }, 25, root)\n",
       "  }\n",
       "})(window);</script>"
      ]
     },
     "metadata": {
      "application/vnd.holoviews_exec.v0+json": {
       "id": "7bd6614f-71e2-4f4f-b302-101616795914"
      }
     },
     "output_type": "display_data"
    },
    {
     "data": {},
     "metadata": {},
     "output_type": "display_data"
    },
    {
     "data": {
      "application/vnd.holoviews_exec.v0+json": "",
      "text/html": [
       "<div id='00589bf2-8289-4465-82a4-f8b170380871'>\n",
       "  <div id=\"c0890e22-291b-4fcb-b77f-d9320c2f0ad9\" data-root-id=\"00589bf2-8289-4465-82a4-f8b170380871\" style=\"display: contents;\"></div>\n",
       "</div>\n",
       "<script type=\"application/javascript\">(function(root) {\n",
       "  var docs_json = {\"07fb1f46-f464-448b-a952-bff7f4804377\":{\"version\":\"3.6.1\",\"title\":\"Bokeh Application\",\"roots\":[{\"type\":\"object\",\"name\":\"Row\",\"id\":\"00589bf2-8289-4465-82a4-f8b170380871\",\"attributes\":{\"name\":\"Row00301\",\"tags\":[\"embedded\"],\"stylesheets\":[\"\\n:host(.pn-loading):before, .pn-loading:before {\\n  background-color: #c3c3c3;\\n  mask-size: auto calc(min(50%, 400px));\\n  -webkit-mask-size: auto calc(min(50%, 400px));\\n}\",{\"type\":\"object\",\"name\":\"ImportedStyleSheet\",\"id\":\"27a69c64-48c6-43e2-a7fd-9fef26c07307\",\"attributes\":{\"url\":\"https://cdn.holoviz.org/panel/1.5.3/dist/css/loading.css\"}},{\"type\":\"object\",\"name\":\"ImportedStyleSheet\",\"id\":\"cf8c4f1b-3ef0-495f-a4a5-69102121c74c\",\"attributes\":{\"url\":\"https://cdn.holoviz.org/panel/1.5.3/dist/css/listpanel.css\"}},{\"type\":\"object\",\"name\":\"ImportedStyleSheet\",\"id\":\"4182f5ff-0319-403d-b8ef-5f7724517fe8\",\"attributes\":{\"url\":\"https://cdn.holoviz.org/panel/1.5.3/dist/bundled/theme/default.css\"}},{\"type\":\"object\",\"name\":\"ImportedStyleSheet\",\"id\":\"693ac839-7bb1-429e-8412-23d05036c4da\",\"attributes\":{\"url\":\"https://cdn.holoviz.org/panel/1.5.3/dist/bundled/theme/native.css\"}}],\"min_width\":650,\"margin\":0,\"sizing_mode\":\"stretch_width\",\"align\":\"start\",\"children\":[{\"type\":\"object\",\"name\":\"Spacer\",\"id\":\"c2ed18c5-c51e-4bc8-8e7b-2ffe5112502a\",\"attributes\":{\"name\":\"HSpacer00305\",\"stylesheets\":[\"\\n:host(.pn-loading):before, .pn-loading:before {\\n  background-color: #c3c3c3;\\n  mask-size: auto calc(min(50%, 400px));\\n  -webkit-mask-size: auto calc(min(50%, 400px));\\n}\",{\"id\":\"27a69c64-48c6-43e2-a7fd-9fef26c07307\"},{\"id\":\"4182f5ff-0319-403d-b8ef-5f7724517fe8\"},{\"id\":\"693ac839-7bb1-429e-8412-23d05036c4da\"}],\"margin\":0,\"sizing_mode\":\"stretch_width\",\"align\":\"start\"}},{\"type\":\"object\",\"name\":\"Figure\",\"id\":\"b4231e9e-3fd3-42ca-9ca3-4074ca639084\",\"attributes\":{\"width\":650,\"height\":300,\"margin\":[5,10],\"sizing_mode\":\"fixed\",\"align\":\"start\",\"x_range\":{\"type\":\"object\",\"name\":\"Range1d\",\"id\":\"f054a12c-ec6e-48a8-be3e-c7d425896197\",\"attributes\":{\"name\":\"sepal_width\",\"tags\":[[[\"sepal_width\",null]],[]],\"start\":1.8892307692307693,\"end\":4.510769230769231,\"reset_start\":1.8892307692307693,\"reset_end\":4.510769230769231}},\"y_range\":{\"type\":\"object\",\"name\":\"Range1d\",\"id\":\"4942cf1c-a032-4ed5-b5ce-dc4c2a6c8eb8\",\"attributes\":{\"name\":\"sepal_length\",\"tags\":[[[\"sepal_length\",null]],{\"type\":\"map\",\"entries\":[[\"invert_yaxis\",false],[\"autorange\",false]]}],\"start\":3.9399999999999995,\"end\":8.26,\"reset_start\":3.9399999999999995,\"reset_end\":8.26}},\"x_scale\":{\"type\":\"object\",\"name\":\"LinearScale\",\"id\":\"4e492eb4-8949-4c8a-bbc8-d4c801f3583b\"},\"y_scale\":{\"type\":\"object\",\"name\":\"LinearScale\",\"id\":\"545b672d-15cf-4410-9b67-6c574a52457e\"},\"title\":{\"type\":\"object\",\"name\":\"Title\",\"id\":\"a0a89b8e-fbc0-417a-8325-ff183cad6dfc\",\"attributes\":{\"text_color\":\"black\",\"text_font_size\":\"12pt\"}},\"renderers\":[{\"type\":\"object\",\"name\":\"GlyphRenderer\",\"id\":\"c48fc89b-4bb5-4d01-bc9f-5e5c26f04b2f\",\"attributes\":{\"name\":\"setosa\",\"data_source\":{\"type\":\"object\",\"name\":\"ColumnDataSource\",\"id\":\"ae436de2-188b-4367-aad7-2675b8e1baa2\",\"attributes\":{\"selected\":{\"type\":\"object\",\"name\":\"Selection\",\"id\":\"e7007ded-d46d-42b4-bddc-e11bc4c638e4\",\"attributes\":{\"indices\":[],\"line_indices\":[]}},\"selection_policy\":{\"type\":\"object\",\"name\":\"UnionRenderers\",\"id\":\"f3751a2e-1354-408d-ac0e-3561cde62774\"},\"data\":{\"type\":\"map\",\"entries\":[[\"sepal_width\",{\"type\":\"ndarray\",\"array\":{\"type\":\"bytes\",\"data\":\"AAAAAAAADEAAAAAAAAAIQJqZmZmZmQlAzczMzMzMCEDNzMzMzMwMQDMzMzMzMw9AMzMzMzMzC0AzMzMzMzMLQDMzMzMzMwdAzczMzMzMCECamZmZmZkNQDMzMzMzMwtAAAAAAAAACEAAAAAAAAAIQAAAAAAAABBAmpmZmZmZEUAzMzMzMzMPQAAAAAAAAAxAZmZmZmZmDkBmZmZmZmYOQDMzMzMzMwtAmpmZmZmZDUDNzMzMzMwMQGZmZmZmZgpAMzMzMzMzC0AAAAAAAAAIQDMzMzMzMwtAAAAAAAAADEAzMzMzMzMLQJqZmZmZmQlAzczMzMzMCEAzMzMzMzMLQGZmZmZmZhBAzczMzMzMEEDNzMzMzMwIQJqZmZmZmQlAAAAAAAAADEDNzMzMzMwMQAAAAAAAAAhAMzMzMzMzC0AAAAAAAAAMQGZmZmZmZgJAmpmZmZmZCUAAAAAAAAAMQGZmZmZmZg5AAAAAAAAACEBmZmZmZmYOQJqZmZmZmQlAmpmZmZmZDUBmZmZmZmYKQA==\"},\"shape\":[50],\"dtype\":\"float64\",\"order\":\"little\"}],[\"sepal_length\",{\"type\":\"ndarray\",\"array\":{\"type\":\"bytes\",\"data\":\"ZmZmZmZmFECamZmZmZkTQM3MzMzMzBJAZmZmZmZmEkAAAAAAAAAUQJqZmZmZmRVAZmZmZmZmEkAAAAAAAAAUQJqZmZmZmRFAmpmZmZmZE0CamZmZmZkVQDMzMzMzMxNAMzMzMzMzE0AzMzMzMzMRQDMzMzMzMxdAzczMzMzMFkCamZmZmZkVQGZmZmZmZhRAzczMzMzMFkBmZmZmZmYUQJqZmZmZmRVAZmZmZmZmFEBmZmZmZmYSQGZmZmZmZhRAMzMzMzMzE0AAAAAAAAAUQAAAAAAAABRAzczMzMzMFEDNzMzMzMwUQM3MzMzMzBJAMzMzMzMzE0CamZmZmZkVQM3MzMzMzBRAAAAAAAAAFkCamZmZmZkTQAAAAAAAABRAAAAAAAAAFkCamZmZmZkTQJqZmZmZmRFAZmZmZmZmFEAAAAAAAAAUQAAAAAAAABJAmpmZmZmZEUAAAAAAAAAUQGZmZmZmZhRAMzMzMzMzE0BmZmZmZmYUQGZmZmZmZhJAMzMzMzMzFUAAAAAAAAAUQA==\"},\"shape\":[50],\"dtype\":\"float64\",\"order\":\"little\"}],[\"species\",[\"setosa\",\"setosa\",\"setosa\",\"setosa\",\"setosa\",\"setosa\",\"setosa\",\"setosa\",\"setosa\",\"setosa\",\"setosa\",\"setosa\",\"setosa\",\"setosa\",\"setosa\",\"setosa\",\"setosa\",\"setosa\",\"setosa\",\"setosa\",\"setosa\",\"setosa\",\"setosa\",\"setosa\",\"setosa\",\"setosa\",\"setosa\",\"setosa\",\"setosa\",\"setosa\",\"setosa\",\"setosa\",\"setosa\",\"setosa\",\"setosa\",\"setosa\",\"setosa\",\"setosa\",\"setosa\",\"setosa\",\"setosa\",\"setosa\",\"setosa\",\"setosa\",\"setosa\",\"setosa\",\"setosa\",\"setosa\",\"setosa\",\"setosa\"]]]}}},\"view\":{\"type\":\"object\",\"name\":\"CDSView\",\"id\":\"0fc4568f-5d87-48e8-9899-2659b4d141a0\",\"attributes\":{\"filter\":{\"type\":\"object\",\"name\":\"AllIndices\",\"id\":\"788c7d3f-7e35-482a-a653-67bceaebea4b\"}}},\"glyph\":{\"type\":\"object\",\"name\":\"Scatter\",\"id\":\"d54a8c8d-605c-42ce-8dac-7e02932aebfc\",\"attributes\":{\"tags\":[\"apply_ranges\"],\"x\":{\"type\":\"field\",\"field\":\"sepal_width\"},\"y\":{\"type\":\"field\",\"field\":\"sepal_length\"},\"size\":{\"type\":\"value\",\"value\":5.477225575051661},\"line_color\":{\"type\":\"value\",\"value\":\"#30a2da\"},\"fill_color\":{\"type\":\"value\",\"value\":\"#30a2da\"},\"hatch_color\":{\"type\":\"value\",\"value\":\"#30a2da\"}}},\"selection_glyph\":{\"type\":\"object\",\"name\":\"Scatter\",\"id\":\"33e0877e-a207-4f7d-a477-9b91569dfa4e\",\"attributes\":{\"tags\":[\"apply_ranges\"],\"x\":{\"type\":\"field\",\"field\":\"sepal_width\"},\"y\":{\"type\":\"field\",\"field\":\"sepal_length\"},\"size\":{\"type\":\"value\",\"value\":5.477225575051661},\"angle\":{\"type\":\"value\",\"value\":0.0},\"line_color\":{\"type\":\"value\",\"value\":\"#30a2da\"},\"line_alpha\":{\"type\":\"value\",\"value\":1.0},\"line_width\":{\"type\":\"value\",\"value\":1},\"line_join\":{\"type\":\"value\",\"value\":\"bevel\"},\"line_cap\":{\"type\":\"value\",\"value\":\"butt\"},\"line_dash\":{\"type\":\"value\",\"value\":[]},\"line_dash_offset\":{\"type\":\"value\",\"value\":0},\"fill_color\":{\"type\":\"value\",\"value\":\"#30a2da\"},\"fill_alpha\":{\"type\":\"value\",\"value\":1.0},\"hatch_color\":{\"type\":\"value\",\"value\":\"#30a2da\"},\"hatch_alpha\":{\"type\":\"value\",\"value\":1.0},\"hatch_scale\":{\"type\":\"value\",\"value\":12.0},\"hatch_pattern\":{\"type\":\"value\",\"value\":null},\"hatch_weight\":{\"type\":\"value\",\"value\":1.0},\"marker\":{\"type\":\"value\",\"value\":\"circle\"}}},\"nonselection_glyph\":{\"type\":\"object\",\"name\":\"Scatter\",\"id\":\"877f6052-293b-422c-bad9-4fb8d6c1293b\",\"attributes\":{\"tags\":[\"apply_ranges\"],\"x\":{\"type\":\"field\",\"field\":\"sepal_width\"},\"y\":{\"type\":\"field\",\"field\":\"sepal_length\"},\"size\":{\"type\":\"value\",\"value\":5.477225575051661},\"line_color\":{\"type\":\"value\",\"value\":\"#30a2da\"},\"line_alpha\":{\"type\":\"value\",\"value\":0.1},\"fill_color\":{\"type\":\"value\",\"value\":\"#30a2da\"},\"fill_alpha\":{\"type\":\"value\",\"value\":0.1},\"hatch_color\":{\"type\":\"value\",\"value\":\"#30a2da\"},\"hatch_alpha\":{\"type\":\"value\",\"value\":0.1}}},\"muted_glyph\":{\"type\":\"object\",\"name\":\"Scatter\",\"id\":\"87da3b2c-01dd-4932-a59d-f16cefc419c6\",\"attributes\":{\"tags\":[\"apply_ranges\"],\"x\":{\"type\":\"field\",\"field\":\"sepal_width\"},\"y\":{\"type\":\"field\",\"field\":\"sepal_length\"},\"size\":{\"type\":\"value\",\"value\":5.477225575051661},\"line_color\":{\"type\":\"value\",\"value\":\"#30a2da\"},\"line_alpha\":{\"type\":\"value\",\"value\":0.2},\"fill_color\":{\"type\":\"value\",\"value\":\"#30a2da\"},\"fill_alpha\":{\"type\":\"value\",\"value\":0.2},\"hatch_color\":{\"type\":\"value\",\"value\":\"#30a2da\"},\"hatch_alpha\":{\"type\":\"value\",\"value\":0.2}}}}},{\"type\":\"object\",\"name\":\"GlyphRenderer\",\"id\":\"57af4797-b515-4d05-a414-54a9520e381b\",\"attributes\":{\"name\":\"versicolor\",\"data_source\":{\"type\":\"object\",\"name\":\"ColumnDataSource\",\"id\":\"ab1de212-29d1-43aa-99d9-617fdbc1c779\",\"attributes\":{\"selected\":{\"type\":\"object\",\"name\":\"Selection\",\"id\":\"ddde34c2-d8b1-4154-8d42-b588df0d0998\",\"attributes\":{\"indices\":[],\"line_indices\":[]}},\"selection_policy\":{\"type\":\"object\",\"name\":\"UnionRenderers\",\"id\":\"a0b6bf88-0a0a-4be2-b46b-82daecb6a246\"},\"data\":{\"type\":\"map\",\"entries\":[[\"sepal_width\",{\"type\":\"ndarray\",\"array\":{\"type\":\"bytes\",\"data\":\"mpmZmZmZCUCamZmZmZkJQM3MzMzMzAhAZmZmZmZmAkBmZmZmZmYGQGZmZmZmZgZAZmZmZmZmCkAzMzMzMzMDQDMzMzMzMwdAmpmZmZmZBUAAAAAAAAAAQAAAAAAAAAhAmpmZmZmZAUAzMzMzMzMHQDMzMzMzMwdAzczMzMzMCEAAAAAAAAAIQJqZmZmZmQVAmpmZmZmZAUAAAAAAAAAEQJqZmZmZmQlAZmZmZmZmBkAAAAAAAAAEQGZmZmZmZgZAMzMzMzMzB0AAAAAAAAAIQGZmZmZmZgZAAAAAAAAACEAzMzMzMzMHQM3MzMzMzARAMzMzMzMzA0AzMzMzMzMDQJqZmZmZmQVAmpmZmZmZBUAAAAAAAAAIQDMzMzMzMwtAzczMzMzMCEBmZmZmZmYCQAAAAAAAAAhAAAAAAAAABEDNzMzMzMwEQAAAAAAAAAhAzczMzMzMBEBmZmZmZmYCQJqZmZmZmQVAAAAAAAAACEAzMzMzMzMHQDMzMzMzMwdAAAAAAAAABEBmZmZmZmYGQA==\"},\"shape\":[50],\"dtype\":\"float64\",\"order\":\"little\"}],[\"sepal_length\",{\"type\":\"ndarray\",\"array\":{\"type\":\"bytes\",\"data\":\"AAAAAAAAHECamZmZmZkZQJqZmZmZmRtAAAAAAAAAFkAAAAAAAAAaQM3MzMzMzBZAMzMzMzMzGUCamZmZmZkTQGZmZmZmZhpAzczMzMzMFEAAAAAAAAAUQJqZmZmZmRdAAAAAAAAAGEBmZmZmZmYYQGZmZmZmZhZAzczMzMzMGkBmZmZmZmYWQDMzMzMzMxdAzczMzMzMGEBmZmZmZmYWQJqZmZmZmRdAZmZmZmZmGEAzMzMzMzMZQGZmZmZmZhhAmpmZmZmZGUBmZmZmZmYaQDMzMzMzMxtAzczMzMzMGkAAAAAAAAAYQM3MzMzMzBZAAAAAAAAAFkAAAAAAAAAWQDMzMzMzMxdAAAAAAAAAGECamZmZmZkVQAAAAAAAABhAzczMzMzMGkAzMzMzMzMZQGZmZmZmZhZAAAAAAAAAFkAAAAAAAAAWQGZmZmZmZhhAMzMzMzMzF0AAAAAAAAAUQGZmZmZmZhZAzczMzMzMFkDNzMzMzMwWQM3MzMzMzBhAZmZmZmZmFEDNzMzMzMwWQA==\"},\"shape\":[50],\"dtype\":\"float64\",\"order\":\"little\"}],[\"species\",[\"versicolor\",\"versicolor\",\"versicolor\",\"versicolor\",\"versicolor\",\"versicolor\",\"versicolor\",\"versicolor\",\"versicolor\",\"versicolor\",\"versicolor\",\"versicolor\",\"versicolor\",\"versicolor\",\"versicolor\",\"versicolor\",\"versicolor\",\"versicolor\",\"versicolor\",\"versicolor\",\"versicolor\",\"versicolor\",\"versicolor\",\"versicolor\",\"versicolor\",\"versicolor\",\"versicolor\",\"versicolor\",\"versicolor\",\"versicolor\",\"versicolor\",\"versicolor\",\"versicolor\",\"versicolor\",\"versicolor\",\"versicolor\",\"versicolor\",\"versicolor\",\"versicolor\",\"versicolor\",\"versicolor\",\"versicolor\",\"versicolor\",\"versicolor\",\"versicolor\",\"versicolor\",\"versicolor\",\"versicolor\",\"versicolor\",\"versicolor\"]]]}}},\"view\":{\"type\":\"object\",\"name\":\"CDSView\",\"id\":\"9bcb3ebb-9f40-47c5-aebf-8517a125b5c6\",\"attributes\":{\"filter\":{\"type\":\"object\",\"name\":\"AllIndices\",\"id\":\"39bc5675-5489-472c-bdf9-dbccfb7b4d03\"}}},\"glyph\":{\"type\":\"object\",\"name\":\"Scatter\",\"id\":\"85c67f7e-5962-4882-9b9d-7f9e9d1cd77f\",\"attributes\":{\"tags\":[\"apply_ranges\"],\"x\":{\"type\":\"field\",\"field\":\"sepal_width\"},\"y\":{\"type\":\"field\",\"field\":\"sepal_length\"},\"size\":{\"type\":\"value\",\"value\":5.477225575051661},\"line_color\":{\"type\":\"value\",\"value\":\"#fc4f30\"},\"fill_color\":{\"type\":\"value\",\"value\":\"#fc4f30\"},\"hatch_color\":{\"type\":\"value\",\"value\":\"#fc4f30\"}}},\"selection_glyph\":{\"type\":\"object\",\"name\":\"Scatter\",\"id\":\"7c641cd6-471d-4236-925f-3a8e69987bb0\",\"attributes\":{\"tags\":[\"apply_ranges\"],\"x\":{\"type\":\"field\",\"field\":\"sepal_width\"},\"y\":{\"type\":\"field\",\"field\":\"sepal_length\"},\"size\":{\"type\":\"value\",\"value\":5.477225575051661},\"angle\":{\"type\":\"value\",\"value\":0.0},\"line_color\":{\"type\":\"value\",\"value\":\"#fc4f30\"},\"line_alpha\":{\"type\":\"value\",\"value\":1.0},\"line_width\":{\"type\":\"value\",\"value\":1},\"line_join\":{\"type\":\"value\",\"value\":\"bevel\"},\"line_cap\":{\"type\":\"value\",\"value\":\"butt\"},\"line_dash\":{\"type\":\"value\",\"value\":[]},\"line_dash_offset\":{\"type\":\"value\",\"value\":0},\"fill_color\":{\"type\":\"value\",\"value\":\"#fc4f30\"},\"fill_alpha\":{\"type\":\"value\",\"value\":1.0},\"hatch_color\":{\"type\":\"value\",\"value\":\"#fc4f30\"},\"hatch_alpha\":{\"type\":\"value\",\"value\":1.0},\"hatch_scale\":{\"type\":\"value\",\"value\":12.0},\"hatch_pattern\":{\"type\":\"value\",\"value\":null},\"hatch_weight\":{\"type\":\"value\",\"value\":1.0},\"marker\":{\"type\":\"value\",\"value\":\"circle\"}}},\"nonselection_glyph\":{\"type\":\"object\",\"name\":\"Scatter\",\"id\":\"996aa4a7-3176-4f28-9fb9-6c7aa478f06d\",\"attributes\":{\"tags\":[\"apply_ranges\"],\"x\":{\"type\":\"field\",\"field\":\"sepal_width\"},\"y\":{\"type\":\"field\",\"field\":\"sepal_length\"},\"size\":{\"type\":\"value\",\"value\":5.477225575051661},\"line_color\":{\"type\":\"value\",\"value\":\"#fc4f30\"},\"line_alpha\":{\"type\":\"value\",\"value\":0.1},\"fill_color\":{\"type\":\"value\",\"value\":\"#fc4f30\"},\"fill_alpha\":{\"type\":\"value\",\"value\":0.1},\"hatch_color\":{\"type\":\"value\",\"value\":\"#fc4f30\"},\"hatch_alpha\":{\"type\":\"value\",\"value\":0.1}}},\"muted_glyph\":{\"type\":\"object\",\"name\":\"Scatter\",\"id\":\"3ea08cda-e69a-4a25-9b94-11e8a60c25dd\",\"attributes\":{\"tags\":[\"apply_ranges\"],\"x\":{\"type\":\"field\",\"field\":\"sepal_width\"},\"y\":{\"type\":\"field\",\"field\":\"sepal_length\"},\"size\":{\"type\":\"value\",\"value\":5.477225575051661},\"line_color\":{\"type\":\"value\",\"value\":\"#fc4f30\"},\"line_alpha\":{\"type\":\"value\",\"value\":0.2},\"fill_color\":{\"type\":\"value\",\"value\":\"#fc4f30\"},\"fill_alpha\":{\"type\":\"value\",\"value\":0.2},\"hatch_color\":{\"type\":\"value\",\"value\":\"#fc4f30\"},\"hatch_alpha\":{\"type\":\"value\",\"value\":0.2}}}}},{\"type\":\"object\",\"name\":\"GlyphRenderer\",\"id\":\"e1101db7-9ab5-47cb-b50f-93cfbf70e16f\",\"attributes\":{\"name\":\"virginica\",\"data_source\":{\"type\":\"object\",\"name\":\"ColumnDataSource\",\"id\":\"1686b032-7c84-4043-842f-471feefc4a6f\",\"attributes\":{\"selected\":{\"type\":\"object\",\"name\":\"Selection\",\"id\":\"51a7f860-156b-4964-b1e3-d28fc6f021d4\",\"attributes\":{\"indices\":[],\"line_indices\":[]}},\"selection_policy\":{\"type\":\"object\",\"name\":\"UnionRenderers\",\"id\":\"abf004ed-c7b4-4617-bb5a-a99e250a0ce1\"},\"data\":{\"type\":\"map\",\"entries\":[[\"sepal_width\",{\"type\":\"ndarray\",\"array\":{\"type\":\"bytes\",\"data\":\"ZmZmZmZmCkCamZmZmZkFQAAAAAAAAAhAMzMzMzMzB0AAAAAAAAAIQAAAAAAAAAhAAAAAAAAABEAzMzMzMzMHQAAAAAAAAARAzczMzMzMDECamZmZmZkJQJqZmZmZmQVAAAAAAAAACEAAAAAAAAAEQGZmZmZmZgZAmpmZmZmZCUAAAAAAAAAIQGZmZmZmZg5AzczMzMzMBECamZmZmZkBQJqZmZmZmQlAZmZmZmZmBkBmZmZmZmYGQJqZmZmZmQVAZmZmZmZmCkCamZmZmZkJQGZmZmZmZgZAAAAAAAAACEBmZmZmZmYGQAAAAAAAAAhAZmZmZmZmBkBmZmZmZmYOQGZmZmZmZgZAZmZmZmZmBkDNzMzMzMwEQAAAAAAAAAhAMzMzMzMzC0DNzMzMzMwIQAAAAAAAAAhAzczMzMzMCEDNzMzMzMwIQM3MzMzMzAhAmpmZmZmZBUCamZmZmZkJQGZmZmZmZgpAAAAAAAAACEAAAAAAAAAEQAAAAAAAAAhAMzMzMzMzC0AAAAAAAAAIQA==\"},\"shape\":[50],\"dtype\":\"float64\",\"order\":\"little\"}],[\"sepal_length\",{\"type\":\"ndarray\",\"array\":{\"type\":\"bytes\",\"data\":\"MzMzMzMzGUAzMzMzMzMXQGZmZmZmZhxAMzMzMzMzGUAAAAAAAAAaQGZmZmZmZh5AmpmZmZmZE0AzMzMzMzMdQM3MzMzMzBpAzczMzMzMHEAAAAAAAAAaQJqZmZmZmRlAMzMzMzMzG0DNzMzMzMwWQDMzMzMzMxdAmpmZmZmZGUAAAAAAAAAaQM3MzMzMzB5AzczMzMzMHkAAAAAAAAAYQJqZmZmZmRtAZmZmZmZmFkDNzMzMzMweQDMzMzMzMxlAzczMzMzMGkDNzMzMzMwcQM3MzMzMzBhAZmZmZmZmGECamZmZmZkZQM3MzMzMzBxAmpmZmZmZHUCamZmZmZkfQJqZmZmZmRlAMzMzMzMzGUBmZmZmZmYYQM3MzMzMzB5AMzMzMzMzGUCamZmZmZkZQAAAAAAAABhAmpmZmZmZG0DNzMzMzMwaQJqZmZmZmRtAMzMzMzMzF0AzMzMzMzMbQM3MzMzMzBpAzczMzMzMGkAzMzMzMzMZQAAAAAAAABpAzczMzMzMGECamZmZmZkXQA==\"},\"shape\":[50],\"dtype\":\"float64\",\"order\":\"little\"}],[\"species\",[\"virginica\",\"virginica\",\"virginica\",\"virginica\",\"virginica\",\"virginica\",\"virginica\",\"virginica\",\"virginica\",\"virginica\",\"virginica\",\"virginica\",\"virginica\",\"virginica\",\"virginica\",\"virginica\",\"virginica\",\"virginica\",\"virginica\",\"virginica\",\"virginica\",\"virginica\",\"virginica\",\"virginica\",\"virginica\",\"virginica\",\"virginica\",\"virginica\",\"virginica\",\"virginica\",\"virginica\",\"virginica\",\"virginica\",\"virginica\",\"virginica\",\"virginica\",\"virginica\",\"virginica\",\"virginica\",\"virginica\",\"virginica\",\"virginica\",\"virginica\",\"virginica\",\"virginica\",\"virginica\",\"virginica\",\"virginica\",\"virginica\",\"virginica\"]]]}}},\"view\":{\"type\":\"object\",\"name\":\"CDSView\",\"id\":\"bf92c760-62de-4234-89a7-808898e523c6\",\"attributes\":{\"filter\":{\"type\":\"object\",\"name\":\"AllIndices\",\"id\":\"8cafeb11-d68e-4ca2-b0a6-de42f83c3799\"}}},\"glyph\":{\"type\":\"object\",\"name\":\"Scatter\",\"id\":\"33ddb19b-a75b-439a-9dde-b4dd04b2d737\",\"attributes\":{\"tags\":[\"apply_ranges\"],\"x\":{\"type\":\"field\",\"field\":\"sepal_width\"},\"y\":{\"type\":\"field\",\"field\":\"sepal_length\"},\"size\":{\"type\":\"value\",\"value\":5.477225575051661},\"line_color\":{\"type\":\"value\",\"value\":\"#e5ae38\"},\"fill_color\":{\"type\":\"value\",\"value\":\"#e5ae38\"},\"hatch_color\":{\"type\":\"value\",\"value\":\"#e5ae38\"}}},\"selection_glyph\":{\"type\":\"object\",\"name\":\"Scatter\",\"id\":\"109c32c6-c09f-4f4c-8b15-38de2ef708f6\",\"attributes\":{\"tags\":[\"apply_ranges\"],\"x\":{\"type\":\"field\",\"field\":\"sepal_width\"},\"y\":{\"type\":\"field\",\"field\":\"sepal_length\"},\"size\":{\"type\":\"value\",\"value\":5.477225575051661},\"angle\":{\"type\":\"value\",\"value\":0.0},\"line_color\":{\"type\":\"value\",\"value\":\"#e5ae38\"},\"line_alpha\":{\"type\":\"value\",\"value\":1.0},\"line_width\":{\"type\":\"value\",\"value\":1},\"line_join\":{\"type\":\"value\",\"value\":\"bevel\"},\"line_cap\":{\"type\":\"value\",\"value\":\"butt\"},\"line_dash\":{\"type\":\"value\",\"value\":[]},\"line_dash_offset\":{\"type\":\"value\",\"value\":0},\"fill_color\":{\"type\":\"value\",\"value\":\"#e5ae38\"},\"fill_alpha\":{\"type\":\"value\",\"value\":1.0},\"hatch_color\":{\"type\":\"value\",\"value\":\"#e5ae38\"},\"hatch_alpha\":{\"type\":\"value\",\"value\":1.0},\"hatch_scale\":{\"type\":\"value\",\"value\":12.0},\"hatch_pattern\":{\"type\":\"value\",\"value\":null},\"hatch_weight\":{\"type\":\"value\",\"value\":1.0},\"marker\":{\"type\":\"value\",\"value\":\"circle\"}}},\"nonselection_glyph\":{\"type\":\"object\",\"name\":\"Scatter\",\"id\":\"9beb5360-01be-4062-bd98-91f478d79d42\",\"attributes\":{\"tags\":[\"apply_ranges\"],\"x\":{\"type\":\"field\",\"field\":\"sepal_width\"},\"y\":{\"type\":\"field\",\"field\":\"sepal_length\"},\"size\":{\"type\":\"value\",\"value\":5.477225575051661},\"line_color\":{\"type\":\"value\",\"value\":\"#e5ae38\"},\"line_alpha\":{\"type\":\"value\",\"value\":0.1},\"fill_color\":{\"type\":\"value\",\"value\":\"#e5ae38\"},\"fill_alpha\":{\"type\":\"value\",\"value\":0.1},\"hatch_color\":{\"type\":\"value\",\"value\":\"#e5ae38\"},\"hatch_alpha\":{\"type\":\"value\",\"value\":0.1}}},\"muted_glyph\":{\"type\":\"object\",\"name\":\"Scatter\",\"id\":\"5fd670a7-41cb-4252-bff0-7607342fd3bc\",\"attributes\":{\"tags\":[\"apply_ranges\"],\"x\":{\"type\":\"field\",\"field\":\"sepal_width\"},\"y\":{\"type\":\"field\",\"field\":\"sepal_length\"},\"size\":{\"type\":\"value\",\"value\":5.477225575051661},\"line_color\":{\"type\":\"value\",\"value\":\"#e5ae38\"},\"line_alpha\":{\"type\":\"value\",\"value\":0.2},\"fill_color\":{\"type\":\"value\",\"value\":\"#e5ae38\"},\"fill_alpha\":{\"type\":\"value\",\"value\":0.2},\"hatch_color\":{\"type\":\"value\",\"value\":\"#e5ae38\"},\"hatch_alpha\":{\"type\":\"value\",\"value\":0.2}}}}}],\"toolbar\":{\"type\":\"object\",\"name\":\"Toolbar\",\"id\":\"59f4f006-d009-41cd-9363-b92819ef383d\",\"attributes\":{\"tools\":[{\"type\":\"object\",\"name\":\"WheelZoomTool\",\"id\":\"390f2596-f200-42c6-ad10-0584286f2651\",\"attributes\":{\"tags\":[\"hv_created\"],\"renderers\":\"auto\",\"zoom_together\":\"none\"}},{\"type\":\"object\",\"name\":\"HoverTool\",\"id\":\"81d93819-554d-454c-916d-7f979a53332c\",\"attributes\":{\"tags\":[\"hv_created\"],\"renderers\":[{\"id\":\"c48fc89b-4bb5-4d01-bc9f-5e5c26f04b2f\"},{\"id\":\"57af4797-b515-4d05-a414-54a9520e381b\"},{\"id\":\"e1101db7-9ab5-47cb-b50f-93cfbf70e16f\"}],\"tooltips\":[[\"species\",\"@{species}\"],[\"sepal_width\",\"@{sepal_width}\"],[\"sepal_length\",\"@{sepal_length}\"]]}},{\"type\":\"object\",\"name\":\"SaveTool\",\"id\":\"d1d0c16a-a000-4dd3-bf7a-1f0616fb3c42\"},{\"type\":\"object\",\"name\":\"PanTool\",\"id\":\"1e9f056e-d4ca-40b6-8235-2cbced07e4d7\"},{\"type\":\"object\",\"name\":\"BoxZoomTool\",\"id\":\"8c1367e6-74f7-48b7-8c1b-8982c2fa32cd\",\"attributes\":{\"overlay\":{\"type\":\"object\",\"name\":\"BoxAnnotation\",\"id\":\"6ed0ab13-4c5c-4a16-b86c-4b007ec0f5a8\",\"attributes\":{\"syncable\":false,\"line_color\":\"black\",\"line_alpha\":1.0,\"line_width\":2,\"line_dash\":[4,4],\"fill_color\":\"lightgrey\",\"fill_alpha\":0.5,\"level\":\"overlay\",\"visible\":false,\"left\":{\"type\":\"number\",\"value\":\"nan\"},\"right\":{\"type\":\"number\",\"value\":\"nan\"},\"top\":{\"type\":\"number\",\"value\":\"nan\"},\"bottom\":{\"type\":\"number\",\"value\":\"nan\"},\"left_units\":\"canvas\",\"right_units\":\"canvas\",\"top_units\":\"canvas\",\"bottom_units\":\"canvas\",\"handles\":{\"type\":\"object\",\"name\":\"BoxInteractionHandles\",\"id\":\"ac8f953e-cced-465e-b138-1226b36596fc\",\"attributes\":{\"all\":{\"type\":\"object\",\"name\":\"AreaVisuals\",\"id\":\"7f3b4b23-32d6-4871-b9ec-65e5afca59ff\",\"attributes\":{\"fill_color\":\"white\",\"hover_fill_color\":\"lightgray\"}}}}}}}},{\"type\":\"object\",\"name\":\"ResetTool\",\"id\":\"03ae033d-423a-45b4-a761-8141105df84f\"}],\"active_drag\":{\"id\":\"1e9f056e-d4ca-40b6-8235-2cbced07e4d7\"},\"active_scroll\":{\"id\":\"390f2596-f200-42c6-ad10-0584286f2651\"}}},\"left\":[{\"type\":\"object\",\"name\":\"LinearAxis\",\"id\":\"b43e3835-e0e7-4dd3-90a1-1360dfd6364b\",\"attributes\":{\"ticker\":{\"type\":\"object\",\"name\":\"BasicTicker\",\"id\":\"2056126b-98a4-48c8-bfd9-52cc893f6570\",\"attributes\":{\"mantissas\":[1,2,5]}},\"formatter\":{\"type\":\"object\",\"name\":\"BasicTickFormatter\",\"id\":\"3725bc04-60cc-43b2-8b81-49425548eaf4\"},\"axis_label\":\"sepal_length\",\"major_label_policy\":{\"type\":\"object\",\"name\":\"AllLabels\",\"id\":\"4328b89d-e83a-456d-8d18-533f019fac80\"}}}],\"right\":[{\"type\":\"object\",\"name\":\"Legend\",\"id\":\"935df6a8-972b-4477-a781-7a672e7cfb12\",\"attributes\":{\"location\":[0,0],\"title\":\"species\",\"click_policy\":\"mute\",\"items\":[{\"type\":\"object\",\"name\":\"LegendItem\",\"id\":\"40dce8f5-704e-46a2-8105-49527e79645b\",\"attributes\":{\"label\":{\"type\":\"value\",\"value\":\"setosa\"},\"renderers\":[{\"id\":\"c48fc89b-4bb5-4d01-bc9f-5e5c26f04b2f\"}]}},{\"type\":\"object\",\"name\":\"LegendItem\",\"id\":\"e00f6b31-77df-4669-8590-398c66a08a68\",\"attributes\":{\"label\":{\"type\":\"value\",\"value\":\"versicolor\"},\"renderers\":[{\"id\":\"57af4797-b515-4d05-a414-54a9520e381b\"}]}},{\"type\":\"object\",\"name\":\"LegendItem\",\"id\":\"335fbfad-a2c9-4687-9c30-c49c3f3841fd\",\"attributes\":{\"label\":{\"type\":\"value\",\"value\":\"virginica\"},\"renderers\":[{\"id\":\"e1101db7-9ab5-47cb-b50f-93cfbf70e16f\"}]}}]}}],\"below\":[{\"type\":\"object\",\"name\":\"LinearAxis\",\"id\":\"b3a83e0c-5355-4c2d-9a9b-e5763b9f0008\",\"attributes\":{\"ticker\":{\"type\":\"object\",\"name\":\"BasicTicker\",\"id\":\"aedb0210-e5b1-417c-a313-db9ec5110ba8\",\"attributes\":{\"mantissas\":[1,2,5]}},\"formatter\":{\"type\":\"object\",\"name\":\"BasicTickFormatter\",\"id\":\"c743c0db-f850-4824-a18f-d1b1c4556ed5\"},\"axis_label\":\"sepal_width\",\"major_label_policy\":{\"type\":\"object\",\"name\":\"AllLabels\",\"id\":\"5895d9d5-c390-4318-b833-4308e4285a5f\"}}}],\"center\":[{\"type\":\"object\",\"name\":\"Grid\",\"id\":\"51f99431-7447-49ce-af89-4a682b265cd4\",\"attributes\":{\"axis\":{\"id\":\"b3a83e0c-5355-4c2d-9a9b-e5763b9f0008\"},\"grid_line_color\":null}},{\"type\":\"object\",\"name\":\"Grid\",\"id\":\"841e6432-52bb-4974-b129-3549f2871e48\",\"attributes\":{\"dimension\":1,\"axis\":{\"id\":\"b43e3835-e0e7-4dd3-90a1-1360dfd6364b\"},\"grid_line_color\":null}}],\"min_border_top\":10,\"min_border_bottom\":10,\"min_border_left\":10,\"min_border_right\":10,\"output_backend\":\"webgl\"}},{\"type\":\"object\",\"name\":\"Spacer\",\"id\":\"2af72572-d54f-4229-8ad4-d34cb094d2f7\",\"attributes\":{\"name\":\"HSpacer00306\",\"stylesheets\":[\"\\n:host(.pn-loading):before, .pn-loading:before {\\n  background-color: #c3c3c3;\\n  mask-size: auto calc(min(50%, 400px));\\n  -webkit-mask-size: auto calc(min(50%, 400px));\\n}\",{\"id\":\"27a69c64-48c6-43e2-a7fd-9fef26c07307\"},{\"id\":\"4182f5ff-0319-403d-b8ef-5f7724517fe8\"},{\"id\":\"693ac839-7bb1-429e-8412-23d05036c4da\"}],\"margin\":0,\"sizing_mode\":\"stretch_width\",\"align\":\"start\"}}]}}],\"defs\":[{\"type\":\"model\",\"name\":\"ReactiveHTML1\"},{\"type\":\"model\",\"name\":\"FlexBox1\",\"properties\":[{\"name\":\"align_content\",\"kind\":\"Any\",\"default\":\"flex-start\"},{\"name\":\"align_items\",\"kind\":\"Any\",\"default\":\"flex-start\"},{\"name\":\"flex_direction\",\"kind\":\"Any\",\"default\":\"row\"},{\"name\":\"flex_wrap\",\"kind\":\"Any\",\"default\":\"wrap\"},{\"name\":\"gap\",\"kind\":\"Any\",\"default\":\"\"},{\"name\":\"justify_content\",\"kind\":\"Any\",\"default\":\"flex-start\"}]},{\"type\":\"model\",\"name\":\"FloatPanel1\",\"properties\":[{\"name\":\"config\",\"kind\":\"Any\",\"default\":{\"type\":\"map\"}},{\"name\":\"contained\",\"kind\":\"Any\",\"default\":true},{\"name\":\"position\",\"kind\":\"Any\",\"default\":\"right-top\"},{\"name\":\"offsetx\",\"kind\":\"Any\",\"default\":null},{\"name\":\"offsety\",\"kind\":\"Any\",\"default\":null},{\"name\":\"theme\",\"kind\":\"Any\",\"default\":\"primary\"},{\"name\":\"status\",\"kind\":\"Any\",\"default\":\"normalized\"}]},{\"type\":\"model\",\"name\":\"GridStack1\",\"properties\":[{\"name\":\"mode\",\"kind\":\"Any\",\"default\":\"warn\"},{\"name\":\"ncols\",\"kind\":\"Any\",\"default\":null},{\"name\":\"nrows\",\"kind\":\"Any\",\"default\":null},{\"name\":\"allow_resize\",\"kind\":\"Any\",\"default\":true},{\"name\":\"allow_drag\",\"kind\":\"Any\",\"default\":true},{\"name\":\"state\",\"kind\":\"Any\",\"default\":[]}]},{\"type\":\"model\",\"name\":\"drag1\",\"properties\":[{\"name\":\"slider_width\",\"kind\":\"Any\",\"default\":5},{\"name\":\"slider_color\",\"kind\":\"Any\",\"default\":\"black\"},{\"name\":\"value\",\"kind\":\"Any\",\"default\":50}]},{\"type\":\"model\",\"name\":\"click1\",\"properties\":[{\"name\":\"terminal_output\",\"kind\":\"Any\",\"default\":\"\"},{\"name\":\"debug_name\",\"kind\":\"Any\",\"default\":\"\"},{\"name\":\"clears\",\"kind\":\"Any\",\"default\":0}]},{\"type\":\"model\",\"name\":\"FastWrapper1\",\"properties\":[{\"name\":\"object\",\"kind\":\"Any\",\"default\":null},{\"name\":\"style\",\"kind\":\"Any\",\"default\":null}]},{\"type\":\"model\",\"name\":\"NotificationAreaBase1\",\"properties\":[{\"name\":\"js_events\",\"kind\":\"Any\",\"default\":{\"type\":\"map\"}},{\"name\":\"position\",\"kind\":\"Any\",\"default\":\"bottom-right\"},{\"name\":\"_clear\",\"kind\":\"Any\",\"default\":0}]},{\"type\":\"model\",\"name\":\"NotificationArea1\",\"properties\":[{\"name\":\"js_events\",\"kind\":\"Any\",\"default\":{\"type\":\"map\"}},{\"name\":\"notifications\",\"kind\":\"Any\",\"default\":[]},{\"name\":\"position\",\"kind\":\"Any\",\"default\":\"bottom-right\"},{\"name\":\"_clear\",\"kind\":\"Any\",\"default\":0},{\"name\":\"types\",\"kind\":\"Any\",\"default\":[{\"type\":\"map\",\"entries\":[[\"type\",\"warning\"],[\"background\",\"#ffc107\"],[\"icon\",{\"type\":\"map\",\"entries\":[[\"className\",\"fas fa-exclamation-triangle\"],[\"tagName\",\"i\"],[\"color\",\"white\"]]}]]},{\"type\":\"map\",\"entries\":[[\"type\",\"info\"],[\"background\",\"#007bff\"],[\"icon\",{\"type\":\"map\",\"entries\":[[\"className\",\"fas fa-info-circle\"],[\"tagName\",\"i\"],[\"color\",\"white\"]]}]]}]}]},{\"type\":\"model\",\"name\":\"Notification\",\"properties\":[{\"name\":\"background\",\"kind\":\"Any\",\"default\":null},{\"name\":\"duration\",\"kind\":\"Any\",\"default\":3000},{\"name\":\"icon\",\"kind\":\"Any\",\"default\":null},{\"name\":\"message\",\"kind\":\"Any\",\"default\":\"\"},{\"name\":\"notification_type\",\"kind\":\"Any\",\"default\":null},{\"name\":\"_destroyed\",\"kind\":\"Any\",\"default\":false}]},{\"type\":\"model\",\"name\":\"TemplateActions1\",\"properties\":[{\"name\":\"open_modal\",\"kind\":\"Any\",\"default\":0},{\"name\":\"close_modal\",\"kind\":\"Any\",\"default\":0}]},{\"type\":\"model\",\"name\":\"BootstrapTemplateActions1\",\"properties\":[{\"name\":\"open_modal\",\"kind\":\"Any\",\"default\":0},{\"name\":\"close_modal\",\"kind\":\"Any\",\"default\":0}]},{\"type\":\"model\",\"name\":\"TemplateEditor1\",\"properties\":[{\"name\":\"layout\",\"kind\":\"Any\",\"default\":[]}]},{\"type\":\"model\",\"name\":\"MaterialTemplateActions1\",\"properties\":[{\"name\":\"open_modal\",\"kind\":\"Any\",\"default\":0},{\"name\":\"close_modal\",\"kind\":\"Any\",\"default\":0}]},{\"type\":\"model\",\"name\":\"ReactiveESM1\"},{\"type\":\"model\",\"name\":\"JSComponent1\"},{\"type\":\"model\",\"name\":\"ReactComponent1\"},{\"type\":\"model\",\"name\":\"AnyWidgetComponent1\"},{\"type\":\"model\",\"name\":\"request_value1\",\"properties\":[{\"name\":\"fill\",\"kind\":\"Any\",\"default\":\"none\"},{\"name\":\"_synced\",\"kind\":\"Any\",\"default\":null},{\"name\":\"_request_sync\",\"kind\":\"Any\",\"default\":0}]}]}};\n",
       "  var render_items = [{\"docid\":\"07fb1f46-f464-448b-a952-bff7f4804377\",\"roots\":{\"00589bf2-8289-4465-82a4-f8b170380871\":\"c0890e22-291b-4fcb-b77f-d9320c2f0ad9\"},\"root_ids\":[\"00589bf2-8289-4465-82a4-f8b170380871\"]}];\n",
       "  var docs = Object.values(docs_json)\n",
       "  if (!docs) {\n",
       "    return\n",
       "  }\n",
       "  const py_version = docs[0].version.replace('rc', '-rc.').replace('.dev', '-dev.')\n",
       "  async function embed_document(root) {\n",
       "    var Bokeh = get_bokeh(root)\n",
       "    await Bokeh.embed.embed_items_notebook(docs_json, render_items);\n",
       "    for (const render_item of render_items) {\n",
       "      for (const root_id of render_item.root_ids) {\n",
       "\tconst id_el = document.getElementById(root_id)\n",
       "\tif (id_el.children.length && id_el.children[0].hasAttribute('data-root-id')) {\n",
       "\t  const root_el = id_el.children[0]\n",
       "\t  root_el.id = root_el.id + '-rendered'\n",
       "\t  for (const child of root_el.children) {\n",
       "            // Ensure JupyterLab does not capture keyboard shortcuts\n",
       "            // see: https://jupyterlab.readthedocs.io/en/4.1.x/extension/notebook.html#keyboard-interaction-model\n",
       "\t    child.setAttribute('data-lm-suppress-shortcuts', 'true')\n",
       "\t  }\n",
       "\t}\n",
       "      }\n",
       "    }\n",
       "  }\n",
       "  function get_bokeh(root) {\n",
       "    if (root.Bokeh === undefined) {\n",
       "      return null\n",
       "    } else if (root.Bokeh.version !== py_version) {\n",
       "      if (root.Bokeh.versions === undefined || !root.Bokeh.versions.has(py_version)) {\n",
       "\treturn null\n",
       "      }\n",
       "      return root.Bokeh.versions.get(py_version);\n",
       "    } else if (root.Bokeh.version === py_version) {\n",
       "      return root.Bokeh\n",
       "    }\n",
       "    return null\n",
       "  }\n",
       "  function is_loaded(root) {\n",
       "    var Bokeh = get_bokeh(root)\n",
       "    return (Bokeh != null && Bokeh.Panel !== undefined)\n",
       "  }\n",
       "  if (is_loaded(root)) {\n",
       "    embed_document(root);\n",
       "  } else {\n",
       "    var attempts = 0;\n",
       "    var timer = setInterval(function(root) {\n",
       "      if (is_loaded(root)) {\n",
       "        clearInterval(timer);\n",
       "        embed_document(root);\n",
       "      } else if (document.readyState == \"complete\") {\n",
       "        attempts++;\n",
       "        if (attempts > 200) {\n",
       "          clearInterval(timer);\n",
       "\t  var Bokeh = get_bokeh(root)\n",
       "\t  if (Bokeh == null || Bokeh.Panel == null) {\n",
       "            console.warn(\"Panel: ERROR: Unable to run Panel code because Bokeh or Panel library is missing\");\n",
       "\t  } else {\n",
       "\t    console.warn(\"Panel: WARNING: Attempting to render but not all required libraries could be resolved.\")\n",
       "\t    embed_document(root)\n",
       "\t  }\n",
       "        }\n",
       "      }\n",
       "    }, 25, root)\n",
       "  }\n",
       "})(window);</script>"
      ],
      "text/plain": [
       ":NdOverlay   [species]\n",
       "   :Scatter   [sepal_width]   (sepal_length)"
      ]
     },
     "execution_count": 5,
     "metadata": {
      "application/vnd.holoviews_exec.v0+json": {
       "id": "00589bf2-8289-4465-82a4-f8b170380871"
      }
     },
     "output_type": "execute_result"
    }
   ],
   "source": [
    "import hvplot.polars\n",
    "\n",
    "df.hvplot.scatter(\n",
    "                    x=\"sepal_width\",\n",
    "                    y=\"sepal_length\",\n",
    "                    by=\"species\",\n",
    "                    width=650,\n",
    "                    )"
   ]
  },
  {
   "cell_type": "markdown",
   "metadata": {
    "id": "yPH_MPa23Dmq"
   },
   "source": [
    "### Matplotlib"
   ]
  },
  {
   "cell_type": "code",
   "execution_count": 6,
   "metadata": {
    "colab": {
     "base_uri": "https://localhost:8080/",
     "height": 430
    },
    "executionInfo": {
     "elapsed": 637,
     "status": "ok",
     "timestamp": 1733570798356,
     "user": {
      "displayName": "Daniele Grotti",
      "userId": "05993002232846155126"
     },
     "user_tz": -60
    },
    "id": "yktlbz5h3Dmq",
    "outputId": "cfae6e7e-a7dc-4fbc-9f1a-c593536a262d"
   },
   "outputs": [
    {
     "data": {
      "image/png": "[encoded data removed]",
      "text/plain": [
       "<Figure size 640x480 with 1 Axes>"
      ]
     },
     "metadata": {},
     "output_type": "display_data"
    }
   ],
   "source": [
    "import matplotlib.pyplot as plt\n",
    "\n",
    "fig, ax = plt.subplots()\n",
    "ax.scatter(\n",
    "            x=df[\"sepal_width\"],\n",
    "            y=df[\"sepal_length\"],\n",
    "            c=df[\"species\"].cast(pl.Categorical).to_physical(),\n",
    "            );"
   ]
  },
  {
   "cell_type": "markdown",
   "metadata": {
    "id": "WZXE_-7f3Dmr"
   },
   "source": [
    "### Seaborn"
   ]
  },
  {
   "cell_type": "code",
   "execution_count": 7,
   "metadata": {
    "colab": {
     "base_uri": "https://localhost:8080/",
     "height": 450
    },
    "executionInfo": {
     "elapsed": 1020,
     "status": "ok",
     "timestamp": 1733570807085,
     "user": {
      "displayName": "Daniele Grotti",
      "userId": "05993002232846155126"
     },
     "user_tz": -60
    },
    "id": "nPtxFOgH3Dmr",
    "outputId": "33b005f0-f9cc-4eb9-cccb-ffc5766f4aeb"
   },
   "outputs": [
    {
     "data": {
      "image/png": "[encoded data removed]",
      "text/plain": [
       "<Figure size 640x480 with 1 Axes>"
      ]
     },
     "metadata": {},
     "output_type": "display_data"
    }
   ],
   "source": [
    "import seaborn as sns\n",
    "\n",
    "sns.scatterplot(\n",
    "                df,\n",
    "                x=\"sepal_width\",\n",
    "                y=\"sepal_length\",\n",
    "                hue=\"species\",\n",
    "                );"
   ]
  },
  {
   "cell_type": "markdown",
   "metadata": {
    "id": "-ZJiAr3w3Dms"
   },
   "source": [
    "### Plotly"
   ]
  },
  {
   "cell_type": "code",
   "execution_count": 9,
   "metadata": {
    "colab": {
     "base_uri": "https://localhost:8080/",
     "height": 542
    },
    "executionInfo": {
     "elapsed": 1293,
     "status": "ok",
     "timestamp": 1733570811743,
     "user": {
      "displayName": "Daniele Grotti",
      "userId": "05993002232846155126"
     },
     "user_tz": -60
    },
    "id": "PDKdGuX93Dms",
    "outputId": "9952c2fa-8761-4893-de55-bf58a8485152"
   },
   "outputs": [
    {
     "data": {
      "application/vnd.plotly.v1+json": {
       "config": {
        "plotlyServerURL": "https://plot.ly"
       },
       "data": [
        {
         "hovertemplate": "species=setosa<br>sepal_width=%{x}<br>sepal_length=%{y}<extra></extra>",
         "legendgroup": "setosa",
         "marker": {
          "color": "#636efa",
          "symbol": "circle"
         },
         "mode": "markers",
         "name": "setosa",
         "orientation": "v",
         "showlegend": true,
         "type": "scatter",
         "x": [
          3.5,
          3,
          3.2,
          3.1,
          3.6,
          3.9,
          3.4,
          3.4,
          2.9,
          3.1,
          3.7,
          3.4,
          3,
          3,
          4,
          4.4,
          3.9,
          3.5,
          3.8,
          3.8,
          3.4,
          3.7,
          3.6,
          3.3,
          3.4,
          3,
          3.4,
          3.5,
          3.4,
          3.2,
          3.1,
          3.4,
          4.1,
          4.2,
          3.1,
          3.2,
          3.5,
          3.6,
          3,
          3.4,
          3.5,
          2.3,
          3.2,
          3.5,
          3.8,
          3,
          3.8,
          3.2,
          3.7,
          3.3
         ],
         "xaxis": "x",
         "y": [
          5.1,
          4.9,
          4.7,
          4.6,
          5,
          5.4,
          4.6,
          5,
          4.4,
          4.9,
          5.4,
          4.8,
          4.8,
          4.3,
          5.8,
          5.7,
          5.4,
          5.1,
          5.7,
          5.1,
          5.4,
          5.1,
          4.6,
          5.1,
          4.8,
          5,
          5,
          5.2,
          5.2,
          4.7,
          4.8,
          5.4,
          5.2,
          5.5,
          4.9,
          5,
          5.5,
          4.9,
          4.4,
          5.1,
          5,
          4.5,
          4.4,
          5,
          5.1,
          4.8,
          5.1,
          4.6,
          5.3,
          5
         ],
         "yaxis": "y"
        },
        {
         "hovertemplate": "species=versicolor<br>sepal_width=%{x}<br>sepal_length=%{y}<extra></extra>",
         "legendgroup": "versicolor",
         "marker": {
          "color": "#EF553B",
          "symbol": "circle"
         },
         "mode": "markers",
         "name": "versicolor",
         "orientation": "v",
         "showlegend": true,
         "type": "scatter",
         "x": [
          3.2,
          3.2,
          3.1,
          2.3,
          2.8,
          2.8,
          3.3,
          2.4,
          2.9,
          2.7,
          2,
          3,
          2.2,
          2.9,
          2.9,
          3.1,
          3,
          2.7,
          2.2,
          2.5,
          3.2,
          2.8,
          2.5,
          2.8,
          2.9,
          3,
          2.8,
          3,
          2.9,
          2.6,
          2.4,
          2.4,
          2.7,
          2.7,
          3,
          3.4,
          3.1,
          2.3,
          3,
          2.5,
          2.6,
          3,
          2.6,
          2.3,
          2.7,
          3,
          2.9,
          2.9,
          2.5,
          2.8
         ],
         "xaxis": "x",
         "y": [
          7,
          6.4,
          6.9,
          5.5,
          6.5,
          5.7,
          6.3,
          4.9,
          6.6,
          5.2,
          5,
          5.9,
          6,
          6.1,
          5.6,
          6.7,
          5.6,
          5.8,
          6.2,
          5.6,
          5.9,
          6.1,
          6.3,
          6.1,
          6.4,
          6.6,
          6.8,
          6.7,
          6,
          5.7,
          5.5,
          5.5,
          5.8,
          6,
          5.4,
          6,
          6.7,
          6.3,
          5.6,
          5.5,
          5.5,
          6.1,
          5.8,
          5,
          5.6,
          5.7,
          5.7,
          6.2,
          5.1,
          5.7
         ],
         "yaxis": "y"
        },
        {
         "hovertemplate": "species=virginica<br>sepal_width=%{x}<br>sepal_length=%{y}<extra></extra>",
         "legendgroup": "virginica",
         "marker": {
          "color": "#00cc96",
          "symbol": "circle"
         },
         "mode": "markers",
         "name": "virginica",
         "orientation": "v",
         "showlegend": true,
         "type": "scatter",
         "x": [
          3.3,
          2.7,
          3,
          2.9,
          3,
          3,
          2.5,
          2.9,
          2.5,
          3.6,
          3.2,
          2.7,
          3,
          2.5,
          2.8,
          3.2,
          3,
          3.8,
          2.6,
          2.2,
          3.2,
          2.8,
          2.8,
          2.7,
          3.3,
          3.2,
          2.8,
          3,
          2.8,
          3,
          2.8,
          3.8,
          2.8,
          2.8,
          2.6,
          3,
          3.4,
          3.1,
          3,
          3.1,
          3.1,
          3.1,
          2.7,
          3.2,
          3.3,
          3,
          2.5,
          3,
          3.4,
          3
         ],
         "xaxis": "x",
         "y": [
          6.3,
          5.8,
          7.1,
          6.3,
          6.5,
          7.6,
          4.9,
          7.3,
          6.7,
          7.2,
          6.5,
          6.4,
          6.8,
          5.7,
          5.8,
          6.4,
          6.5,
          7.7,
          7.7,
          6,
          6.9,
          5.6,
          7.7,
          6.3,
          6.7,
          7.2,
          6.2,
          6.1,
          6.4,
          7.2,
          7.4,
          7.9,
          6.4,
          6.3,
          6.1,
          7.7,
          6.3,
          6.4,
          6,
          6.9,
          6.7,
          6.9,
          5.8,
          6.8,
          6.7,
          6.7,
          6.3,
          6.5,
          6.2,
          5.9
         ],
         "yaxis": "y"
        }
       ],
       "layout": {
        "legend": {
         "title": {
          "text": "species"
         },
         "tracegroupgap": 0
        },
        "margin": {
         "t": 60
        },
        "template": {
         "data": {
          "bar": [
           {
            "error_x": {
             "color": "#2a3f5f"
            },
            "error_y": {
             "color": "#2a3f5f"
            },
            "marker": {
             "line": {
              "color": "#E5ECF6",
              "width": 0.5
             },
             "pattern": {
              "fillmode": "overlay",
              "size": 10,
              "solidity": 0.2
             }
            },
            "type": "bar"
           }
          ],
          "barpolar": [
           {
            "marker": {
             "line": {
              "color": "#E5ECF6",
              "width": 0.5
             },
             "pattern": {
              "fillmode": "overlay",
              "size": 10,
              "solidity": 0.2
             }
            },
            "type": "barpolar"
           }
          ],
          "carpet": [
           {
            "aaxis": {
             "endlinecolor": "#2a3f5f",
             "gridcolor": "white",
             "linecolor": "white",
             "minorgridcolor": "white",
             "startlinecolor": "#2a3f5f"
            },
            "baxis": {
             "endlinecolor": "#2a3f5f",
             "gridcolor": "white",
             "linecolor": "white",
             "minorgridcolor": "white",
             "startlinecolor": "#2a3f5f"
            },
            "type": "carpet"
           }
          ],
          "choropleth": [
           {
            "colorbar": {
             "outlinewidth": 0,
             "ticks": ""
            },
            "type": "choropleth"
           }
          ],
          "contour": [
           {
            "colorbar": {
             "outlinewidth": 0,
             "ticks": ""
            },
            "colorscale": [
             [
              0,
              "#0d0887"
             ],
             [
              0.1111111111111111,
              "#46039f"
             ],
             [
              0.2222222222222222,
              "#7201a8"
             ],
             [
              0.3333333333333333,
              "#9c179e"
             ],
             [
              0.4444444444444444,
              "#bd3786"
             ],
             [
              0.5555555555555556,
              "#d8576b"
             ],
             [
              0.6666666666666666,
              "#ed7953"
             ],
             [
              0.7777777777777778,
              "#fb9f3a"
             ],
             [
              0.8888888888888888,
              "#fdca26"
             ],
             [
              1,
              "#f0f921"
             ]
            ],
            "type": "contour"
           }
          ],
          "contourcarpet": [
           {
            "colorbar": {
             "outlinewidth": 0,
             "ticks": ""
            },
            "type": "contourcarpet"
           }
          ],
          "heatmap": [
           {
            "colorbar": {
             "outlinewidth": 0,
             "ticks": ""
            },
            "colorscale": [
             [
              0,
              "#0d0887"
             ],
             [
              0.1111111111111111,
              "#46039f"
             ],
             [
              0.2222222222222222,
              "#7201a8"
             ],
             [
              0.3333333333333333,
              "#9c179e"
             ],
             [
              0.4444444444444444,
              "#bd3786"
             ],
             [
              0.5555555555555556,
              "#d8576b"
             ],
             [
              0.6666666666666666,
              "#ed7953"
             ],
             [
              0.7777777777777778,
              "#fb9f3a"
             ],
             [
              0.8888888888888888,
              "#fdca26"
             ],
             [
              1,
              "#f0f921"
             ]
            ],
            "type": "heatmap"
           }
          ],
          "heatmapgl": [
           {
            "colorbar": {
             "outlinewidth": 0,
             "ticks": ""
            },
            "colorscale": [
             [
              0,
              "#0d0887"
             ],
             [
              0.1111111111111111,
              "#46039f"
             ],
             [
              0.2222222222222222,
              "#7201a8"
             ],
             [
              0.3333333333333333,
              "#9c179e"
             ],
             [
              0.4444444444444444,
              "#bd3786"
             ],
             [
              0.5555555555555556,
              "#d8576b"
             ],
             [
              0.6666666666666666,
              "#ed7953"
             ],
             [
              0.7777777777777778,
              "#fb9f3a"
             ],
             [
              0.8888888888888888,
              "#fdca26"
             ],
             [
              1,
              "#f0f921"
             ]
            ],
            "type": "heatmapgl"
           }
          ],
          "histogram": [
           {
            "marker": {
             "pattern": {
              "fillmode": "overlay",
              "size": 10,
              "solidity": 0.2
             }
            },
            "type": "histogram"
           }
          ],
          "histogram2d": [
           {
            "colorbar": {
             "outlinewidth": 0,
             "ticks": ""
            },
            "colorscale": [
             [
              0,
              "#0d0887"
             ],
             [
              0.1111111111111111,
              "#46039f"
             ],
             [
              0.2222222222222222,
              "#7201a8"
             ],
             [
              0.3333333333333333,
              "#9c179e"
             ],
             [
              0.4444444444444444,
              "#bd3786"
             ],
             [
              0.5555555555555556,
              "#d8576b"
             ],
             [
              0.6666666666666666,
              "#ed7953"
             ],
             [
              0.7777777777777778,
              "#fb9f3a"
             ],
             [
              0.8888888888888888,
              "#fdca26"
             ],
             [
              1,
              "#f0f921"
             ]
            ],
            "type": "histogram2d"
           }
          ],
          "histogram2dcontour": [
           {
            "colorbar": {
             "outlinewidth": 0,
             "ticks": ""
            },
            "colorscale": [
             [
              0,
              "#0d0887"
             ],
             [
              0.1111111111111111,
              "#46039f"
             ],
             [
              0.2222222222222222,
              "#7201a8"
             ],
             [
              0.3333333333333333,
              "#9c179e"
             ],
             [
              0.4444444444444444,
              "#bd3786"
             ],
             [
              0.5555555555555556,
              "#d8576b"
             ],
             [
              0.6666666666666666,
              "#ed7953"
             ],
             [
              0.7777777777777778,
              "#fb9f3a"
             ],
             [
              0.8888888888888888,
              "#fdca26"
             ],
             [
              1,
              "#f0f921"
             ]
            ],
            "type": "histogram2dcontour"
           }
          ],
          "mesh3d": [
           {
            "colorbar": {
             "outlinewidth": 0,
             "ticks": ""
            },
            "type": "mesh3d"
           }
          ],
          "parcoords": [
           {
            "line": {
             "colorbar": {
              "outlinewidth": 0,
              "ticks": ""
             }
            },
            "type": "parcoords"
           }
          ],
          "pie": [
           {
            "automargin": true,
            "type": "pie"
           }
          ],
          "scatter": [
           {
            "fillpattern": {
             "fillmode": "overlay",
             "size": 10,
             "solidity": 0.2
            },
            "type": "scatter"
           }
          ],
          "scatter3d": [
           {
            "line": {
             "colorbar": {
              "outlinewidth": 0,
              "ticks": ""
             }
            },
            "marker": {
             "colorbar": {
              "outlinewidth": 0,
              "ticks": ""
             }
            },
            "type": "scatter3d"
           }
          ],
          "scattercarpet": [
           {
            "marker": {
             "colorbar": {
              "outlinewidth": 0,
              "ticks": ""
             }
            },
            "type": "scattercarpet"
           }
          ],
          "scattergeo": [
           {
            "marker": {
             "colorbar": {
              "outlinewidth": 0,
              "ticks": ""
             }
            },
            "type": "scattergeo"
           }
          ],
          "scattergl": [
           {
            "marker": {
             "colorbar": {
              "outlinewidth": 0,
              "ticks": ""
             }
            },
            "type": "scattergl"
           }
          ],
          "scattermapbox": [
           {
            "marker": {
             "colorbar": {
              "outlinewidth": 0,
              "ticks": ""
             }
            },
            "type": "scattermapbox"
           }
          ],
          "scatterpolar": [
           {
            "marker": {
             "colorbar": {
              "outlinewidth": 0,
              "ticks": ""
             }
            },
            "type": "scatterpolar"
           }
          ],
          "scatterpolargl": [
           {
            "marker": {
             "colorbar": {
              "outlinewidth": 0,
              "ticks": ""
             }
            },
            "type": "scatterpolargl"
           }
          ],
          "scatterternary": [
           {
            "marker": {
             "colorbar": {
              "outlinewidth": 0,
              "ticks": ""
             }
            },
            "type": "scatterternary"
           }
          ],
          "surface": [
           {
            "colorbar": {
             "outlinewidth": 0,
             "ticks": ""
            },
            "colorscale": [
             [
              0,
              "#0d0887"
             ],
             [
              0.1111111111111111,
              "#46039f"
             ],
             [
              0.2222222222222222,
              "#7201a8"
             ],
             [
              0.3333333333333333,
              "#9c179e"
             ],
             [
              0.4444444444444444,
              "#bd3786"
             ],
             [
              0.5555555555555556,
              "#d8576b"
             ],
             [
              0.6666666666666666,
              "#ed7953"
             ],
             [
              0.7777777777777778,
              "#fb9f3a"
             ],
             [
              0.8888888888888888,
              "#fdca26"
             ],
             [
              1,
              "#f0f921"
             ]
            ],
            "type": "surface"
           }
          ],
          "table": [
           {
            "cells": {
             "fill": {
              "color": "#EBF0F8"
             },
             "line": {
              "color": "white"
             }
            },
            "header": {
             "fill": {
              "color": "#C8D4E3"
             },
             "line": {
              "color": "white"
             }
            },
            "type": "table"
           }
          ]
         },
         "layout": {
          "annotationdefaults": {
           "arrowcolor": "#2a3f5f",
           "arrowhead": 0,
           "arrowwidth": 1
          },
          "autotypenumbers": "strict",
          "coloraxis": {
           "colorbar": {
            "outlinewidth": 0,
            "ticks": ""
           }
          },
          "colorscale": {
           "diverging": [
            [
             0,
             "#8e0152"
            ],
            [
             0.1,
             "#c51b7d"
            ],
            [
             0.2,
             "#de77ae"
            ],
            [
             0.3,
             "#f1b6da"
            ],
            [
             0.4,
             "#fde0ef"
            ],
            [
             0.5,
             "#f7f7f7"
            ],
            [
             0.6,
             "#e6f5d0"
            ],
            [
             0.7,
             "#b8e186"
            ],
            [
             0.8,
             "#7fbc41"
            ],
            [
             0.9,
             "#4d9221"
            ],
            [
             1,
             "#276419"
            ]
           ],
           "sequential": [
            [
             0,
             "#0d0887"
            ],
            [
             0.1111111111111111,
             "#46039f"
            ],
            [
             0.2222222222222222,
             "#7201a8"
            ],
            [
             0.3333333333333333,
             "#9c179e"
            ],
            [
             0.4444444444444444,
             "#bd3786"
            ],
            [
             0.5555555555555556,
             "#d8576b"
            ],
            [
             0.6666666666666666,
             "#ed7953"
            ],
            [
             0.7777777777777778,
             "#fb9f3a"
            ],
            [
             0.8888888888888888,
             "#fdca26"
            ],
            [
             1,
             "#f0f921"
            ]
           ],
           "sequentialminus": [
            [
             0,
             "#0d0887"
            ],
            [
             0.1111111111111111,
             "#46039f"
            ],
            [
             0.2222222222222222,
             "#7201a8"
            ],
            [
             0.3333333333333333,
             "#9c179e"
            ],
            [
             0.4444444444444444,
             "#bd3786"
            ],
            [
             0.5555555555555556,
             "#d8576b"
            ],
            [
             0.6666666666666666,
             "#ed7953"
            ],
            [
             0.7777777777777778,
             "#fb9f3a"
            ],
            [
             0.8888888888888888,
             "#fdca26"
            ],
            [
             1,
             "#f0f921"
            ]
           ]
          },
          "colorway": [
           "#636efa",
           "#EF553B",
           "#00cc96",
           "#ab63fa",
           "#FFA15A",
           "#19d3f3",
           "#FF6692",
           "#B6E880",
           "#FF97FF",
           "#FECB52"
          ],
          "font": {
           "color": "#2a3f5f"
          },
          "geo": {
           "bgcolor": "white",
           "lakecolor": "white",
           "landcolor": "#E5ECF6",
           "showlakes": true,
           "showland": true,
           "subunitcolor": "white"
          },
          "hoverlabel": {
           "align": "left"
          },
          "hovermode": "closest",
          "mapbox": {
           "style": "light"
          },
          "paper_bgcolor": "white",
          "plot_bgcolor": "#E5ECF6",
          "polar": {
           "angularaxis": {
            "gridcolor": "white",
            "linecolor": "white",
            "ticks": ""
           },
           "bgcolor": "#E5ECF6",
           "radialaxis": {
            "gridcolor": "white",
            "linecolor": "white",
            "ticks": ""
           }
          },
          "scene": {
           "xaxis": {
            "backgroundcolor": "#E5ECF6",
            "gridcolor": "white",
            "gridwidth": 2,
            "linecolor": "white",
            "showbackground": true,
            "ticks": "",
            "zerolinecolor": "white"
           },
           "yaxis": {
            "backgroundcolor": "#E5ECF6",
            "gridcolor": "white",
            "gridwidth": 2,
            "linecolor": "white",
            "showbackground": true,
            "ticks": "",
            "zerolinecolor": "white"
           },
           "zaxis": {
            "backgroundcolor": "#E5ECF6",
            "gridcolor": "white",
            "gridwidth": 2,
            "linecolor": "white",
            "showbackground": true,
            "ticks": "",
            "zerolinecolor": "white"
           }
          },
          "shapedefaults": {
           "line": {
            "color": "#2a3f5f"
           }
          },
          "ternary": {
           "aaxis": {
            "gridcolor": "white",
            "linecolor": "white",
            "ticks": ""
           },
           "baxis": {
            "gridcolor": "white",
            "linecolor": "white",
            "ticks": ""
           },
           "bgcolor": "#E5ECF6",
           "caxis": {
            "gridcolor": "white",
            "linecolor": "white",
            "ticks": ""
           }
          },
          "title": {
           "x": 0.05
          },
          "xaxis": {
           "automargin": true,
           "gridcolor": "white",
           "linecolor": "white",
           "ticks": "",
           "title": {
            "standoff": 15
           },
           "zerolinecolor": "white",
           "zerolinewidth": 2
          },
          "yaxis": {
           "automargin": true,
           "gridcolor": "white",
           "linecolor": "white",
           "ticks": "",
           "title": {
            "standoff": 15
           },
           "zerolinecolor": "white",
           "zerolinewidth": 2
          }
         }
        },
        "width": 650,
        "xaxis": {
         "anchor": "y",
         "domain": [
          0,
          1
         ],
         "title": {
          "text": "sepal_width"
         }
        },
        "yaxis": {
         "anchor": "x",
         "domain": [
          0,
          1
         ],
         "title": {
          "text": "sepal_length"
         }
        }
       }
      }
     },
     "metadata": {},
     "output_type": "display_data"
    }
   ],
   "source": [
    "import plotly.express as px\n",
    "\n",
    "px.scatter(\n",
    "            df,\n",
    "            x=\"sepal_width\",\n",
    "            y=\"sepal_length\",\n",
    "            color=\"species\",\n",
    "            width=650,\n",
    "            )"
   ]
  },
  {
   "cell_type": "code",
   "execution_count": null,
   "metadata": {
    "id": "1KcJXkQE3Dmt"
   },
   "outputs": [],
   "source": []
  },
  {
   "cell_type": "code",
   "execution_count": null,
   "metadata": {},
   "outputs": [],
   "source": []
  }
 ],
 "metadata": {
  "colab": {
   "provenance": []
  },
  "kernelspec": {
   "display_name": "Python 3",
   "language": "python",
   "name": "python3"
  },
  "language_info": {
   "codemirror_mode": {
    "name": "ipython",
    "version": 3
   },
   "file_extension": ".py",
   "mimetype": "text/x-python",
   "name": "python",
   "nbconvert_exporter": "python",
   "pygments_lexer": "ipython3",
   "version": "3.11.9"
  }
 },
 "nbformat": 4,
 "nbformat_minor": 0
}
