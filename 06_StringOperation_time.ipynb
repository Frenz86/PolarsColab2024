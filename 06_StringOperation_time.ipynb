{
 "cells": [
  {
   "cell_type": "markdown",
   "metadata": {
    "id": "M071vB8egaHW"
   },
   "source": [
    "## 6. Polars: string operation time"
   ]
  },
  {
   "cell_type": "code",
   "execution_count": 2,
   "metadata": {
    "colab": {
     "base_uri": "https://localhost:8080/"
    },
    "executionInfo": {
     "elapsed": 1024,
     "status": "ok",
     "timestamp": 1730964228856,
     "user": {
      "displayName": "Daniele Grotti",
      "userId": "05993002232846155126"
     },
     "user_tz": -60
    },
    "id": "IVfPRszIgYxO",
    "outputId": "92deec25-04a5-44d8-8725-37efa52c4d2a"
   },
   "outputs": [
    {
     "name": "stdout",
     "output_type": "stream",
     "text": [
      "--2024-11-07 07:23:47--  https://frenzy86.s3.eu-west-2.amazonaws.com/python/data/weather_2012.csv\n",
      "Resolving frenzy86.s3.eu-west-2.amazonaws.com (frenzy86.s3.eu-west-2.amazonaws.com)... 3.5.245.154, 52.95.143.2, 3.5.246.196, ...\n",
      "Connecting to frenzy86.s3.eu-west-2.amazonaws.com (frenzy86.s3.eu-west-2.amazonaws.com)|3.5.245.154|:443... connected.\n",
      "HTTP request sent, awaiting response... 200 OK\n",
      "Length: 503772 (492K) [text/csv]\n",
      "Saving to: ‘weather_2012.csv’\n",
      "\n",
      "weather_2012.csv    100%[===================>] 491.96K  1.06MB/s    in 0.5s    \n",
      "\n",
      "2024-11-07 07:23:48 (1.06 MB/s) - ‘weather_2012.csv’ saved [503772/503772]\n",
      "\n"
     ]
    }
   ],
   "source": [
    "!wget https://frenzy86.s3.eu-west-2.amazonaws.com/python/data/weather_2012.csv"
   ]
  },
  {
   "cell_type": "code",
   "execution_count": 6,
   "metadata": {
    "executionInfo": {
     "elapsed": 386,
     "status": "ok",
     "timestamp": 1730964227837,
     "user": {
      "displayName": "Daniele Grotti",
      "userId": "05993002232846155126"
     },
     "user_tz": -60
    },
    "id": "sAaROLDegTD2"
   },
   "outputs": [],
   "source": [
    "#path = \"weather_2012.csv\"\n",
    "path = \"https://frenzy86.s3.eu-west-2.amazonaws.com/python/data/weather_2012.csv\""
   ]
  },
  {
   "cell_type": "code",
   "execution_count": 7,
   "metadata": {
    "colab": {
     "base_uri": "https://localhost:8080/"
    },
    "executionInfo": {
     "elapsed": 10819,
     "status": "ok",
     "timestamp": 1730964239672,
     "user": {
      "displayName": "Daniele Grotti",
      "userId": "05993002232846155126"
     },
     "user_tz": -60
    },
    "id": "uRfeSdEpqil_",
    "outputId": "a9e6d78b-bf23-4607-e190-eaf3c3e986bf"
   },
   "outputs": [
    {
     "name": "stdout",
     "output_type": "stream",
     "text": [
      "1.23.0\n"
     ]
    }
   ],
   "source": [
    "import polars as pl\n",
    "import polars.selectors as cs\n",
    "import seaborn as sbn\n",
    "import matplotlib.pyplot as plt\n",
    "\n",
    "# Make the graphs a bit prettier, and bigger\n",
    "plt.style.use('ggplot')\n",
    "plt.rcParams['figure.figsize'] = (15, 5)\n",
    "plt.rcParams['font.family'] = 'sans-serif'\n",
    "\n",
    "print(pl.__version__)"
   ]
  },
  {
   "cell_type": "markdown",
   "metadata": {
    "id": "kK-W0mPhqimE"
   },
   "source": [
    "We saw earlier that polars is really good at dealing with dates. It is also amazing with strings! We're going to go back to our weather data from Chapter 5, here."
   ]
  },
  {
   "cell_type": "code",
   "execution_count": 8,
   "metadata": {
    "colab": {
     "base_uri": "https://localhost:8080/",
     "height": 255
    },
    "executionInfo": {
     "elapsed": 438,
     "status": "ok",
     "timestamp": 1730964240107,
     "user": {
      "displayName": "Daniele Grotti",
      "userId": "05993002232846155126"
     },
     "user_tz": -60
    },
    "id": "-Qeej4vwqimG",
    "outputId": "59e3e5c3-77fb-4b74-d4ab-e91ef621e4e3"
   },
   "outputs": [
    {
     "data": {
      "text/html": [
       "<div><style>\n",
       ".dataframe > thead > tr,\n",
       ".dataframe > tbody > tr {\n",
       "  text-align: right;\n",
       "  white-space: pre-wrap;\n",
       "}\n",
       "</style>\n",
       "<small>shape: (5, 8)</small><table border=\"1\" class=\"dataframe\"><thead><tr><th>Date/Time</th><th>Temp (C)</th><th>Dew Point Temp (C)</th><th>Rel Hum (%)</th><th>Wind Spd (km/h)</th><th>Visibility (km)</th><th>Stn Press (kPa)</th><th>Weather</th></tr><tr><td>datetime[μs]</td><td>f64</td><td>f64</td><td>i64</td><td>i64</td><td>f64</td><td>f64</td><td>str</td></tr></thead><tbody><tr><td>2012-01-01 00:00:00</td><td>-1.8</td><td>-3.9</td><td>86</td><td>4</td><td>8.0</td><td>101.24</td><td>&quot;Fog&quot;</td></tr><tr><td>2012-01-01 01:00:00</td><td>-1.8</td><td>-3.7</td><td>87</td><td>4</td><td>8.0</td><td>101.24</td><td>&quot;Fog&quot;</td></tr><tr><td>2012-01-01 02:00:00</td><td>-1.8</td><td>-3.4</td><td>89</td><td>7</td><td>4.0</td><td>101.26</td><td>&quot;Freezing Drizzle,Fog&quot;</td></tr><tr><td>2012-01-01 03:00:00</td><td>-1.5</td><td>-3.2</td><td>88</td><td>6</td><td>4.0</td><td>101.27</td><td>&quot;Freezing Drizzle,Fog&quot;</td></tr><tr><td>2012-01-01 04:00:00</td><td>-1.5</td><td>-3.3</td><td>88</td><td>7</td><td>4.8</td><td>101.23</td><td>&quot;Fog&quot;</td></tr></tbody></table></div>"
      ],
      "text/plain": [
       "shape: (5, 8)\n",
       "┌────────────┬──────────┬────────────┬────────────┬────────────┬───────────┬───────────┬───────────┐\n",
       "│ Date/Time  ┆ Temp (C) ┆ Dew Point  ┆ Rel Hum    ┆ Wind Spd   ┆ Visibilit ┆ Stn Press ┆ Weather   │\n",
       "│ ---        ┆ ---      ┆ Temp (C)   ┆ (%)        ┆ (km/h)     ┆ y (km)    ┆ (kPa)     ┆ ---       │\n",
       "│ datetime[μ ┆ f64      ┆ ---        ┆ ---        ┆ ---        ┆ ---       ┆ ---       ┆ str       │\n",
       "│ s]         ┆          ┆ f64        ┆ i64        ┆ i64        ┆ f64       ┆ f64       ┆           │\n",
       "╞════════════╪══════════╪════════════╪════════════╪════════════╪═══════════╪═══════════╪═══════════╡\n",
       "│ 2012-01-01 ┆ -1.8     ┆ -3.9       ┆ 86         ┆ 4          ┆ 8.0       ┆ 101.24    ┆ Fog       │\n",
       "│ 00:00:00   ┆          ┆            ┆            ┆            ┆           ┆           ┆           │\n",
       "│ 2012-01-01 ┆ -1.8     ┆ -3.7       ┆ 87         ┆ 4          ┆ 8.0       ┆ 101.24    ┆ Fog       │\n",
       "│ 01:00:00   ┆          ┆            ┆            ┆            ┆           ┆           ┆           │\n",
       "│ 2012-01-01 ┆ -1.8     ┆ -3.4       ┆ 89         ┆ 7          ┆ 4.0       ┆ 101.26    ┆ Freezing  │\n",
       "│ 02:00:00   ┆          ┆            ┆            ┆            ┆           ┆           ┆ Drizzle,F │\n",
       "│            ┆          ┆            ┆            ┆            ┆           ┆           ┆ og        │\n",
       "│ 2012-01-01 ┆ -1.5     ┆ -3.2       ┆ 88         ┆ 6          ┆ 4.0       ┆ 101.27    ┆ Freezing  │\n",
       "│ 03:00:00   ┆          ┆            ┆            ┆            ┆           ┆           ┆ Drizzle,F │\n",
       "│            ┆          ┆            ┆            ┆            ┆           ┆           ┆ og        │\n",
       "│ 2012-01-01 ┆ -1.5     ┆ -3.3       ┆ 88         ┆ 7          ┆ 4.8       ┆ 101.23    ┆ Fog       │\n",
       "│ 04:00:00   ┆          ┆            ┆            ┆            ┆           ┆           ┆           │\n",
       "└────────────┴──────────┴────────────┴────────────┴────────────┴───────────┴───────────┴───────────┘"
      ]
     },
     "execution_count": 8,
     "metadata": {},
     "output_type": "execute_result"
    }
   ],
   "source": [
    "weather_2012 = pl.read_csv(path,\n",
    "                           try_parse_dates=True)\n",
    "weather_2012.head()"
   ]
  },
  {
   "cell_type": "markdown",
   "metadata": {
    "id": "5afr0NQ2qimI"
   },
   "source": [
    "# 6.1 String operations"
   ]
  },
  {
   "cell_type": "markdown",
   "metadata": {
    "id": "E6qgXmfZqimI"
   },
   "source": [
    "You'll see that the 'Weather' column has a text description of the weather that was going on each hour. We'll assume it's snowing if the text description contains \"Snow\".\n",
    "\n",
    "polars provides vectorized string functions, to make it easy to operate on columns containing text. There are some great [examples](https://pola-rs.github.io/polars-book/user-guide/expressions/strings/) in the user guide. The [api documentation](https://pola-rs.github.io/polars/py-polars/html/reference/series/string.html) is also a good place to search for string functionality."
   ]
  },
  {
   "cell_type": "code",
   "execution_count": 9,
   "metadata": {
    "colab": {
     "base_uri": "https://localhost:8080/",
     "height": 411
    },
    "executionInfo": {
     "elapsed": 8,
     "status": "ok",
     "timestamp": 1730964240107,
     "user": {
      "displayName": "Daniele Grotti",
      "userId": "05993002232846155126"
     },
     "user_tz": -60
    },
    "id": "qesOYZKRqimI",
    "outputId": "405f0882-5e09-474b-c3e1-f5798fbf0137"
   },
   "outputs": [
    {
     "data": {
      "text/html": [
       "<div><style>\n",
       ".dataframe > thead > tr,\n",
       ".dataframe > tbody > tr {\n",
       "  text-align: right;\n",
       "  white-space: pre-wrap;\n",
       "}\n",
       "</style>\n",
       "<small>shape: (10,)</small><table border=\"1\" class=\"dataframe\"><thead><tr><th>Weather</th></tr><tr><td>bool</td></tr></thead><tbody><tr><td>false</td></tr><tr><td>false</td></tr><tr><td>false</td></tr><tr><td>false</td></tr><tr><td>false</td></tr><tr><td>false</td></tr><tr><td>false</td></tr><tr><td>false</td></tr><tr><td>false</td></tr><tr><td>false</td></tr></tbody></table></div>"
      ],
      "text/plain": [
       "shape: (10,)\n",
       "Series: 'Weather' [bool]\n",
       "[\n",
       "\tfalse\n",
       "\tfalse\n",
       "\tfalse\n",
       "\tfalse\n",
       "\tfalse\n",
       "\tfalse\n",
       "\tfalse\n",
       "\tfalse\n",
       "\tfalse\n",
       "\tfalse\n",
       "]"
      ]
     },
     "execution_count": 9,
     "metadata": {},
     "output_type": "execute_result"
    }
   ],
   "source": [
    "is_snowing = weather_2012['Weather'].str.contains('Snow')\n",
    "# Not super useful\n",
    "is_snowing.head()"
   ]
  },
  {
   "cell_type": "markdown",
   "metadata": {
    "id": "Ibs0GMCkqimJ"
   },
   "source": [
    "This gives us a binary vector, which is a bit hard to look at, so we'll plot it."
   ]
  },
  {
   "cell_type": "code",
   "execution_count": 10,
   "metadata": {
    "colab": {
     "base_uri": "https://localhost:8080/",
     "height": 462
    },
    "executionInfo": {
     "elapsed": 1226,
     "status": "ok",
     "timestamp": 1730964241327,
     "user": {
      "displayName": "Daniele Grotti",
      "userId": "05993002232846155126"
     },
     "user_tz": -60
    },
    "id": "R2CB78lXqimK",
    "outputId": "a27f21c6-6df6-4bb2-bc15-c1a3d6c13e06"
   },
   "outputs": [
    {
     "data": {
      "text/plain": [
       "<Axes: >"
      ]
     },
     "execution_count": 10,
     "metadata": {},
     "output_type": "execute_result"
    },
    {
     "data": {
      "image/png": "[encoded data removed]",
      "text/plain": [
       "<Figure size 1500x500 with 1 Axes>"
      ]
     },
     "metadata": {},
     "output_type": "display_data"
    }
   ],
   "source": [
    "# More useful!\n",
    "is_snowing=is_snowing.cast(pl.Float32)\n",
    "sbn.lineplot(is_snowing)"
   ]
  },
  {
   "cell_type": "markdown",
   "metadata": {
    "id": "-StKBB19qimK"
   },
   "source": [
    "# 6.2 Use resampling to find the snowiest month"
   ]
  },
  {
   "cell_type": "markdown",
   "metadata": {
    "id": "AIaNKCteqimL"
   },
   "source": [
    "If we wanted the median temperature each month, we could use the `groupby_dynamic()` method like this:"
   ]
  },
  {
   "cell_type": "code",
   "execution_count": 11,
   "metadata": {
    "colab": {
     "base_uri": "https://localhost:8080/",
     "height": 964
    },
    "executionInfo": {
     "elapsed": 1089,
     "status": "ok",
     "timestamp": 1730964242411,
     "user": {
      "displayName": "Daniele Grotti",
      "userId": "05993002232846155126"
     },
     "user_tz": -60
    },
    "id": "vyS1xv_HqimL",
    "outputId": "0a093c39-cb10-4634-c838-5751dfc7c9cb"
   },
   "outputs": [
    {
     "data": {
      "text/html": [
       "<div><style>\n",
       ".dataframe > thead > tr,\n",
       ".dataframe > tbody > tr {\n",
       "  text-align: right;\n",
       "  white-space: pre-wrap;\n",
       "}\n",
       "</style>\n",
       "<small>shape: (12, 2)</small><table border=\"1\" class=\"dataframe\"><thead><tr><th>Date/Time</th><th>Temp (C)</th></tr><tr><td>datetime[μs]</td><td>f64</td></tr></thead><tbody><tr><td>2012-01-01 00:00:00</td><td>-7.05</td></tr><tr><td>2012-02-01 00:00:00</td><td>-4.1</td></tr><tr><td>2012-03-01 00:00:00</td><td>2.6</td></tr><tr><td>2012-04-01 00:00:00</td><td>6.3</td></tr><tr><td>2012-05-01 00:00:00</td><td>16.05</td></tr><tr><td>&hellip;</td><td>&hellip;</td></tr><tr><td>2012-08-01 00:00:00</td><td>22.2</td></tr><tr><td>2012-09-01 00:00:00</td><td>16.1</td></tr><tr><td>2012-10-01 00:00:00</td><td>11.3</td></tr><tr><td>2012-11-01 00:00:00</td><td>1.05</td></tr><tr><td>2012-12-01 00:00:00</td><td>-2.85</td></tr></tbody></table></div>"
      ],
      "text/plain": [
       "shape: (12, 2)\n",
       "┌─────────────────────┬──────────┐\n",
       "│ Date/Time           ┆ Temp (C) │\n",
       "│ ---                 ┆ ---      │\n",
       "│ datetime[μs]        ┆ f64      │\n",
       "╞═════════════════════╪══════════╡\n",
       "│ 2012-01-01 00:00:00 ┆ -7.05    │\n",
       "│ 2012-02-01 00:00:00 ┆ -4.1     │\n",
       "│ 2012-03-01 00:00:00 ┆ 2.6      │\n",
       "│ 2012-04-01 00:00:00 ┆ 6.3      │\n",
       "│ 2012-05-01 00:00:00 ┆ 16.05    │\n",
       "│ …                   ┆ …        │\n",
       "│ 2012-08-01 00:00:00 ┆ 22.2     │\n",
       "│ 2012-09-01 00:00:00 ┆ 16.1     │\n",
       "│ 2012-10-01 00:00:00 ┆ 11.3     │\n",
       "│ 2012-11-01 00:00:00 ┆ 1.05     │\n",
       "│ 2012-12-01 00:00:00 ┆ -2.85    │\n",
       "└─────────────────────┴──────────┘"
      ]
     },
     "metadata": {},
     "output_type": "display_data"
    },
    {
     "data": {
      "text/plain": [
       "<Axes: xlabel='Date/Time', ylabel='Temp (C)'>"
      ]
     },
     "execution_count": 11,
     "metadata": {},
     "output_type": "execute_result"
    },
    {
     "data": {
      "image/png": "[encoded data removed]",
      "text/plain": [
       "<Figure size 1500x500 with 1 Axes>"
      ]
     },
     "metadata": {},
     "output_type": "display_data"
    }
   ],
   "source": [
    "if not weather_2012['Date/Time'].is_sorted():\n",
    "    weather_2012 = weather_2012.sort('Date/Time')\n",
    "\n",
    "temp_by_month = weather_2012.set_sorted('Date/Time')\\\n",
    "                            .group_by_dynamic('Date/Time',\n",
    "                                               every='1mo')\\\n",
    "                            .agg(pl.col('Temp (C)').median())\n",
    "plt.xticks(rotation=45)\n",
    "display(temp_by_month)\n",
    "sbn.barplot(temp_by_month, x='Date/Time', y='Temp (C)',hue='Date/Time')"
   ]
  },
  {
   "cell_type": "markdown",
   "metadata": {
    "id": "ETH6zOYbqimL"
   },
   "source": [
    "Unsurprisingly, July and August are the warmest."
   ]
  },
  {
   "cell_type": "markdown",
   "metadata": {
    "id": "0RivKLGOqimL"
   },
   "source": [
    "So we can think of snowiness as being a bunch of 1s and 0s instead of `True`s and `False`s:"
   ]
  },
  {
   "cell_type": "code",
   "execution_count": 12,
   "metadata": {
    "colab": {
     "base_uri": "https://localhost:8080/",
     "height": 411
    },
    "executionInfo": {
     "elapsed": 7,
     "status": "ok",
     "timestamp": 1730964242411,
     "user": {
      "displayName": "Daniele Grotti",
      "userId": "05993002232846155126"
     },
     "user_tz": -60
    },
    "id": "VjScYeneqimM",
    "outputId": "23d3229e-0f5b-40bb-e352-f09693a473bc"
   },
   "outputs": [
    {
     "data": {
      "text/html": [
       "<div><style>\n",
       ".dataframe > thead > tr,\n",
       ".dataframe > tbody > tr {\n",
       "  text-align: right;\n",
       "  white-space: pre-wrap;\n",
       "}\n",
       "</style>\n",
       "<small>shape: (10,)</small><table border=\"1\" class=\"dataframe\"><thead><tr><th>Weather</th></tr><tr><td>f32</td></tr></thead><tbody><tr><td>0.0</td></tr><tr><td>0.0</td></tr><tr><td>0.0</td></tr><tr><td>0.0</td></tr><tr><td>0.0</td></tr><tr><td>0.0</td></tr><tr><td>0.0</td></tr><tr><td>0.0</td></tr><tr><td>0.0</td></tr><tr><td>0.0</td></tr></tbody></table></div>"
      ],
      "text/plain": [
       "shape: (10,)\n",
       "Series: 'Weather' [f32]\n",
       "[\n",
       "\t0.0\n",
       "\t0.0\n",
       "\t0.0\n",
       "\t0.0\n",
       "\t0.0\n",
       "\t0.0\n",
       "\t0.0\n",
       "\t0.0\n",
       "\t0.0\n",
       "\t0.0\n",
       "]"
      ]
     },
     "execution_count": 12,
     "metadata": {},
     "output_type": "execute_result"
    }
   ],
   "source": [
    "is_snowing.cast(pl.Float32).head(10)"
   ]
  },
  {
   "cell_type": "markdown",
   "metadata": {
    "id": "Rh798_kOqimM"
   },
   "source": [
    "and then use `groupby_dynamic` to find the percentage of time it was snowing each month"
   ]
  },
  {
   "cell_type": "code",
   "execution_count": 13,
   "metadata": {
    "colab": {
     "base_uri": "https://localhost:8080/",
     "height": 443
    },
    "executionInfo": {
     "elapsed": 416,
     "status": "ok",
     "timestamp": 1730964244917,
     "user": {
      "displayName": "Daniele Grotti",
      "userId": "05993002232846155126"
     },
     "user_tz": -60
    },
    "id": "2fxcTso7qimM",
    "outputId": "236c2e87-3cb7-4232-c4c8-d0e03471ac5b"
   },
   "outputs": [
    {
     "data": {
      "text/html": [
       "<div><style>\n",
       ".dataframe > thead > tr,\n",
       ".dataframe > tbody > tr {\n",
       "  text-align: right;\n",
       "  white-space: pre-wrap;\n",
       "}\n",
       "</style>\n",
       "<small>shape: (12, 2)</small><table border=\"1\" class=\"dataframe\"><thead><tr><th>Date/Time</th><th>is_snowing</th></tr><tr><td>datetime[μs]</td><td>f32</td></tr></thead><tbody><tr><td>2012-01-01 00:00:00</td><td>0.240591</td></tr><tr><td>2012-02-01 00:00:00</td><td>0.162356</td></tr><tr><td>2012-03-01 00:00:00</td><td>0.087366</td></tr><tr><td>2012-04-01 00:00:00</td><td>0.015278</td></tr><tr><td>2012-05-01 00:00:00</td><td>0.0</td></tr><tr><td>&hellip;</td><td>&hellip;</td></tr><tr><td>2012-08-01 00:00:00</td><td>0.0</td></tr><tr><td>2012-09-01 00:00:00</td><td>0.0</td></tr><tr><td>2012-10-01 00:00:00</td><td>0.0</td></tr><tr><td>2012-11-01 00:00:00</td><td>0.038889</td></tr><tr><td>2012-12-01 00:00:00</td><td>0.251344</td></tr></tbody></table></div>"
      ],
      "text/plain": [
       "shape: (12, 2)\n",
       "┌─────────────────────┬────────────┐\n",
       "│ Date/Time           ┆ is_snowing │\n",
       "│ ---                 ┆ ---        │\n",
       "│ datetime[μs]        ┆ f32        │\n",
       "╞═════════════════════╪════════════╡\n",
       "│ 2012-01-01 00:00:00 ┆ 0.240591   │\n",
       "│ 2012-02-01 00:00:00 ┆ 0.162356   │\n",
       "│ 2012-03-01 00:00:00 ┆ 0.087366   │\n",
       "│ 2012-04-01 00:00:00 ┆ 0.015278   │\n",
       "│ 2012-05-01 00:00:00 ┆ 0.0        │\n",
       "│ …                   ┆ …          │\n",
       "│ 2012-08-01 00:00:00 ┆ 0.0        │\n",
       "│ 2012-09-01 00:00:00 ┆ 0.0        │\n",
       "│ 2012-10-01 00:00:00 ┆ 0.0        │\n",
       "│ 2012-11-01 00:00:00 ┆ 0.038889   │\n",
       "│ 2012-12-01 00:00:00 ┆ 0.251344   │\n",
       "└─────────────────────┴────────────┘"
      ]
     },
     "execution_count": 13,
     "metadata": {},
     "output_type": "execute_result"
    }
   ],
   "source": [
    "snow_by_month = weather_2012.set_sorted('Date/Time')\\\n",
    "                            .group_by_dynamic('Date/Time',\n",
    "                                             every='1mo')\\\n",
    "                            .agg(is_snowing=pl.col('Weather').str.contains('Snow').cast(pl.Float32).mean())\n",
    "snow_by_month"
   ]
  },
  {
   "cell_type": "code",
   "execution_count": 14,
   "metadata": {
    "colab": {
     "base_uri": "https://localhost:8080/",
     "height": 521
    },
    "executionInfo": {
     "elapsed": 1400,
     "status": "ok",
     "timestamp": 1730964253363,
     "user": {
      "displayName": "Daniele Grotti",
      "userId": "05993002232846155126"
     },
     "user_tz": -60
    },
    "id": "Zk3ueCtXqimM",
    "outputId": "813e78a0-6c8a-44a3-a556-0c0041c8367c"
   },
   "outputs": [
    {
     "data": {
      "image/png": "[encoded data removed]",
      "text/plain": [
       "<Figure size 1500x500 with 1 Axes>"
      ]
     },
     "metadata": {},
     "output_type": "display_data"
    }
   ],
   "source": [
    "plt.xticks(rotation=45)\n",
    "sbn.barplot(snow_by_month, x='Date/Time', y='is_snowing',hue='Date/Time');"
   ]
  },
  {
   "cell_type": "markdown",
   "metadata": {
    "id": "n9owBh8gqimN"
   },
   "source": [
    "So now we know! In 2012, December was the snowiest month. Also, this graph suggests something that I feel -- it starts snowing pretty abruptly in November, and then tapers off slowly and takes a long time to stop, with the last snow usually being in April or May."
   ]
  },
  {
   "cell_type": "markdown",
   "metadata": {
    "id": "WHPQWCLHqimN"
   },
   "source": [
    "# 6.3 Plotting temperature and snowiness stats together"
   ]
  },
  {
   "cell_type": "markdown",
   "metadata": {
    "id": "X5K-_CFEqimN"
   },
   "source": [
    "We can also combine these two statistics (temperature, and snowiness) into one dataframe and plot them together:"
   ]
  },
  {
   "cell_type": "code",
   "execution_count": 15,
   "metadata": {
    "colab": {
     "base_uri": "https://localhost:8080/",
     "height": 443
    },
    "executionInfo": {
     "elapsed": 280,
     "status": "ok",
     "timestamp": 1730964294303,
     "user": {
      "displayName": "Daniele Grotti",
      "userId": "05993002232846155126"
     },
     "user_tz": -60
    },
    "id": "mH__-q93qimN",
    "outputId": "1a30dcfd-8b7c-4dbc-b2e8-211e497fde1c"
   },
   "outputs": [
    {
     "data": {
      "text/html": [
       "<div><style>\n",
       ".dataframe > thead > tr,\n",
       ".dataframe > tbody > tr {\n",
       "  text-align: right;\n",
       "  white-space: pre-wrap;\n",
       "}\n",
       "</style>\n",
       "<small>shape: (12, 3)</small><table border=\"1\" class=\"dataframe\"><thead><tr><th>Date</th><th>Temp (C)</th><th>is_snowing</th></tr><tr><td>datetime[μs]</td><td>f64</td><td>f64</td></tr></thead><tbody><tr><td>2012-01-01 00:00:00</td><td>-7.05</td><td>0.240591</td></tr><tr><td>2012-02-01 00:00:00</td><td>-4.1</td><td>0.162356</td></tr><tr><td>2012-03-01 00:00:00</td><td>2.6</td><td>0.087366</td></tr><tr><td>2012-04-01 00:00:00</td><td>6.3</td><td>0.015278</td></tr><tr><td>2012-05-01 00:00:00</td><td>16.05</td><td>0.0</td></tr><tr><td>&hellip;</td><td>&hellip;</td><td>&hellip;</td></tr><tr><td>2012-08-01 00:00:00</td><td>22.2</td><td>0.0</td></tr><tr><td>2012-09-01 00:00:00</td><td>16.1</td><td>0.0</td></tr><tr><td>2012-10-01 00:00:00</td><td>11.3</td><td>0.0</td></tr><tr><td>2012-11-01 00:00:00</td><td>1.05</td><td>0.038889</td></tr><tr><td>2012-12-01 00:00:00</td><td>-2.85</td><td>0.251344</td></tr></tbody></table></div>"
      ],
      "text/plain": [
       "shape: (12, 3)\n",
       "┌─────────────────────┬──────────┬────────────┐\n",
       "│ Date                ┆ Temp (C) ┆ is_snowing │\n",
       "│ ---                 ┆ ---      ┆ ---        │\n",
       "│ datetime[μs]        ┆ f64      ┆ f64        │\n",
       "╞═════════════════════╪══════════╪════════════╡\n",
       "│ 2012-01-01 00:00:00 ┆ -7.05    ┆ 0.240591   │\n",
       "│ 2012-02-01 00:00:00 ┆ -4.1     ┆ 0.162356   │\n",
       "│ 2012-03-01 00:00:00 ┆ 2.6      ┆ 0.087366   │\n",
       "│ 2012-04-01 00:00:00 ┆ 6.3      ┆ 0.015278   │\n",
       "│ 2012-05-01 00:00:00 ┆ 16.05    ┆ 0.0        │\n",
       "│ …                   ┆ …        ┆ …          │\n",
       "│ 2012-08-01 00:00:00 ┆ 22.2     ┆ 0.0        │\n",
       "│ 2012-09-01 00:00:00 ┆ 16.1     ┆ 0.0        │\n",
       "│ 2012-10-01 00:00:00 ┆ 11.3     ┆ 0.0        │\n",
       "│ 2012-11-01 00:00:00 ┆ 1.05     ┆ 0.038889   │\n",
       "│ 2012-12-01 00:00:00 ┆ -2.85    ┆ 0.251344   │\n",
       "└─────────────────────┴──────────┴────────────┘"
      ]
     },
     "metadata": {},
     "output_type": "display_data"
    }
   ],
   "source": [
    "by_month = (\n",
    "            weather_2012\n",
    "            .group_by_dynamic(\n",
    "                pl.col('Date/Time').alias('Date'),\n",
    "                every='1mo')\n",
    "            .agg(\n",
    "                pl.col('Temp (C)').median(),\n",
    "                pl.col('Weather').str.contains('Snow').cast(pl.Int8).mean().alias('is_snowing'))\n",
    "            .sort('Date')\n",
    "         )\n",
    "display(by_month)"
   ]
  },
  {
   "cell_type": "code",
   "execution_count": 16,
   "metadata": {
    "colab": {
     "base_uri": "https://localhost:8080/",
     "height": 486
    },
    "executionInfo": {
     "elapsed": 826,
     "status": "ok",
     "timestamp": 1730964299144,
     "user": {
      "displayName": "Daniele Grotti",
      "userId": "05993002232846155126"
     },
     "user_tz": -60
    },
    "id": "femMYvaOqimO",
    "outputId": "383ae040-af13-4ad2-e970-560141dc9168"
   },
   "outputs": [
    {
     "data": {
      "text/plain": [
       "<Axes: xlabel='Date', ylabel='is_snowing'>"
      ]
     },
     "execution_count": 16,
     "metadata": {},
     "output_type": "execute_result"
    },
    {
     "data": {
      "image/png": "[encoded data removed]",
      "text/plain": [
       "<Figure size 1500x500 with 2 Axes>"
      ]
     },
     "metadata": {},
     "output_type": "display_data"
    }
   ],
   "source": [
    "fig, ax = plt.subplots(2, sharex=True)\n",
    "sbn.barplot(by_month, x='Date', y='Temp (C)', ax=ax[0],hue='Date')\n",
    "sbn.barplot(by_month, x='Date', y='is_snowing', ax=ax[1],hue='Date')"
   ]
  },
  {
   "cell_type": "code",
   "execution_count": 17,
   "metadata": {
    "colab": {
     "base_uri": "https://localhost:8080/",
     "height": 486
    },
    "executionInfo": {
     "elapsed": 1127,
     "status": "ok",
     "timestamp": 1730964307616,
     "user": {
      "displayName": "Daniele Grotti",
      "userId": "05993002232846155126"
     },
     "user_tz": -60
    },
    "id": "45c-Rr9CqimO",
    "outputId": "28d1c82c-2f30-40f2-9f03-916076533b55"
   },
   "outputs": [
    {
     "data": {
      "text/plain": [
       "<Axes: xlabel='Temp (C)', ylabel='is_snowing'>"
      ]
     },
     "execution_count": 17,
     "metadata": {},
     "output_type": "execute_result"
    },
    {
     "data": {
      "image/png": "[encoded data removed]",
      "text/plain": [
       "<Figure size 1500x500 with 1 Axes>"
      ]
     },
     "metadata": {},
     "output_type": "display_data"
    }
   ],
   "source": [
    "sbn.lineplot(by_month, x='Temp (C)', y='is_snowing')"
   ]
  },
  {
   "cell_type": "code",
   "execution_count": 18,
   "metadata": {
    "id": "bRZQW-MNqimO"
   },
   "outputs": [],
   "source": [
    "#end"
   ]
  },
  {
   "cell_type": "code",
   "execution_count": null,
   "metadata": {},
   "outputs": [],
   "source": []
  }
 ],
 "metadata": {
  "colab": {
   "provenance": []
  },
  "kernelspec": {
   "display_name": "Python 3",
   "language": "python",
   "name": "python3"
  },
  "language_info": {
   "codemirror_mode": {
    "name": "ipython",
    "version": 3
   },
   "file_extension": ".py",
   "mimetype": "text/x-python",
   "name": "python",
   "nbconvert_exporter": "python",
   "pygments_lexer": "ipython3",
   "version": "3.11.9"
  }
 },
 "nbformat": 4,
 "nbformat_minor": 0
}
