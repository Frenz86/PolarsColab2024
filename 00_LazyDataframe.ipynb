{
 "cells": [
  {
   "cell_type": "markdown",
   "metadata": {},
   "source": [
    "## Lazy Dataframes"
   ]
  },
  {
   "cell_type": "code",
   "execution_count": 1,
   "metadata": {},
   "outputs": [
    {
     "name": "stdout",
     "output_type": "stream",
     "text": [
      "0.19.0\n"
     ]
    }
   ],
   "source": [
    "import polars as pl\n",
    "import numpy as np\n",
    "from datetime import datetime\n",
    "\n",
    "print(pl.__version__)"
   ]
  },
  {
   "cell_type": "code",
   "execution_count": 2,
   "metadata": {},
   "outputs": [
    {
     "data": {
      "text/html": [
       "<div><style>\n",
       ".dataframe > thead > tr,\n",
       ".dataframe > tbody > tr {\n",
       "  text-align: right;\n",
       "  white-space: pre-wrap;\n",
       "}\n",
       "</style>\n",
       "<small>shape: (2, 2)</small><table border=\"1\" class=\"dataframe\"><thead><tr><th>a</th><th>b</th></tr><tr><td>i64</td><td>i64</td></tr></thead><tbody><tr><td>1</td><td>3</td></tr><tr><td>2</td><td>4</td></tr></tbody></table></div>"
      ],
      "text/plain": [
       "shape: (2, 2)\n",
       "┌─────┬─────┐\n",
       "│ a   ┆ b   │\n",
       "│ --- ┆ --- │\n",
       "│ i64 ┆ i64 │\n",
       "╞═════╪═════╡\n",
       "│ 1   ┆ 3   │\n",
       "│ 2   ┆ 4   │\n",
       "└─────┴─────┘"
      ]
     },
     "execution_count": 2,
     "metadata": {},
     "output_type": "execute_result"
    }
   ],
   "source": [
    "data = {\"a\": [1, 2], \"b\": [3, 4]}\n",
    "lf = pl.LazyFrame(data)\n",
    "lf.collect()"
   ]
  },
  {
   "cell_type": "code",
   "execution_count": 3,
   "metadata": {},
   "outputs": [
    {
     "data": {
      "text/html": [
       "<div><style>\n",
       ".dataframe > thead > tr,\n",
       ".dataframe > tbody > tr {\n",
       "  text-align: right;\n",
       "  white-space: pre-wrap;\n",
       "}\n",
       "</style>\n",
       "<small>shape: (2, 2)</small><table border=\"1\" class=\"dataframe\"><thead><tr><th>a</th><th>b</th></tr><tr><td>i64</td><td>i64</td></tr></thead><tbody><tr><td>1</td><td>3</td></tr><tr><td>2</td><td>4</td></tr></tbody></table></div>"
      ],
      "text/plain": [
       "shape: (2, 2)\n",
       "┌─────┬─────┐\n",
       "│ a   ┆ b   │\n",
       "│ --- ┆ --- │\n",
       "│ i64 ┆ i64 │\n",
       "╞═════╪═════╡\n",
       "│ 1   ┆ 3   │\n",
       "│ 2   ┆ 4   │\n",
       "└─────┴─────┘"
      ]
     },
     "execution_count": 3,
     "metadata": {},
     "output_type": "execute_result"
    }
   ],
   "source": [
    "import numpy as np\n",
    "data = np.array([(1, 2), (3, 4)], dtype=np.int64)\n",
    "lf = pl.LazyFrame(data, schema=[\"a\", \"b\"], orient=\"col\")\n",
    "lf.collect()"
   ]
  },
  {
   "cell_type": "code",
   "execution_count": 4,
   "metadata": {},
   "outputs": [
    {
     "data": {
      "text/html": [
       "<div><style>\n",
       ".dataframe > thead > tr,\n",
       ".dataframe > tbody > tr {\n",
       "  text-align: right;\n",
       "  white-space: pre-wrap;\n",
       "}\n",
       "</style>\n",
       "<small>shape: (1_000, 4)</small><table border=\"1\" class=\"dataframe\"><thead><tr><th>id</th><th>category</th><th>value</th><th>timestamp</th></tr><tr><td>i64</td><td>str</td><td>f64</td><td>date</td></tr></thead><tbody><tr><td>0</td><td>&quot;C&quot;</td><td>106.461047</td><td>2021-01-01</td></tr><tr><td>1</td><td>&quot;C&quot;</td><td>100.465115</td><td>2021-01-02</td></tr><tr><td>2</td><td>&quot;B&quot;</td><td>90.49305</td><td>2021-01-03</td></tr><tr><td>3</td><td>&quot;C&quot;</td><td>124.151213</td><td>2021-01-04</td></tr><tr><td>4</td><td>&quot;B&quot;</td><td>100.626111</td><td>2021-01-05</td></tr><tr><td>&hellip;</td><td>&hellip;</td><td>&hellip;</td><td>&hellip;</td></tr><tr><td>995</td><td>&quot;B&quot;</td><td>88.629508</td><td>2023-09-23</td></tr><tr><td>996</td><td>&quot;C&quot;</td><td>95.764697</td><td>2023-09-24</td></tr><tr><td>997</td><td>&quot;B&quot;</td><td>80.374095</td><td>2023-09-25</td></tr><tr><td>998</td><td>&quot;C&quot;</td><td>96.18892</td><td>2023-09-26</td></tr><tr><td>999</td><td>&quot;A&quot;</td><td>84.488151</td><td>2023-09-27</td></tr></tbody></table></div>"
      ],
      "text/plain": [
       "shape: (1_000, 4)\n",
       "┌─────┬──────────┬────────────┬────────────┐\n",
       "│ id  ┆ category ┆ value      ┆ timestamp  │\n",
       "│ --- ┆ ---      ┆ ---        ┆ ---        │\n",
       "│ i64 ┆ str      ┆ f64        ┆ date       │\n",
       "╞═════╪══════════╪════════════╪════════════╡\n",
       "│ 0   ┆ C        ┆ 106.461047 ┆ 2021-01-01 │\n",
       "│ 1   ┆ C        ┆ 100.465115 ┆ 2021-01-02 │\n",
       "│ 2   ┆ B        ┆ 90.49305   ┆ 2021-01-03 │\n",
       "│ 3   ┆ C        ┆ 124.151213 ┆ 2021-01-04 │\n",
       "│ 4   ┆ B        ┆ 100.626111 ┆ 2021-01-05 │\n",
       "│ …   ┆ …        ┆ …          ┆ …          │\n",
       "│ 995 ┆ B        ┆ 88.629508  ┆ 2023-09-23 │\n",
       "│ 996 ┆ C        ┆ 95.764697  ┆ 2023-09-24 │\n",
       "│ 997 ┆ B        ┆ 80.374095  ┆ 2023-09-25 │\n",
       "│ 998 ┆ C        ┆ 96.18892   ┆ 2023-09-26 │\n",
       "│ 999 ┆ A        ┆ 84.488151  ┆ 2023-09-27 │\n",
       "└─────┴──────────┴────────────┴────────────┘"
      ]
     },
     "execution_count": 4,
     "metadata": {},
     "output_type": "execute_result"
    }
   ],
   "source": [
    "import polars as pl\n",
    "import numpy as np\n",
    "from datetime import datetime, date, timedelta\n",
    "\n",
    "# Create date range using timedelta\n",
    "date_range = pl.date_range(\n",
    "                            date(2021, 1, 1),\n",
    "                            date(2023, 12, 31),\n",
    "                            timedelta(days=1),\n",
    "                            eager=True\n",
    "                            ).alias(\"timestamp\").to_list()\n",
    "\n",
    "# Create a sample DataFrame\n",
    "df = pl.DataFrame({\n",
    "                    'id': range(1000),\n",
    "                    'category': np.random.choice(['A', 'B', 'C'], 1000),\n",
    "                    'value': np.random.normal(100, 15, 1000),\n",
    "                    'timestamp': date_range[:1000]  # Take first 1000 dates to match other columns\n",
    "                    })\n",
    "df"
   ]
  },
  {
   "cell_type": "code",
   "execution_count": 5,
   "metadata": {},
   "outputs": [
    {
     "data": {
      "text/html": [
       "<i>naive plan: (run <b>LazyFrame.explain(optimized=True)</b> to see the optimized plan)</i>\n",
       "    <p></p>\n",
       "    <div>DF [\"id\", \"category\", \"value\", \"timestamp\"]; PROJECT */4 COLUMNS; SELECTION: None</div>"
      ],
      "text/plain": [
       "<LazyFrame at 0x273FE63AD50>"
      ]
     },
     "execution_count": 5,
     "metadata": {},
     "output_type": "execute_result"
    }
   ],
   "source": [
    "# Convert to lazy DataFrame\n",
    "lazy_df = df.lazy()\n",
    "lazy_df"
   ]
  },
  {
   "cell_type": "code",
   "execution_count": 6,
   "metadata": {},
   "outputs": [
    {
     "name": "stdout",
     "output_type": "stream",
     "text": [
      "Optimization Plan:\n",
      "naive plan: (run LazyFrame.explain(optimized=True) to see the optimized plan)\n",
      "\n",
      "SORT BY [col(\"category\")]\n",
      "  AGGREGATE\n",
      "  \t[col(\"value\").mean().alias(\"avg_value\"), col(\"value\").std().alias(\"std_value\"), col(\"id\").count().alias(\"count\")] BY [col(\"category\")] FROM\n",
      "    FILTER col(\"category\").is_in([Series]) FROM\n",
      "       WITH_COLUMNS:\n",
      "       [col(\"value\").rolling_mean().alias(\"rolling_avg\"), col(\"value\").shift([dyn int: 1]).alias(\"prev_value\")], [] \n",
      "        DF [\"id\", \"category\", \"value\", \"timestamp\"]; PROJECT */4 COLUMNS; SELECTION: None\n"
     ]
    }
   ],
   "source": [
    "# Complex transformation pipeline\n",
    "transformed_lazy = (\n",
    "    lazy_df\n",
    "    .with_columns([\n",
    "        pl.col('value').rolling_mean(7).alias('rolling_avg'),\n",
    "        pl.col('value').shift().alias('prev_value')\n",
    "    ])\n",
    "    .filter(pl.col('category').is_in(['A', 'B']))\n",
    "    .group_by('category')\n",
    "    .agg([\n",
    "        pl.col('value').mean().alias('avg_value'),\n",
    "        pl.col('value').std().alias('std_value'),\n",
    "        pl.col('id').count().alias('count')\n",
    "    ])\n",
    "    .sort('category')\n",
    ")\n",
    "\n",
    "# Examine the optimization plan\n",
    "print(\"Optimization Plan:\")\n",
    "print(transformed_lazy)\n"
   ]
  },
  {
   "cell_type": "code",
   "execution_count": 7,
   "metadata": {},
   "outputs": [
    {
     "data": {
      "text/html": [
       "<i>naive plan: (run <b>LazyFrame.explain(optimized=True)</b> to see the optimized plan)</i>\n",
       "    <p></p>\n",
       "    <div> SELECT [col(\"category\"), col(\"high_value\")] FROM<p></p>   WITH_COLUMNS:<p></p>   [col(\"value\").alias(\"high_value\")], [] <p></p>    FILTER [(col(\"value\")) > (100.0)] FROM<p></p>      DF [\"id\", \"category\", \"value\", \"timestamp\"]; PROJECT */4 COLUMNS; SELECTION: None</div>"
      ],
      "text/plain": [
       "<LazyFrame at 0x273FE66CB50>"
      ]
     },
     "execution_count": 7,
     "metadata": {},
     "output_type": "execute_result"
    }
   ],
   "source": [
    "filtered_lazy = (\n",
    "                df.lazy()\n",
    "                .filter(pl.col('value') > 100)\n",
    "                .with_columns(pl.col('value').alias('high_value'))\n",
    "                .select(['category', 'high_value'])\n",
    "                )\n",
    "filtered_lazy"
   ]
  },
  {
   "cell_type": "code",
   "execution_count": 8,
   "metadata": {},
   "outputs": [
    {
     "name": "stderr",
     "output_type": "stream",
     "text": [
      "C:\\Users\\danie\\AppData\\Local\\Temp\\ipykernel_11648\\2373609038.py:9: DeprecationWarning: The default coalesce behavior of left join will change to `False` in the next breaking release. Pass `coalesce=True` to keep the current behavior and silence this warning.\n",
      "  .join(\n"
     ]
    },
    {
     "data": {
      "text/html": [
       "<i>naive plan: (run <b>LazyFrame.explain(optimized=True)</b> to see the optimized plan)</i>\n",
       "    <p></p>\n",
       "    <div> SELECT [col(\"id\"), col(\"category_name\"), col(\"value\")] FROM<p></p>  LEFT JOIN:<p></p>  LEFT PLAN ON: [col(\"category\")]<p></p>    DF [\"id\", \"category\", \"value\", \"timestamp\"]; PROJECT */4 COLUMNS; SELECTION: None<p></p>  RIGHT PLAN ON: [col(\"category\")]<p></p>    DF [\"category\", \"category_name\"]; PROJECT */2 COLUMNS; SELECTION: None<p></p>  END LEFT JOIN</div>"
      ],
      "text/plain": [
       "<LazyFrame at 0x273D5ACA950>"
      ]
     },
     "execution_count": 8,
     "metadata": {},
     "output_type": "execute_result"
    }
   ],
   "source": [
    "# Example of lazy joins\n",
    "other_df = pl.DataFrame({\n",
    "    'category': ['A', 'B', 'C'],\n",
    "    'category_name': ['Alpha', 'Beta', 'Gamma']\n",
    "})\n",
    "\n",
    "joined_lazy = (\n",
    "    df.lazy()\n",
    "    .join(\n",
    "        other_df.lazy(),\n",
    "        on='category',\n",
    "        how='left'\n",
    "    )\n",
    "    .select([\n",
    "        'id',\n",
    "        'category_name',\n",
    "        'value'\n",
    "    ])\n",
    ")\n",
    "joined_lazy"
   ]
  },
  {
   "cell_type": "code",
   "execution_count": 9,
   "metadata": {},
   "outputs": [
    {
     "data": {
      "text/html": [
       "<div><style>\n",
       ".dataframe > thead > tr,\n",
       ".dataframe > tbody > tr {\n",
       "  text-align: right;\n",
       "  white-space: pre-wrap;\n",
       "}\n",
       "</style>\n",
       "<small>shape: (12, 2)</small><table border=\"1\" class=\"dataframe\"><thead><tr><th>month</th><th>days_in_month</th></tr><tr><td>i8</td><td>u32</td></tr></thead><tbody><tr><td>1</td><td>31</td></tr><tr><td>2</td><td>29</td></tr><tr><td>3</td><td>31</td></tr><tr><td>4</td><td>30</td></tr><tr><td>5</td><td>31</td></tr><tr><td>&hellip;</td><td>&hellip;</td></tr><tr><td>8</td><td>31</td></tr><tr><td>9</td><td>30</td></tr><tr><td>10</td><td>31</td></tr><tr><td>11</td><td>30</td></tr><tr><td>12</td><td>31</td></tr></tbody></table></div>"
      ],
      "text/plain": [
       "shape: (12, 2)\n",
       "┌───────┬───────────────┐\n",
       "│ month ┆ days_in_month │\n",
       "│ ---   ┆ ---           │\n",
       "│ i8    ┆ u32           │\n",
       "╞═══════╪═══════════════╡\n",
       "│ 1     ┆ 31            │\n",
       "│ 2     ┆ 29            │\n",
       "│ 3     ┆ 31            │\n",
       "│ 4     ┆ 30            │\n",
       "│ 5     ┆ 31            │\n",
       "│ …     ┆ …             │\n",
       "│ 8     ┆ 31            │\n",
       "│ 9     ┆ 30            │\n",
       "│ 10    ┆ 31            │\n",
       "│ 11    ┆ 30            │\n",
       "│ 12    ┆ 31            │\n",
       "└───────┴───────────────┘"
      ]
     },
     "execution_count": 9,
     "metadata": {},
     "output_type": "execute_result"
    }
   ],
   "source": [
    "from datetime import date\n",
    "import polars as pl\n",
    "\n",
    "(pl.date_range(\n",
    "            start=date(2024, 1, 1),\n",
    "            end=date(2025, 1, 1),\n",
    "            interval=\"1d\",\n",
    "            closed=\"left\",  # Don't include `end`\n",
    "            eager=True,\n",
    "            ).to_frame(\"d\")\n",
    "            .group_by_dynamic(\"d\", every=\"1mo\")\n",
    "            .agg(pl.len().alias(\"days_in_month\"))\n",
    "            .select(\n",
    "                pl.col(\"d\").dt.month().alias(\"month\"),\n",
    "                pl.col(\"days_in_month\"),\n",
    "            ))"
   ]
  },
  {
   "cell_type": "code",
   "execution_count": null,
   "metadata": {},
   "outputs": [],
   "source": []
  },
  {
   "cell_type": "code",
   "execution_count": null,
   "metadata": {},
   "outputs": [],
   "source": []
  }
 ],
 "metadata": {
  "kernelspec": {
   "display_name": "Python 3",
   "language": "python",
   "name": "python3"
  },
  "language_info": {
   "codemirror_mode": {
    "name": "ipython",
    "version": 3
   },
   "file_extension": ".py",
   "mimetype": "text/x-python",
   "name": "python",
   "nbconvert_exporter": "python",
   "pygments_lexer": "ipython3",
   "version": "3.11.9"
  }
 },
 "nbformat": 4,
 "nbformat_minor": 2
}
