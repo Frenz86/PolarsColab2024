{
 "cells": [
  {
   "cell_type": "markdown",
   "metadata": {},
   "source": [
    "## Lazy Dataframes"
   ]
  },
  {
   "cell_type": "code",
   "execution_count": 2,
   "metadata": {},
   "outputs": [
    {
     "name": "stdout",
     "output_type": "stream",
     "text": [
      "1.16.0\n"
     ]
    }
   ],
   "source": [
    "import polars as pl\n",
    "import numpy as np\n",
    "from datetime import datetime\n",
    "\n",
    "print(pl.__version__)"
   ]
  },
  {
   "cell_type": "code",
   "execution_count": 26,
   "metadata": {},
   "outputs": [
    {
     "data": {
      "text/html": [
       "<div><style>\n",
       ".dataframe > thead > tr,\n",
       ".dataframe > tbody > tr {\n",
       "  text-align: right;\n",
       "  white-space: pre-wrap;\n",
       "}\n",
       "</style>\n",
       "<small>shape: (1_000, 4)</small><table border=\"1\" class=\"dataframe\"><thead><tr><th>id</th><th>category</th><th>value</th><th>timestamp</th></tr><tr><td>i64</td><td>str</td><td>f64</td><td>date</td></tr></thead><tbody><tr><td>0</td><td>&quot;C&quot;</td><td>89.468546</td><td>2021-01-01</td></tr><tr><td>1</td><td>&quot;A&quot;</td><td>87.401196</td><td>2021-01-02</td></tr><tr><td>2</td><td>&quot;A&quot;</td><td>103.949077</td><td>2021-01-03</td></tr><tr><td>3</td><td>&quot;A&quot;</td><td>115.600454</td><td>2021-01-04</td></tr><tr><td>4</td><td>&quot;C&quot;</td><td>102.574941</td><td>2021-01-05</td></tr><tr><td>&hellip;</td><td>&hellip;</td><td>&hellip;</td><td>&hellip;</td></tr><tr><td>995</td><td>&quot;B&quot;</td><td>112.526763</td><td>2023-09-23</td></tr><tr><td>996</td><td>&quot;C&quot;</td><td>76.877215</td><td>2023-09-24</td></tr><tr><td>997</td><td>&quot;A&quot;</td><td>111.441719</td><td>2023-09-25</td></tr><tr><td>998</td><td>&quot;B&quot;</td><td>99.221138</td><td>2023-09-26</td></tr><tr><td>999</td><td>&quot;B&quot;</td><td>103.577575</td><td>2023-09-27</td></tr></tbody></table></div>"
      ],
      "text/plain": [
       "shape: (1_000, 4)\n",
       "┌─────┬──────────┬────────────┬────────────┐\n",
       "│ id  ┆ category ┆ value      ┆ timestamp  │\n",
       "│ --- ┆ ---      ┆ ---        ┆ ---        │\n",
       "│ i64 ┆ str      ┆ f64        ┆ date       │\n",
       "╞═════╪══════════╪════════════╪════════════╡\n",
       "│ 0   ┆ C        ┆ 89.468546  ┆ 2021-01-01 │\n",
       "│ 1   ┆ A        ┆ 87.401196  ┆ 2021-01-02 │\n",
       "│ 2   ┆ A        ┆ 103.949077 ┆ 2021-01-03 │\n",
       "│ 3   ┆ A        ┆ 115.600454 ┆ 2021-01-04 │\n",
       "│ 4   ┆ C        ┆ 102.574941 ┆ 2021-01-05 │\n",
       "│ …   ┆ …        ┆ …          ┆ …          │\n",
       "│ 995 ┆ B        ┆ 112.526763 ┆ 2023-09-23 │\n",
       "│ 996 ┆ C        ┆ 76.877215  ┆ 2023-09-24 │\n",
       "│ 997 ┆ A        ┆ 111.441719 ┆ 2023-09-25 │\n",
       "│ 998 ┆ B        ┆ 99.221138  ┆ 2023-09-26 │\n",
       "│ 999 ┆ B        ┆ 103.577575 ┆ 2023-09-27 │\n",
       "└─────┴──────────┴────────────┴────────────┘"
      ]
     },
     "execution_count": 26,
     "metadata": {},
     "output_type": "execute_result"
    }
   ],
   "source": [
    "import polars as pl\n",
    "import numpy as np\n",
    "from datetime import datetime, date, timedelta\n",
    "\n",
    "# Create date range using timedelta\n",
    "date_range = pl.date_range(\n",
    "                            date(2021, 1, 1),\n",
    "                            date(2023, 12, 31),\n",
    "                            timedelta(days=1),\n",
    "                            eager=True\n",
    "                            ).alias(\"timestamp\").to_list()\n",
    "\n",
    "# Create a sample DataFrame\n",
    "df = pl.DataFrame({\n",
    "                    'id': range(1000),\n",
    "                    'category': np.random.choice(['A', 'B', 'C'], 1000),\n",
    "                    'value': np.random.normal(100, 15, 1000),\n",
    "                    'timestamp': date_range[:1000]  # Take first 1000 dates to match other columns\n",
    "                    })\n",
    "df"
   ]
  },
  {
   "cell_type": "code",
   "execution_count": 27,
   "metadata": {},
   "outputs": [
    {
     "data": {
      "text/html": [
       "<i>naive plan: (run <b>LazyFrame.explain(optimized=True)</b> to see the optimized plan)</i>\n",
       "    <p></p>\n",
       "    <div>DF [\"id\", \"category\", \"value\", \"timestamp\"]; PROJECT */4 COLUMNS; SELECTION: None</div>"
      ],
      "text/plain": [
       "<LazyFrame at 0x240AF48F2D0>"
      ]
     },
     "execution_count": 27,
     "metadata": {},
     "output_type": "execute_result"
    }
   ],
   "source": [
    "# Convert to lazy DataFrame\n",
    "lazy_df = df.lazy()\n",
    "lazy_df"
   ]
  },
  {
   "cell_type": "code",
   "execution_count": 28,
   "metadata": {},
   "outputs": [
    {
     "name": "stdout",
     "output_type": "stream",
     "text": [
      "Optimization Plan:\n",
      "naive plan: (run LazyFrame.explain(optimized=True) to see the optimized plan)\n",
      "\n",
      "SORT BY [col(\"category\")]\n",
      "  AGGREGATE\n",
      "  \t[col(\"value\").mean().alias(\"avg_value\"), col(\"value\").std().alias(\"std_value\"), col(\"id\").count().alias(\"count\")] BY [col(\"category\")] FROM\n",
      "    FILTER col(\"category\").is_in([Series]) FROM\n",
      "       WITH_COLUMNS:\n",
      "       [col(\"value\").rolling_mean().alias(\"rolling_avg\"), col(\"value\").shift([dyn int: 1]).alias(\"prev_value\")] \n",
      "        DF [\"id\", \"category\", \"value\", \"timestamp\"]; PROJECT */4 COLUMNS; SELECTION: None\n"
     ]
    }
   ],
   "source": [
    "# Complex transformation pipeline\n",
    "transformed_lazy = (\n",
    "    lazy_df\n",
    "    .with_columns([\n",
    "        pl.col('value').rolling_mean(7).alias('rolling_avg'),\n",
    "        pl.col('value').shift().alias('prev_value')\n",
    "    ])\n",
    "    .filter(pl.col('category').is_in(['A', 'B']))\n",
    "    .group_by('category')\n",
    "    .agg([\n",
    "        pl.col('value').mean().alias('avg_value'),\n",
    "        pl.col('value').std().alias('std_value'),\n",
    "        pl.col('id').count().alias('count')\n",
    "    ])\n",
    "    .sort('category')\n",
    ")\n",
    "\n",
    "# Examine the optimization plan\n",
    "print(\"Optimization Plan:\")\n",
    "print(transformed_lazy)\n"
   ]
  },
  {
   "cell_type": "code",
   "execution_count": 29,
   "metadata": {},
   "outputs": [
    {
     "data": {
      "text/html": [
       "<i>naive plan: (run <b>LazyFrame.explain(optimized=True)</b> to see the optimized plan)</i>\n",
       "    <p></p>\n",
       "    <div> SELECT [col(\"category\"), col(\"high_value\")] FROM<p></p>   WITH_COLUMNS:<p></p>   [col(\"value\").alias(\"high_value\")] <p></p>    FILTER [(col(\"value\")) > (100.0)] FROM<p></p>      DF [\"id\", \"category\", \"value\", \"timestamp\"]; PROJECT */4 COLUMNS; SELECTION: None</div>"
      ],
      "text/plain": [
       "<LazyFrame at 0x2408349B510>"
      ]
     },
     "execution_count": 29,
     "metadata": {},
     "output_type": "execute_result"
    }
   ],
   "source": [
    "filtered_lazy = (\n",
    "                df.lazy()\n",
    "                .filter(pl.col('value') > 100)\n",
    "                .with_columns(pl.col('value').alias('high_value'))\n",
    "                .select(['category', 'high_value'])\n",
    "                )\n",
    "filtered_lazy"
   ]
  },
  {
   "cell_type": "code",
   "execution_count": 30,
   "metadata": {},
   "outputs": [
    {
     "data": {
      "text/html": [
       "<i>naive plan: (run <b>LazyFrame.explain(optimized=True)</b> to see the optimized plan)</i>\n",
       "    <p></p>\n",
       "    <div> SELECT [col(\"id\"), col(\"category_name\"), col(\"value\")] FROM<p></p>  LEFT JOIN:<p></p>  LEFT PLAN ON: [col(\"category\")]<p></p>    DF [\"id\", \"category\", \"value\", \"timestamp\"]; PROJECT */4 COLUMNS; SELECTION: None<p></p>  RIGHT PLAN ON: [col(\"category\")]<p></p>    DF [\"category\", \"category_name\"]; PROJECT */2 COLUMNS; SELECTION: None<p></p>  END LEFT JOIN</div>"
      ],
      "text/plain": [
       "<LazyFrame at 0x240ADE98510>"
      ]
     },
     "execution_count": 30,
     "metadata": {},
     "output_type": "execute_result"
    }
   ],
   "source": [
    "# Example of lazy joins\n",
    "other_df = pl.DataFrame({\n",
    "    'category': ['A', 'B', 'C'],\n",
    "    'category_name': ['Alpha', 'Beta', 'Gamma']\n",
    "})\n",
    "\n",
    "joined_lazy = (\n",
    "    df.lazy()\n",
    "    .join(\n",
    "        other_df.lazy(),\n",
    "        on='category',\n",
    "        how='left'\n",
    "    )\n",
    "    .select([\n",
    "        'id',\n",
    "        'category_name',\n",
    "        'value'\n",
    "    ])\n",
    ")\n",
    "joined_lazy"
   ]
  },
  {
   "cell_type": "code",
   "execution_count": null,
   "metadata": {},
   "outputs": [],
   "source": []
  },
  {
   "cell_type": "code",
   "execution_count": null,
   "metadata": {},
   "outputs": [],
   "source": []
  }
 ],
 "metadata": {
  "kernelspec": {
   "display_name": "Python 3",
   "language": "python",
   "name": "python3"
  },
  "language_info": {
   "codemirror_mode": {
    "name": "ipython",
    "version": 3
   },
   "file_extension": ".py",
   "mimetype": "text/x-python",
   "name": "python",
   "nbconvert_exporter": "python",
   "pygments_lexer": "ipython3",
   "version": "3.11.9"
  }
 },
 "nbformat": 4,
 "nbformat_minor": 2
}
