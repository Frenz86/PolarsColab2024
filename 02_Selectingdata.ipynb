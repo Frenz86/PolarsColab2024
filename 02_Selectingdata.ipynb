{
 "cells": [
  {
   "cell_type": "markdown",
   "metadata": {
    "id": "TP4QXT_qdpwl"
   },
   "source": [
    "## 2. Polars: Selecting Data"
   ]
  },
  {
   "cell_type": "code",
   "execution_count": 1,
   "metadata": {
    "colab": {
     "base_uri": "https://localhost:8080/"
    },
    "executionInfo": {
     "elapsed": 3968,
     "status": "ok",
     "timestamp": 1730963481556,
     "user": {
      "displayName": "Daniele Grotti",
      "userId": "05993002232846155126"
     },
     "user_tz": -60
    },
    "id": "peQ4Log6dm6a",
    "outputId": "2efa5eb0-5763-4d2c-9ba0-ac70a657ee9e"
   },
   "outputs": [
    {
     "name": "stdout",
     "output_type": "stream",
     "text": [
      "--2024-11-07 07:11:17--  https://frenzy86.s3.eu-west-2.amazonaws.com/python/data/311-service-requests.csv\n",
      "Resolving frenzy86.s3.eu-west-2.amazonaws.com (frenzy86.s3.eu-west-2.amazonaws.com)... 3.5.246.110, 52.95.149.134, 52.95.143.6, ...\n",
      "Connecting to frenzy86.s3.eu-west-2.amazonaws.com (frenzy86.s3.eu-west-2.amazonaws.com)|3.5.246.110|:443... connected.\n",
      "HTTP request sent, awaiting response... 200 OK\n",
      "Length: 55052764 (53M) [text/csv]\n",
      "Saving to: ‘311-service-requests.csv’\n",
      "\n",
      "311-service-request 100%[===================>]  52.50M  18.9MB/s    in 2.8s    \n",
      "\n",
      "2024-11-07 07:11:20 (18.9 MB/s) - ‘311-service-requests.csv’ saved [55052764/55052764]\n",
      "\n"
     ]
    }
   ],
   "source": [
    "!wget https://frenzy86.s3.eu-west-2.amazonaws.com/python/data/311-service-requests.csv"
   ]
  },
  {
   "cell_type": "code",
   "execution_count": 1,
   "metadata": {
    "executionInfo": {
     "elapsed": 292,
     "status": "ok",
     "timestamp": 1730963496357,
     "user": {
      "displayName": "Daniele Grotti",
      "userId": "05993002232846155126"
     },
     "user_tz": -60
    },
    "id": "NnQc6X6gdfYc"
   },
   "outputs": [],
   "source": [
    "#path = \"311-service-requests.csv\"\n",
    "\n",
    "path = \"https://frenzy86.s3.eu-west-2.amazonaws.com/python/data/311-service-requests.csv\""
   ]
  },
  {
   "cell_type": "code",
   "execution_count": 2,
   "metadata": {
    "colab": {
     "base_uri": "https://localhost:8080/"
    },
    "executionInfo": {
     "elapsed": 3685,
     "status": "ok",
     "timestamp": 1730963502080,
     "user": {
      "displayName": "Daniele Grotti",
      "userId": "05993002232846155126"
     },
     "user_tz": -60
    },
    "id": "7i7v_ZT8pcp5",
    "outputId": "1d17cdb5-02f7-4405-f371-44b15e552a04"
   },
   "outputs": [
    {
     "name": "stdout",
     "output_type": "stream",
     "text": [
      "1.23.0\n"
     ]
    }
   ],
   "source": [
    "import polars as pl\n",
    "import polars.selectors as cs\n",
    "import seaborn as sbn\n",
    "import matplotlib.pyplot as plt\n",
    "\n",
    "# Make the graphs a bit prettier, and bigger\n",
    "plt.style.use('ggplot')\n",
    "plt.rcParams['figure.figsize'] = (15, 5)\n",
    "\n",
    "print(pl.__version__)"
   ]
  },
  {
   "cell_type": "markdown",
   "metadata": {
    "id": "M19NBUalpcp9"
   },
   "source": [
    "We're going to use a new dataset here, to demonstrate how to deal with larger datasets. This is a subset of the of 311 service requests from [NYC Open Data](https://nycopendata.socrata.com/Social-Services/311-Service-Requests-from-2010-to-Present/erm2-nwe9)."
   ]
  },
  {
   "cell_type": "code",
   "execution_count": 3,
   "metadata": {
    "executionInfo": {
     "elapsed": 551,
     "status": "ok",
     "timestamp": 1730963519073,
     "user": {
      "displayName": "Daniele Grotti",
      "userId": "05993002232846155126"
     },
     "user_tz": -60
    },
    "id": "hRTs1I1gpcqA"
   },
   "outputs": [],
   "source": [
    "# because of mixed types we specify dtype to prevent any errors\n",
    "complaints = pl.read_csv(path, schema_overrides={'Incident Zip':pl.Utf8})"
   ]
  },
  {
   "cell_type": "markdown",
   "metadata": {
    "id": "2Xmkz0gepcqA"
   },
   "source": [
    "Notice that we had to explicitly specify the dtype of the 'Incident Zip' column as a string type (Utf8). This means that it's encountered a problem reading in our data. In this case it almost certainly means that it has columns where some of the entries are strings and some are integers.\n",
    "\n",
    "For now we're going to ignore it and hope we don't run into a problem, but in the long run we'd need to investigate this warning."
   ]
  },
  {
   "cell_type": "markdown",
   "metadata": {
    "id": "qBDKYSthpcqB"
   },
   "source": [
    "# 2.1 What's even in it? (the summary)"
   ]
  },
  {
   "cell_type": "markdown",
   "metadata": {
    "id": "u2e33Ut3pcqB"
   },
   "source": [
    "Use the head function to get the top rows of a dataframe"
   ]
  },
  {
   "cell_type": "code",
   "execution_count": 4,
   "metadata": {
    "colab": {
     "base_uri": "https://localhost:8080/",
     "height": 518
    },
    "executionInfo": {
     "elapsed": 271,
     "status": "ok",
     "timestamp": 1730963530259,
     "user": {
      "displayName": "Daniele Grotti",
      "userId": "05993002232846155126"
     },
     "user_tz": -60
    },
    "id": "9KGxwfwupcqC",
    "outputId": "513f0e8c-772f-4daf-a183-5693fbc77523"
   },
   "outputs": [
    {
     "data": {
      "text/html": [
       "<div><style>\n",
       ".dataframe > thead > tr,\n",
       ".dataframe > tbody > tr {\n",
       "  text-align: right;\n",
       "  white-space: pre-wrap;\n",
       "}\n",
       "</style>\n",
       "<small>shape: (5, 52)</small><table border=\"1\" class=\"dataframe\"><thead><tr><th>Unique Key</th><th>Created Date</th><th>Closed Date</th><th>Agency</th><th>Agency Name</th><th>Complaint Type</th><th>Descriptor</th><th>Location Type</th><th>Incident Zip</th><th>Incident Address</th><th>Street Name</th><th>Cross Street 1</th><th>Cross Street 2</th><th>Intersection Street 1</th><th>Intersection Street 2</th><th>Address Type</th><th>City</th><th>Landmark</th><th>Facility Type</th><th>Status</th><th>Due Date</th><th>Resolution Action Updated Date</th><th>Community Board</th><th>Borough</th><th>X Coordinate (State Plane)</th><th>Y Coordinate (State Plane)</th><th>Park Facility Name</th><th>Park Borough</th><th>School Name</th><th>School Number</th><th>School Region</th><th>School Code</th><th>School Phone Number</th><th>School Address</th><th>School City</th><th>School State</th><th>School Zip</th><th>School Not Found</th><th>School or Citywide Complaint</th><th>Vehicle Type</th><th>Taxi Company Borough</th><th>Taxi Pick Up Location</th><th>Bridge Highway Name</th><th>Bridge Highway Direction</th><th>Road Ramp</th><th>Bridge Highway Segment</th><th>Garage Lot Name</th><th>Ferry Direction</th><th>Ferry Terminal Name</th><th>Latitude</th><th>Longitude</th><th>Location</th></tr><tr><td>i64</td><td>str</td><td>str</td><td>str</td><td>str</td><td>str</td><td>str</td><td>str</td><td>str</td><td>str</td><td>str</td><td>str</td><td>str</td><td>str</td><td>str</td><td>str</td><td>str</td><td>str</td><td>str</td><td>str</td><td>str</td><td>str</td><td>str</td><td>str</td><td>i64</td><td>i64</td><td>str</td><td>str</td><td>str</td><td>str</td><td>str</td><td>str</td><td>str</td><td>str</td><td>str</td><td>str</td><td>str</td><td>str</td><td>str</td><td>str</td><td>str</td><td>str</td><td>str</td><td>str</td><td>str</td><td>str</td><td>str</td><td>str</td><td>str</td><td>f64</td><td>f64</td><td>str</td></tr></thead><tbody><tr><td>26589651</td><td>&quot;10/31/2013 02:08:41 AM&quot;</td><td>null</td><td>&quot;NYPD&quot;</td><td>&quot;New York City Police Departmen…</td><td>&quot;Noise - Street/Sidewalk&quot;</td><td>&quot;Loud Talking&quot;</td><td>&quot;Street/Sidewalk&quot;</td><td>&quot;11432&quot;</td><td>&quot;90-03 169 STREET&quot;</td><td>&quot;169 STREET&quot;</td><td>&quot;90 AVENUE&quot;</td><td>&quot;91 AVENUE&quot;</td><td>null</td><td>null</td><td>&quot;ADDRESS&quot;</td><td>&quot;JAMAICA&quot;</td><td>null</td><td>&quot;Precinct&quot;</td><td>&quot;Assigned&quot;</td><td>&quot;10/31/2013 10:08:41 AM&quot;</td><td>&quot;10/31/2013 02:35:17 AM&quot;</td><td>&quot;12 QUEENS&quot;</td><td>&quot;QUEENS&quot;</td><td>1042027</td><td>197389</td><td>&quot;Unspecified&quot;</td><td>&quot;QUEENS&quot;</td><td>&quot;Unspecified&quot;</td><td>&quot;Unspecified&quot;</td><td>&quot;Unspecified&quot;</td><td>&quot;Unspecified&quot;</td><td>&quot;Unspecified&quot;</td><td>&quot;Unspecified&quot;</td><td>&quot;Unspecified&quot;</td><td>&quot;Unspecified&quot;</td><td>&quot;Unspecified&quot;</td><td>&quot;N&quot;</td><td>null</td><td>null</td><td>null</td><td>null</td><td>null</td><td>null</td><td>null</td><td>null</td><td>null</td><td>null</td><td>null</td><td>40.708275</td><td>-73.791604</td><td>&quot;(40.70827532593202, -73.791603…</td></tr><tr><td>26593698</td><td>&quot;10/31/2013 02:01:04 AM&quot;</td><td>null</td><td>&quot;NYPD&quot;</td><td>&quot;New York City Police Departmen…</td><td>&quot;Illegal Parking&quot;</td><td>&quot;Commercial Overnight Parking&quot;</td><td>&quot;Street/Sidewalk&quot;</td><td>&quot;11378&quot;</td><td>&quot;58 AVENUE&quot;</td><td>&quot;58 AVENUE&quot;</td><td>&quot;58 PLACE&quot;</td><td>&quot;59 STREET&quot;</td><td>null</td><td>null</td><td>&quot;BLOCKFACE&quot;</td><td>&quot;MASPETH&quot;</td><td>null</td><td>&quot;Precinct&quot;</td><td>&quot;Open&quot;</td><td>&quot;10/31/2013 10:01:04 AM&quot;</td><td>null</td><td>&quot;05 QUEENS&quot;</td><td>&quot;QUEENS&quot;</td><td>1009349</td><td>201984</td><td>&quot;Unspecified&quot;</td><td>&quot;QUEENS&quot;</td><td>&quot;Unspecified&quot;</td><td>&quot;Unspecified&quot;</td><td>&quot;Unspecified&quot;</td><td>&quot;Unspecified&quot;</td><td>&quot;Unspecified&quot;</td><td>&quot;Unspecified&quot;</td><td>&quot;Unspecified&quot;</td><td>&quot;Unspecified&quot;</td><td>&quot;Unspecified&quot;</td><td>&quot;N&quot;</td><td>null</td><td>null</td><td>null</td><td>null</td><td>null</td><td>null</td><td>null</td><td>null</td><td>null</td><td>null</td><td>null</td><td>40.721041</td><td>-73.909453</td><td>&quot;(40.721040535628305, -73.90945…</td></tr><tr><td>26594139</td><td>&quot;10/31/2013 02:00:24 AM&quot;</td><td>&quot;10/31/2013 02:40:32 AM&quot;</td><td>&quot;NYPD&quot;</td><td>&quot;New York City Police Departmen…</td><td>&quot;Noise - Commercial&quot;</td><td>&quot;Loud Music/Party&quot;</td><td>&quot;Club/Bar/Restaurant&quot;</td><td>&quot;10032&quot;</td><td>&quot;4060 BROADWAY&quot;</td><td>&quot;BROADWAY&quot;</td><td>&quot;WEST 171 STREET&quot;</td><td>&quot;WEST 172 STREET&quot;</td><td>null</td><td>null</td><td>&quot;ADDRESS&quot;</td><td>&quot;NEW YORK&quot;</td><td>null</td><td>&quot;Precinct&quot;</td><td>&quot;Closed&quot;</td><td>&quot;10/31/2013 10:00:24 AM&quot;</td><td>&quot;10/31/2013 02:39:42 AM&quot;</td><td>&quot;12 MANHATTAN&quot;</td><td>&quot;MANHATTAN&quot;</td><td>1001088</td><td>246531</td><td>&quot;Unspecified&quot;</td><td>&quot;MANHATTAN&quot;</td><td>&quot;Unspecified&quot;</td><td>&quot;Unspecified&quot;</td><td>&quot;Unspecified&quot;</td><td>&quot;Unspecified&quot;</td><td>&quot;Unspecified&quot;</td><td>&quot;Unspecified&quot;</td><td>&quot;Unspecified&quot;</td><td>&quot;Unspecified&quot;</td><td>&quot;Unspecified&quot;</td><td>&quot;N&quot;</td><td>null</td><td>null</td><td>null</td><td>null</td><td>null</td><td>null</td><td>null</td><td>null</td><td>null</td><td>null</td><td>null</td><td>40.84333</td><td>-73.939144</td><td>&quot;(40.84332975466513, -73.939143…</td></tr><tr><td>26595721</td><td>&quot;10/31/2013 01:56:23 AM&quot;</td><td>&quot;10/31/2013 02:21:48 AM&quot;</td><td>&quot;NYPD&quot;</td><td>&quot;New York City Police Departmen…</td><td>&quot;Noise - Vehicle&quot;</td><td>&quot;Car/Truck Horn&quot;</td><td>&quot;Street/Sidewalk&quot;</td><td>&quot;10023&quot;</td><td>&quot;WEST 72 STREET&quot;</td><td>&quot;WEST 72 STREET&quot;</td><td>&quot;COLUMBUS AVENUE&quot;</td><td>&quot;AMSTERDAM AVENUE&quot;</td><td>null</td><td>null</td><td>&quot;BLOCKFACE&quot;</td><td>&quot;NEW YORK&quot;</td><td>null</td><td>&quot;Precinct&quot;</td><td>&quot;Closed&quot;</td><td>&quot;10/31/2013 09:56:23 AM&quot;</td><td>&quot;10/31/2013 02:21:10 AM&quot;</td><td>&quot;07 MANHATTAN&quot;</td><td>&quot;MANHATTAN&quot;</td><td>989730</td><td>222727</td><td>&quot;Unspecified&quot;</td><td>&quot;MANHATTAN&quot;</td><td>&quot;Unspecified&quot;</td><td>&quot;Unspecified&quot;</td><td>&quot;Unspecified&quot;</td><td>&quot;Unspecified&quot;</td><td>&quot;Unspecified&quot;</td><td>&quot;Unspecified&quot;</td><td>&quot;Unspecified&quot;</td><td>&quot;Unspecified&quot;</td><td>&quot;Unspecified&quot;</td><td>&quot;N&quot;</td><td>null</td><td>null</td><td>null</td><td>null</td><td>null</td><td>null</td><td>null</td><td>null</td><td>null</td><td>null</td><td>null</td><td>40.778009</td><td>-73.980213</td><td>&quot;(40.7780087446372, -73.9802134…</td></tr><tr><td>26590930</td><td>&quot;10/31/2013 01:53:44 AM&quot;</td><td>null</td><td>&quot;DOHMH&quot;</td><td>&quot;Department of Health and Menta…</td><td>&quot;Rodent&quot;</td><td>&quot;Condition Attracting Rodents&quot;</td><td>&quot;Vacant Lot&quot;</td><td>&quot;10027&quot;</td><td>&quot;WEST 124 STREET&quot;</td><td>&quot;WEST 124 STREET&quot;</td><td>&quot;LENOX AVENUE&quot;</td><td>&quot;ADAM CLAYTON POWELL JR BOULEVA…</td><td>null</td><td>null</td><td>&quot;BLOCKFACE&quot;</td><td>&quot;NEW YORK&quot;</td><td>null</td><td>&quot;N/A&quot;</td><td>&quot;Pending&quot;</td><td>&quot;11/30/2013 01:53:44 AM&quot;</td><td>&quot;10/31/2013 01:59:54 AM&quot;</td><td>&quot;10 MANHATTAN&quot;</td><td>&quot;MANHATTAN&quot;</td><td>998815</td><td>233545</td><td>&quot;Unspecified&quot;</td><td>&quot;MANHATTAN&quot;</td><td>&quot;Unspecified&quot;</td><td>&quot;Unspecified&quot;</td><td>&quot;Unspecified&quot;</td><td>&quot;Unspecified&quot;</td><td>&quot;Unspecified&quot;</td><td>&quot;Unspecified&quot;</td><td>&quot;Unspecified&quot;</td><td>&quot;Unspecified&quot;</td><td>&quot;Unspecified&quot;</td><td>&quot;N&quot;</td><td>null</td><td>null</td><td>null</td><td>null</td><td>null</td><td>null</td><td>null</td><td>null</td><td>null</td><td>null</td><td>null</td><td>40.807691</td><td>-73.947387</td><td>&quot;(40.80769092704951, -73.947387…</td></tr></tbody></table></div>"
      ],
      "text/plain": [
       "shape: (5, 52)\n",
       "┌────────────┬────────────┬───────────┬────────┬───┬───────────┬───────────┬───────────┬───────────┐\n",
       "│ Unique Key ┆ Created    ┆ Closed    ┆ Agency ┆ … ┆ Ferry     ┆ Latitude  ┆ Longitude ┆ Location  │\n",
       "│ ---        ┆ Date       ┆ Date      ┆ ---    ┆   ┆ Terminal  ┆ ---       ┆ ---       ┆ ---       │\n",
       "│ i64        ┆ ---        ┆ ---       ┆ str    ┆   ┆ Name      ┆ f64       ┆ f64       ┆ str       │\n",
       "│            ┆ str        ┆ str       ┆        ┆   ┆ ---       ┆           ┆           ┆           │\n",
       "│            ┆            ┆           ┆        ┆   ┆ str       ┆           ┆           ┆           │\n",
       "╞════════════╪════════════╪═══════════╪════════╪═══╪═══════════╪═══════════╪═══════════╪═══════════╡\n",
       "│ 26589651   ┆ 10/31/2013 ┆ null      ┆ NYPD   ┆ … ┆ null      ┆ 40.708275 ┆ -73.79160 ┆ (40.70827 │\n",
       "│            ┆ 02:08:41   ┆           ┆        ┆   ┆           ┆           ┆ 4         ┆ 532593202 │\n",
       "│            ┆ AM         ┆           ┆        ┆   ┆           ┆           ┆           ┆ , -73.791 │\n",
       "│            ┆            ┆           ┆        ┆   ┆           ┆           ┆           ┆ 603…      │\n",
       "│ 26593698   ┆ 10/31/2013 ┆ null      ┆ NYPD   ┆ … ┆ null      ┆ 40.721041 ┆ -73.90945 ┆ (40.72104 │\n",
       "│            ┆ 02:01:04   ┆           ┆        ┆   ┆           ┆           ┆ 3         ┆ 053562830 │\n",
       "│            ┆ AM         ┆           ┆        ┆   ┆           ┆           ┆           ┆ 5, -73.90 │\n",
       "│            ┆            ┆           ┆        ┆   ┆           ┆           ┆           ┆ 945…      │\n",
       "│ 26594139   ┆ 10/31/2013 ┆ 10/31/201 ┆ NYPD   ┆ … ┆ null      ┆ 40.84333  ┆ -73.93914 ┆ (40.84332 │\n",
       "│            ┆ 02:00:24   ┆ 3         ┆        ┆   ┆           ┆           ┆ 4         ┆ 975466513 │\n",
       "│            ┆ AM         ┆ 02:40:32  ┆        ┆   ┆           ┆           ┆           ┆ , -73.939 │\n",
       "│            ┆            ┆ AM        ┆        ┆   ┆           ┆           ┆           ┆ 143…      │\n",
       "│ 26595721   ┆ 10/31/2013 ┆ 10/31/201 ┆ NYPD   ┆ … ┆ null      ┆ 40.778009 ┆ -73.98021 ┆ (40.77800 │\n",
       "│            ┆ 01:56:23   ┆ 3         ┆        ┆   ┆           ┆           ┆ 3         ┆ 87446372, │\n",
       "│            ┆ AM         ┆ 02:21:48  ┆        ┆   ┆           ┆           ┆           ┆ -73.98021 │\n",
       "│            ┆            ┆ AM        ┆        ┆   ┆           ┆           ┆           ┆ 34…       │\n",
       "│ 26590930   ┆ 10/31/2013 ┆ null      ┆ DOHMH  ┆ … ┆ null      ┆ 40.807691 ┆ -73.94738 ┆ (40.80769 │\n",
       "│            ┆ 01:53:44   ┆           ┆        ┆   ┆           ┆           ┆ 7         ┆ 092704951 │\n",
       "│            ┆ AM         ┆           ┆        ┆   ┆           ┆           ┆           ┆ , -73.947 │\n",
       "│            ┆            ┆           ┆        ┆   ┆           ┆           ┆           ┆ 387…      │\n",
       "└────────────┴────────────┴───────────┴────────┴───┴───────────┴───────────┴───────────┴───────────┘"
      ]
     },
     "execution_count": 4,
     "metadata": {},
     "output_type": "execute_result"
    }
   ],
   "source": [
    "complaints.head()"
   ]
  },
  {
   "cell_type": "markdown",
   "metadata": {
    "id": "iqGuNgZppcqD"
   },
   "source": [
    "# 2.2 Selecting columns and rows"
   ]
  },
  {
   "cell_type": "markdown",
   "metadata": {
    "id": "OeYqojqtpcqD"
   },
   "source": [
    "To select a column, we index with the name of the column, like this:"
   ]
  },
  {
   "cell_type": "code",
   "execution_count": 5,
   "metadata": {
    "colab": {
     "base_uri": "https://localhost:8080/",
     "height": 443
    },
    "executionInfo": {
     "elapsed": 260,
     "status": "ok",
     "timestamp": 1730963534504,
     "user": {
      "displayName": "Daniele Grotti",
      "userId": "05993002232846155126"
     },
     "user_tz": -60
    },
    "id": "Iu_KedzbpcqD",
    "outputId": "6f21d4f1-fa58-425e-e844-48e0d54f64af"
   },
   "outputs": [
    {
     "data": {
      "text/html": [
       "<div><style>\n",
       ".dataframe > thead > tr,\n",
       ".dataframe > tbody > tr {\n",
       "  text-align: right;\n",
       "  white-space: pre-wrap;\n",
       "}\n",
       "</style>\n",
       "<small>shape: (111_069,)</small><table border=\"1\" class=\"dataframe\"><thead><tr><th>Complaint Type</th></tr><tr><td>str</td></tr></thead><tbody><tr><td>&quot;Noise - Street/Sidewalk&quot;</td></tr><tr><td>&quot;Illegal Parking&quot;</td></tr><tr><td>&quot;Noise - Commercial&quot;</td></tr><tr><td>&quot;Noise - Vehicle&quot;</td></tr><tr><td>&quot;Rodent&quot;</td></tr><tr><td>&hellip;</td></tr><tr><td>&quot;Maintenance or Facility&quot;</td></tr><tr><td>&quot;Illegal Parking&quot;</td></tr><tr><td>&quot;Noise - Street/Sidewalk&quot;</td></tr><tr><td>&quot;Noise - Commercial&quot;</td></tr><tr><td>&quot;Blocked Driveway&quot;</td></tr></tbody></table></div>"
      ],
      "text/plain": [
       "shape: (111_069,)\n",
       "Series: 'Complaint Type' [str]\n",
       "[\n",
       "\t\"Noise - Street/Sidewalk\"\n",
       "\t\"Illegal Parking\"\n",
       "\t\"Noise - Commercial\"\n",
       "\t\"Noise - Vehicle\"\n",
       "\t\"Rodent\"\n",
       "\t…\n",
       "\t\"Maintenance or Facility\"\n",
       "\t\"Illegal Parking\"\n",
       "\t\"Noise - Street/Sidewalk\"\n",
       "\t\"Noise - Commercial\"\n",
       "\t\"Blocked Driveway\"\n",
       "]"
      ]
     },
     "execution_count": 5,
     "metadata": {},
     "output_type": "execute_result"
    }
   ],
   "source": [
    "complaints['Complaint Type']"
   ]
  },
  {
   "cell_type": "markdown",
   "metadata": {
    "id": "D1vPEXH-pcqE"
   },
   "source": [
    "To get the first 5 rows of a dataframe, we can also use a slice: `df[:5]`. But it's generally recommended to use the `head()` function.\n",
    "\n",
    "This is a great way to get a sense for what kind of information is in the dataframe -- take a minute to look at the contents and get a feel for this dataset."
   ]
  },
  {
   "cell_type": "code",
   "execution_count": 6,
   "metadata": {
    "colab": {
     "base_uri": "https://localhost:8080/",
     "height": 518
    },
    "executionInfo": {
     "elapsed": 291,
     "status": "ok",
     "timestamp": 1730963537103,
     "user": {
      "displayName": "Daniele Grotti",
      "userId": "05993002232846155126"
     },
     "user_tz": -60
    },
    "id": "r14DdT4tpcqE",
    "outputId": "f7ae8940-9f88-4bb9-b023-3036fe225167"
   },
   "outputs": [
    {
     "data": {
      "text/html": [
       "<div><style>\n",
       ".dataframe > thead > tr,\n",
       ".dataframe > tbody > tr {\n",
       "  text-align: right;\n",
       "  white-space: pre-wrap;\n",
       "}\n",
       "</style>\n",
       "<small>shape: (5, 52)</small><table border=\"1\" class=\"dataframe\"><thead><tr><th>Unique Key</th><th>Created Date</th><th>Closed Date</th><th>Agency</th><th>Agency Name</th><th>Complaint Type</th><th>Descriptor</th><th>Location Type</th><th>Incident Zip</th><th>Incident Address</th><th>Street Name</th><th>Cross Street 1</th><th>Cross Street 2</th><th>Intersection Street 1</th><th>Intersection Street 2</th><th>Address Type</th><th>City</th><th>Landmark</th><th>Facility Type</th><th>Status</th><th>Due Date</th><th>Resolution Action Updated Date</th><th>Community Board</th><th>Borough</th><th>X Coordinate (State Plane)</th><th>Y Coordinate (State Plane)</th><th>Park Facility Name</th><th>Park Borough</th><th>School Name</th><th>School Number</th><th>School Region</th><th>School Code</th><th>School Phone Number</th><th>School Address</th><th>School City</th><th>School State</th><th>School Zip</th><th>School Not Found</th><th>School or Citywide Complaint</th><th>Vehicle Type</th><th>Taxi Company Borough</th><th>Taxi Pick Up Location</th><th>Bridge Highway Name</th><th>Bridge Highway Direction</th><th>Road Ramp</th><th>Bridge Highway Segment</th><th>Garage Lot Name</th><th>Ferry Direction</th><th>Ferry Terminal Name</th><th>Latitude</th><th>Longitude</th><th>Location</th></tr><tr><td>i64</td><td>str</td><td>str</td><td>str</td><td>str</td><td>str</td><td>str</td><td>str</td><td>str</td><td>str</td><td>str</td><td>str</td><td>str</td><td>str</td><td>str</td><td>str</td><td>str</td><td>str</td><td>str</td><td>str</td><td>str</td><td>str</td><td>str</td><td>str</td><td>i64</td><td>i64</td><td>str</td><td>str</td><td>str</td><td>str</td><td>str</td><td>str</td><td>str</td><td>str</td><td>str</td><td>str</td><td>str</td><td>str</td><td>str</td><td>str</td><td>str</td><td>str</td><td>str</td><td>str</td><td>str</td><td>str</td><td>str</td><td>str</td><td>str</td><td>f64</td><td>f64</td><td>str</td></tr></thead><tbody><tr><td>26589651</td><td>&quot;10/31/2013 02:08:41 AM&quot;</td><td>null</td><td>&quot;NYPD&quot;</td><td>&quot;New York City Police Departmen…</td><td>&quot;Noise - Street/Sidewalk&quot;</td><td>&quot;Loud Talking&quot;</td><td>&quot;Street/Sidewalk&quot;</td><td>&quot;11432&quot;</td><td>&quot;90-03 169 STREET&quot;</td><td>&quot;169 STREET&quot;</td><td>&quot;90 AVENUE&quot;</td><td>&quot;91 AVENUE&quot;</td><td>null</td><td>null</td><td>&quot;ADDRESS&quot;</td><td>&quot;JAMAICA&quot;</td><td>null</td><td>&quot;Precinct&quot;</td><td>&quot;Assigned&quot;</td><td>&quot;10/31/2013 10:08:41 AM&quot;</td><td>&quot;10/31/2013 02:35:17 AM&quot;</td><td>&quot;12 QUEENS&quot;</td><td>&quot;QUEENS&quot;</td><td>1042027</td><td>197389</td><td>&quot;Unspecified&quot;</td><td>&quot;QUEENS&quot;</td><td>&quot;Unspecified&quot;</td><td>&quot;Unspecified&quot;</td><td>&quot;Unspecified&quot;</td><td>&quot;Unspecified&quot;</td><td>&quot;Unspecified&quot;</td><td>&quot;Unspecified&quot;</td><td>&quot;Unspecified&quot;</td><td>&quot;Unspecified&quot;</td><td>&quot;Unspecified&quot;</td><td>&quot;N&quot;</td><td>null</td><td>null</td><td>null</td><td>null</td><td>null</td><td>null</td><td>null</td><td>null</td><td>null</td><td>null</td><td>null</td><td>40.708275</td><td>-73.791604</td><td>&quot;(40.70827532593202, -73.791603…</td></tr><tr><td>26593698</td><td>&quot;10/31/2013 02:01:04 AM&quot;</td><td>null</td><td>&quot;NYPD&quot;</td><td>&quot;New York City Police Departmen…</td><td>&quot;Illegal Parking&quot;</td><td>&quot;Commercial Overnight Parking&quot;</td><td>&quot;Street/Sidewalk&quot;</td><td>&quot;11378&quot;</td><td>&quot;58 AVENUE&quot;</td><td>&quot;58 AVENUE&quot;</td><td>&quot;58 PLACE&quot;</td><td>&quot;59 STREET&quot;</td><td>null</td><td>null</td><td>&quot;BLOCKFACE&quot;</td><td>&quot;MASPETH&quot;</td><td>null</td><td>&quot;Precinct&quot;</td><td>&quot;Open&quot;</td><td>&quot;10/31/2013 10:01:04 AM&quot;</td><td>null</td><td>&quot;05 QUEENS&quot;</td><td>&quot;QUEENS&quot;</td><td>1009349</td><td>201984</td><td>&quot;Unspecified&quot;</td><td>&quot;QUEENS&quot;</td><td>&quot;Unspecified&quot;</td><td>&quot;Unspecified&quot;</td><td>&quot;Unspecified&quot;</td><td>&quot;Unspecified&quot;</td><td>&quot;Unspecified&quot;</td><td>&quot;Unspecified&quot;</td><td>&quot;Unspecified&quot;</td><td>&quot;Unspecified&quot;</td><td>&quot;Unspecified&quot;</td><td>&quot;N&quot;</td><td>null</td><td>null</td><td>null</td><td>null</td><td>null</td><td>null</td><td>null</td><td>null</td><td>null</td><td>null</td><td>null</td><td>40.721041</td><td>-73.909453</td><td>&quot;(40.721040535628305, -73.90945…</td></tr><tr><td>26594139</td><td>&quot;10/31/2013 02:00:24 AM&quot;</td><td>&quot;10/31/2013 02:40:32 AM&quot;</td><td>&quot;NYPD&quot;</td><td>&quot;New York City Police Departmen…</td><td>&quot;Noise - Commercial&quot;</td><td>&quot;Loud Music/Party&quot;</td><td>&quot;Club/Bar/Restaurant&quot;</td><td>&quot;10032&quot;</td><td>&quot;4060 BROADWAY&quot;</td><td>&quot;BROADWAY&quot;</td><td>&quot;WEST 171 STREET&quot;</td><td>&quot;WEST 172 STREET&quot;</td><td>null</td><td>null</td><td>&quot;ADDRESS&quot;</td><td>&quot;NEW YORK&quot;</td><td>null</td><td>&quot;Precinct&quot;</td><td>&quot;Closed&quot;</td><td>&quot;10/31/2013 10:00:24 AM&quot;</td><td>&quot;10/31/2013 02:39:42 AM&quot;</td><td>&quot;12 MANHATTAN&quot;</td><td>&quot;MANHATTAN&quot;</td><td>1001088</td><td>246531</td><td>&quot;Unspecified&quot;</td><td>&quot;MANHATTAN&quot;</td><td>&quot;Unspecified&quot;</td><td>&quot;Unspecified&quot;</td><td>&quot;Unspecified&quot;</td><td>&quot;Unspecified&quot;</td><td>&quot;Unspecified&quot;</td><td>&quot;Unspecified&quot;</td><td>&quot;Unspecified&quot;</td><td>&quot;Unspecified&quot;</td><td>&quot;Unspecified&quot;</td><td>&quot;N&quot;</td><td>null</td><td>null</td><td>null</td><td>null</td><td>null</td><td>null</td><td>null</td><td>null</td><td>null</td><td>null</td><td>null</td><td>40.84333</td><td>-73.939144</td><td>&quot;(40.84332975466513, -73.939143…</td></tr><tr><td>26595721</td><td>&quot;10/31/2013 01:56:23 AM&quot;</td><td>&quot;10/31/2013 02:21:48 AM&quot;</td><td>&quot;NYPD&quot;</td><td>&quot;New York City Police Departmen…</td><td>&quot;Noise - Vehicle&quot;</td><td>&quot;Car/Truck Horn&quot;</td><td>&quot;Street/Sidewalk&quot;</td><td>&quot;10023&quot;</td><td>&quot;WEST 72 STREET&quot;</td><td>&quot;WEST 72 STREET&quot;</td><td>&quot;COLUMBUS AVENUE&quot;</td><td>&quot;AMSTERDAM AVENUE&quot;</td><td>null</td><td>null</td><td>&quot;BLOCKFACE&quot;</td><td>&quot;NEW YORK&quot;</td><td>null</td><td>&quot;Precinct&quot;</td><td>&quot;Closed&quot;</td><td>&quot;10/31/2013 09:56:23 AM&quot;</td><td>&quot;10/31/2013 02:21:10 AM&quot;</td><td>&quot;07 MANHATTAN&quot;</td><td>&quot;MANHATTAN&quot;</td><td>989730</td><td>222727</td><td>&quot;Unspecified&quot;</td><td>&quot;MANHATTAN&quot;</td><td>&quot;Unspecified&quot;</td><td>&quot;Unspecified&quot;</td><td>&quot;Unspecified&quot;</td><td>&quot;Unspecified&quot;</td><td>&quot;Unspecified&quot;</td><td>&quot;Unspecified&quot;</td><td>&quot;Unspecified&quot;</td><td>&quot;Unspecified&quot;</td><td>&quot;Unspecified&quot;</td><td>&quot;N&quot;</td><td>null</td><td>null</td><td>null</td><td>null</td><td>null</td><td>null</td><td>null</td><td>null</td><td>null</td><td>null</td><td>null</td><td>40.778009</td><td>-73.980213</td><td>&quot;(40.7780087446372, -73.9802134…</td></tr><tr><td>26590930</td><td>&quot;10/31/2013 01:53:44 AM&quot;</td><td>null</td><td>&quot;DOHMH&quot;</td><td>&quot;Department of Health and Menta…</td><td>&quot;Rodent&quot;</td><td>&quot;Condition Attracting Rodents&quot;</td><td>&quot;Vacant Lot&quot;</td><td>&quot;10027&quot;</td><td>&quot;WEST 124 STREET&quot;</td><td>&quot;WEST 124 STREET&quot;</td><td>&quot;LENOX AVENUE&quot;</td><td>&quot;ADAM CLAYTON POWELL JR BOULEVA…</td><td>null</td><td>null</td><td>&quot;BLOCKFACE&quot;</td><td>&quot;NEW YORK&quot;</td><td>null</td><td>&quot;N/A&quot;</td><td>&quot;Pending&quot;</td><td>&quot;11/30/2013 01:53:44 AM&quot;</td><td>&quot;10/31/2013 01:59:54 AM&quot;</td><td>&quot;10 MANHATTAN&quot;</td><td>&quot;MANHATTAN&quot;</td><td>998815</td><td>233545</td><td>&quot;Unspecified&quot;</td><td>&quot;MANHATTAN&quot;</td><td>&quot;Unspecified&quot;</td><td>&quot;Unspecified&quot;</td><td>&quot;Unspecified&quot;</td><td>&quot;Unspecified&quot;</td><td>&quot;Unspecified&quot;</td><td>&quot;Unspecified&quot;</td><td>&quot;Unspecified&quot;</td><td>&quot;Unspecified&quot;</td><td>&quot;Unspecified&quot;</td><td>&quot;N&quot;</td><td>null</td><td>null</td><td>null</td><td>null</td><td>null</td><td>null</td><td>null</td><td>null</td><td>null</td><td>null</td><td>null</td><td>40.807691</td><td>-73.947387</td><td>&quot;(40.80769092704951, -73.947387…</td></tr></tbody></table></div>"
      ],
      "text/plain": [
       "shape: (5, 52)\n",
       "┌────────────┬────────────┬───────────┬────────┬───┬───────────┬───────────┬───────────┬───────────┐\n",
       "│ Unique Key ┆ Created    ┆ Closed    ┆ Agency ┆ … ┆ Ferry     ┆ Latitude  ┆ Longitude ┆ Location  │\n",
       "│ ---        ┆ Date       ┆ Date      ┆ ---    ┆   ┆ Terminal  ┆ ---       ┆ ---       ┆ ---       │\n",
       "│ i64        ┆ ---        ┆ ---       ┆ str    ┆   ┆ Name      ┆ f64       ┆ f64       ┆ str       │\n",
       "│            ┆ str        ┆ str       ┆        ┆   ┆ ---       ┆           ┆           ┆           │\n",
       "│            ┆            ┆           ┆        ┆   ┆ str       ┆           ┆           ┆           │\n",
       "╞════════════╪════════════╪═══════════╪════════╪═══╪═══════════╪═══════════╪═══════════╪═══════════╡\n",
       "│ 26589651   ┆ 10/31/2013 ┆ null      ┆ NYPD   ┆ … ┆ null      ┆ 40.708275 ┆ -73.79160 ┆ (40.70827 │\n",
       "│            ┆ 02:08:41   ┆           ┆        ┆   ┆           ┆           ┆ 4         ┆ 532593202 │\n",
       "│            ┆ AM         ┆           ┆        ┆   ┆           ┆           ┆           ┆ , -73.791 │\n",
       "│            ┆            ┆           ┆        ┆   ┆           ┆           ┆           ┆ 603…      │\n",
       "│ 26593698   ┆ 10/31/2013 ┆ null      ┆ NYPD   ┆ … ┆ null      ┆ 40.721041 ┆ -73.90945 ┆ (40.72104 │\n",
       "│            ┆ 02:01:04   ┆           ┆        ┆   ┆           ┆           ┆ 3         ┆ 053562830 │\n",
       "│            ┆ AM         ┆           ┆        ┆   ┆           ┆           ┆           ┆ 5, -73.90 │\n",
       "│            ┆            ┆           ┆        ┆   ┆           ┆           ┆           ┆ 945…      │\n",
       "│ 26594139   ┆ 10/31/2013 ┆ 10/31/201 ┆ NYPD   ┆ … ┆ null      ┆ 40.84333  ┆ -73.93914 ┆ (40.84332 │\n",
       "│            ┆ 02:00:24   ┆ 3         ┆        ┆   ┆           ┆           ┆ 4         ┆ 975466513 │\n",
       "│            ┆ AM         ┆ 02:40:32  ┆        ┆   ┆           ┆           ┆           ┆ , -73.939 │\n",
       "│            ┆            ┆ AM        ┆        ┆   ┆           ┆           ┆           ┆ 143…      │\n",
       "│ 26595721   ┆ 10/31/2013 ┆ 10/31/201 ┆ NYPD   ┆ … ┆ null      ┆ 40.778009 ┆ -73.98021 ┆ (40.77800 │\n",
       "│            ┆ 01:56:23   ┆ 3         ┆        ┆   ┆           ┆           ┆ 3         ┆ 87446372, │\n",
       "│            ┆ AM         ┆ 02:21:48  ┆        ┆   ┆           ┆           ┆           ┆ -73.98021 │\n",
       "│            ┆            ┆ AM        ┆        ┆   ┆           ┆           ┆           ┆ 34…       │\n",
       "│ 26590930   ┆ 10/31/2013 ┆ null      ┆ DOHMH  ┆ … ┆ null      ┆ 40.807691 ┆ -73.94738 ┆ (40.80769 │\n",
       "│            ┆ 01:53:44   ┆           ┆        ┆   ┆           ┆           ┆ 7         ┆ 092704951 │\n",
       "│            ┆ AM         ┆           ┆        ┆   ┆           ┆           ┆           ┆ , -73.947 │\n",
       "│            ┆            ┆           ┆        ┆   ┆           ┆           ┆           ┆ 387…      │\n",
       "└────────────┴────────────┴───────────┴────────┴───┴───────────┴───────────┴───────────┴───────────┘"
      ]
     },
     "execution_count": 6,
     "metadata": {},
     "output_type": "execute_result"
    }
   ],
   "source": [
    "complaints.head()"
   ]
  },
  {
   "cell_type": "markdown",
   "metadata": {
    "id": "tdECnMUTpcqE"
   },
   "source": [
    "We can combine these to get the first 5 rows of a column:"
   ]
  },
  {
   "cell_type": "code",
   "execution_count": 7,
   "metadata": {
    "colab": {
     "base_uri": "https://localhost:8080/",
     "height": 411
    },
    "executionInfo": {
     "elapsed": 265,
     "status": "ok",
     "timestamp": 1730963539886,
     "user": {
      "displayName": "Daniele Grotti",
      "userId": "05993002232846155126"
     },
     "user_tz": -60
    },
    "id": "hrdv2pS_pcqF",
    "outputId": "d642ef2f-8c5e-44c4-f7e5-0d94f7abd727"
   },
   "outputs": [
    {
     "data": {
      "text/html": [
       "<div><style>\n",
       ".dataframe > thead > tr,\n",
       ".dataframe > tbody > tr {\n",
       "  text-align: right;\n",
       "  white-space: pre-wrap;\n",
       "}\n",
       "</style>\n",
       "<small>shape: (10,)</small><table border=\"1\" class=\"dataframe\"><thead><tr><th>Complaint Type</th></tr><tr><td>str</td></tr></thead><tbody><tr><td>&quot;Noise - Street/Sidewalk&quot;</td></tr><tr><td>&quot;Illegal Parking&quot;</td></tr><tr><td>&quot;Noise - Commercial&quot;</td></tr><tr><td>&quot;Noise - Vehicle&quot;</td></tr><tr><td>&quot;Rodent&quot;</td></tr><tr><td>&quot;Noise - Commercial&quot;</td></tr><tr><td>&quot;Blocked Driveway&quot;</td></tr><tr><td>&quot;Noise - Commercial&quot;</td></tr><tr><td>&quot;Noise - Commercial&quot;</td></tr><tr><td>&quot;Noise - Commercial&quot;</td></tr></tbody></table></div>"
      ],
      "text/plain": [
       "shape: (10,)\n",
       "Series: 'Complaint Type' [str]\n",
       "[\n",
       "\t\"Noise - Street/Sidewalk\"\n",
       "\t\"Illegal Parking\"\n",
       "\t\"Noise - Commercial\"\n",
       "\t\"Noise - Vehicle\"\n",
       "\t\"Rodent\"\n",
       "\t\"Noise - Commercial\"\n",
       "\t\"Blocked Driveway\"\n",
       "\t\"Noise - Commercial\"\n",
       "\t\"Noise - Commercial\"\n",
       "\t\"Noise - Commercial\"\n",
       "]"
      ]
     },
     "execution_count": 7,
     "metadata": {},
     "output_type": "execute_result"
    }
   ],
   "source": [
    "complaints['Complaint Type'].head()"
   ]
  },
  {
   "cell_type": "markdown",
   "metadata": {
    "id": "SKZ-nCvtpcqF"
   },
   "source": [
    "and it doesn't matter which direction we do it in:"
   ]
  },
  {
   "cell_type": "code",
   "execution_count": 8,
   "metadata": {
    "colab": {
     "base_uri": "https://localhost:8080/",
     "height": 255
    },
    "executionInfo": {
     "elapsed": 253,
     "status": "ok",
     "timestamp": 1730963545017,
     "user": {
      "displayName": "Daniele Grotti",
      "userId": "05993002232846155126"
     },
     "user_tz": -60
    },
    "id": "NAOQCHMxpcqF",
    "outputId": "310ff89c-199f-4a25-9992-66fc9bc6f572"
   },
   "outputs": [
    {
     "data": {
      "text/html": [
       "<div><style>\n",
       ".dataframe > thead > tr,\n",
       ".dataframe > tbody > tr {\n",
       "  text-align: right;\n",
       "  white-space: pre-wrap;\n",
       "}\n",
       "</style>\n",
       "<small>shape: (5,)</small><table border=\"1\" class=\"dataframe\"><thead><tr><th>Complaint Type</th></tr><tr><td>str</td></tr></thead><tbody><tr><td>&quot;Noise - Street/Sidewalk&quot;</td></tr><tr><td>&quot;Illegal Parking&quot;</td></tr><tr><td>&quot;Noise - Commercial&quot;</td></tr><tr><td>&quot;Noise - Vehicle&quot;</td></tr><tr><td>&quot;Rodent&quot;</td></tr></tbody></table></div>"
      ],
      "text/plain": [
       "shape: (5,)\n",
       "Series: 'Complaint Type' [str]\n",
       "[\n",
       "\t\"Noise - Street/Sidewalk\"\n",
       "\t\"Illegal Parking\"\n",
       "\t\"Noise - Commercial\"\n",
       "\t\"Noise - Vehicle\"\n",
       "\t\"Rodent\"\n",
       "]"
      ]
     },
     "execution_count": 8,
     "metadata": {},
     "output_type": "execute_result"
    }
   ],
   "source": [
    "complaints.head()['Complaint Type']"
   ]
  },
  {
   "cell_type": "markdown",
   "metadata": {
    "id": "dtae-BGwpcqF"
   },
   "source": [
    "# 2.3 Selecting multiple columns"
   ]
  },
  {
   "cell_type": "markdown",
   "metadata": {
    "id": "4pF_-ferpcqG"
   },
   "source": [
    "What if we just want to know the complaint type and the borough, but not the rest of the information? Polars makes it really easy to select a subset of the columns: just index with list of columns you want."
   ]
  },
  {
   "cell_type": "code",
   "execution_count": 9,
   "metadata": {
    "colab": {
     "base_uri": "https://localhost:8080/",
     "height": 443
    },
    "executionInfo": {
     "elapsed": 262,
     "status": "ok",
     "timestamp": 1730963548289,
     "user": {
      "displayName": "Daniele Grotti",
      "userId": "05993002232846155126"
     },
     "user_tz": -60
    },
    "id": "1KZx1qQxpcqG",
    "outputId": "8f9eb60a-438f-4dfe-cc0c-f525fc4f47a7"
   },
   "outputs": [
    {
     "data": {
      "text/html": [
       "<div><style>\n",
       ".dataframe > thead > tr,\n",
       ".dataframe > tbody > tr {\n",
       "  text-align: right;\n",
       "  white-space: pre-wrap;\n",
       "}\n",
       "</style>\n",
       "<small>shape: (111_069, 2)</small><table border=\"1\" class=\"dataframe\"><thead><tr><th>Complaint Type</th><th>Borough</th></tr><tr><td>str</td><td>str</td></tr></thead><tbody><tr><td>&quot;Noise - Street/Sidewalk&quot;</td><td>&quot;QUEENS&quot;</td></tr><tr><td>&quot;Illegal Parking&quot;</td><td>&quot;QUEENS&quot;</td></tr><tr><td>&quot;Noise - Commercial&quot;</td><td>&quot;MANHATTAN&quot;</td></tr><tr><td>&quot;Noise - Vehicle&quot;</td><td>&quot;MANHATTAN&quot;</td></tr><tr><td>&quot;Rodent&quot;</td><td>&quot;MANHATTAN&quot;</td></tr><tr><td>&hellip;</td><td>&hellip;</td></tr><tr><td>&quot;Maintenance or Facility&quot;</td><td>&quot;BROOKLYN&quot;</td></tr><tr><td>&quot;Illegal Parking&quot;</td><td>&quot;QUEENS&quot;</td></tr><tr><td>&quot;Noise - Street/Sidewalk&quot;</td><td>&quot;MANHATTAN&quot;</td></tr><tr><td>&quot;Noise - Commercial&quot;</td><td>&quot;BROOKLYN&quot;</td></tr><tr><td>&quot;Blocked Driveway&quot;</td><td>&quot;BROOKLYN&quot;</td></tr></tbody></table></div>"
      ],
      "text/plain": [
       "shape: (111_069, 2)\n",
       "┌─────────────────────────┬───────────┐\n",
       "│ Complaint Type          ┆ Borough   │\n",
       "│ ---                     ┆ ---       │\n",
       "│ str                     ┆ str       │\n",
       "╞═════════════════════════╪═══════════╡\n",
       "│ Noise - Street/Sidewalk ┆ QUEENS    │\n",
       "│ Illegal Parking         ┆ QUEENS    │\n",
       "│ Noise - Commercial      ┆ MANHATTAN │\n",
       "│ Noise - Vehicle         ┆ MANHATTAN │\n",
       "│ Rodent                  ┆ MANHATTAN │\n",
       "│ …                       ┆ …         │\n",
       "│ Maintenance or Facility ┆ BROOKLYN  │\n",
       "│ Illegal Parking         ┆ QUEENS    │\n",
       "│ Noise - Street/Sidewalk ┆ MANHATTAN │\n",
       "│ Noise - Commercial      ┆ BROOKLYN  │\n",
       "│ Blocked Driveway        ┆ BROOKLYN  │\n",
       "└─────────────────────────┴───────────┘"
      ]
     },
     "execution_count": 9,
     "metadata": {},
     "output_type": "execute_result"
    }
   ],
   "source": [
    "complaints[['Complaint Type', 'Borough']]"
   ]
  },
  {
   "cell_type": "markdown",
   "metadata": {
    "id": "BBUU_fsbpcqG"
   },
   "source": [
    "That showed us a summary, and then we can look at the first 10 rows:"
   ]
  },
  {
   "cell_type": "code",
   "execution_count": 10,
   "metadata": {
    "colab": {
     "base_uri": "https://localhost:8080/",
     "height": 411
    },
    "executionInfo": {
     "elapsed": 264,
     "status": "ok",
     "timestamp": 1730963553063,
     "user": {
      "displayName": "Daniele Grotti",
      "userId": "05993002232846155126"
     },
     "user_tz": -60
    },
    "id": "t4aIaMIzpcqG",
    "outputId": "600dee83-536c-4ae4-8239-486aab1a84b1"
   },
   "outputs": [
    {
     "data": {
      "text/html": [
       "<div><style>\n",
       ".dataframe > thead > tr,\n",
       ".dataframe > tbody > tr {\n",
       "  text-align: right;\n",
       "  white-space: pre-wrap;\n",
       "}\n",
       "</style>\n",
       "<small>shape: (10, 2)</small><table border=\"1\" class=\"dataframe\"><thead><tr><th>Complaint Type</th><th>Borough</th></tr><tr><td>str</td><td>str</td></tr></thead><tbody><tr><td>&quot;Noise - Street/Sidewalk&quot;</td><td>&quot;QUEENS&quot;</td></tr><tr><td>&quot;Illegal Parking&quot;</td><td>&quot;QUEENS&quot;</td></tr><tr><td>&quot;Noise - Commercial&quot;</td><td>&quot;MANHATTAN&quot;</td></tr><tr><td>&quot;Noise - Vehicle&quot;</td><td>&quot;MANHATTAN&quot;</td></tr><tr><td>&quot;Rodent&quot;</td><td>&quot;MANHATTAN&quot;</td></tr><tr><td>&quot;Noise - Commercial&quot;</td><td>&quot;QUEENS&quot;</td></tr><tr><td>&quot;Blocked Driveway&quot;</td><td>&quot;QUEENS&quot;</td></tr><tr><td>&quot;Noise - Commercial&quot;</td><td>&quot;QUEENS&quot;</td></tr><tr><td>&quot;Noise - Commercial&quot;</td><td>&quot;MANHATTAN&quot;</td></tr><tr><td>&quot;Noise - Commercial&quot;</td><td>&quot;BROOKLYN&quot;</td></tr></tbody></table></div>"
      ],
      "text/plain": [
       "shape: (10, 2)\n",
       "┌─────────────────────────┬───────────┐\n",
       "│ Complaint Type          ┆ Borough   │\n",
       "│ ---                     ┆ ---       │\n",
       "│ str                     ┆ str       │\n",
       "╞═════════════════════════╪═══════════╡\n",
       "│ Noise - Street/Sidewalk ┆ QUEENS    │\n",
       "│ Illegal Parking         ┆ QUEENS    │\n",
       "│ Noise - Commercial      ┆ MANHATTAN │\n",
       "│ Noise - Vehicle         ┆ MANHATTAN │\n",
       "│ Rodent                  ┆ MANHATTAN │\n",
       "│ Noise - Commercial      ┆ QUEENS    │\n",
       "│ Blocked Driveway        ┆ QUEENS    │\n",
       "│ Noise - Commercial      ┆ QUEENS    │\n",
       "│ Noise - Commercial      ┆ MANHATTAN │\n",
       "│ Noise - Commercial      ┆ BROOKLYN  │\n",
       "└─────────────────────────┴───────────┘"
      ]
     },
     "execution_count": 10,
     "metadata": {},
     "output_type": "execute_result"
    }
   ],
   "source": [
    "complaints[['Complaint Type', 'Borough']].head(10)"
   ]
  },
  {
   "cell_type": "markdown",
   "metadata": {
    "id": "S7iKfIUnpcqH"
   },
   "source": [
    "# 2.4 What's the most common complaint type?"
   ]
  },
  {
   "cell_type": "markdown",
   "metadata": {
    "id": "evlKPirvpcqH"
   },
   "source": [
    "This is a really easy question to answer! There's a `value_counts()` method that we can use:"
   ]
  },
  {
   "cell_type": "code",
   "execution_count": 11,
   "metadata": {
    "colab": {
     "base_uri": "https://localhost:8080/",
     "height": 443
    },
    "executionInfo": {
     "elapsed": 254,
     "status": "ok",
     "timestamp": 1730963555793,
     "user": {
      "displayName": "Daniele Grotti",
      "userId": "05993002232846155126"
     },
     "user_tz": -60
    },
    "id": "yNWXVjjJpcqH",
    "outputId": "b634ebf9-c6a3-4f30-8f5d-a59aa11387c3"
   },
   "outputs": [
    {
     "data": {
      "text/html": [
       "<div><style>\n",
       ".dataframe > thead > tr,\n",
       ".dataframe > tbody > tr {\n",
       "  text-align: right;\n",
       "  white-space: pre-wrap;\n",
       "}\n",
       "</style>\n",
       "<small>shape: (165, 2)</small><table border=\"1\" class=\"dataframe\"><thead><tr><th>Complaint Type</th><th>count</th></tr><tr><td>str</td><td>u32</td></tr></thead><tbody><tr><td>&quot;HEATING&quot;</td><td>14200</td></tr><tr><td>&quot;GENERAL CONSTRUCTION&quot;</td><td>7471</td></tr><tr><td>&quot;Street Light Condition&quot;</td><td>7117</td></tr><tr><td>&quot;DOF Literature Request&quot;</td><td>5797</td></tr><tr><td>&quot;PLUMBING&quot;</td><td>5373</td></tr><tr><td>&hellip;</td><td>&hellip;</td></tr><tr><td>&quot;Open Flame Permit&quot;</td><td>1</td></tr><tr><td>&quot;DWD&quot;</td><td>1</td></tr><tr><td>&quot;Highway Sign - Damaged&quot;</td><td>1</td></tr><tr><td>&quot;Ferry Permit&quot;</td><td>1</td></tr><tr><td>&quot;X-Ray Machine/Equipment&quot;</td><td>1</td></tr></tbody></table></div>"
      ],
      "text/plain": [
       "shape: (165, 2)\n",
       "┌─────────────────────────┬───────┐\n",
       "│ Complaint Type          ┆ count │\n",
       "│ ---                     ┆ ---   │\n",
       "│ str                     ┆ u32   │\n",
       "╞═════════════════════════╪═══════╡\n",
       "│ HEATING                 ┆ 14200 │\n",
       "│ GENERAL CONSTRUCTION    ┆ 7471  │\n",
       "│ Street Light Condition  ┆ 7117  │\n",
       "│ DOF Literature Request  ┆ 5797  │\n",
       "│ PLUMBING                ┆ 5373  │\n",
       "│ …                       ┆ …     │\n",
       "│ Open Flame Permit       ┆ 1     │\n",
       "│ DWD                     ┆ 1     │\n",
       "│ Highway Sign - Damaged  ┆ 1     │\n",
       "│ Ferry Permit            ┆ 1     │\n",
       "│ X-Ray Machine/Equipment ┆ 1     │\n",
       "└─────────────────────────┴───────┘"
      ]
     },
     "execution_count": 11,
     "metadata": {},
     "output_type": "execute_result"
    }
   ],
   "source": [
    "complaints['Complaint Type'].value_counts(sort=True)"
   ]
  },
  {
   "cell_type": "markdown",
   "metadata": {
    "id": "-ViInctQpcqH"
   },
   "source": [
    "If we just wanted the top 10 most common complaints, we can use the `top_k` function like so:"
   ]
  },
  {
   "cell_type": "code",
   "execution_count": 12,
   "metadata": {
    "colab": {
     "base_uri": "https://localhost:8080/",
     "height": 411
    },
    "executionInfo": {
     "elapsed": 254,
     "status": "ok",
     "timestamp": 1730963559539,
     "user": {
      "displayName": "Daniele Grotti",
      "userId": "05993002232846155126"
     },
     "user_tz": -60
    },
    "id": "pJtkqHyDpcqH",
    "outputId": "836aeb05-e2c7-4512-dc03-5458c7904a57"
   },
   "outputs": [
    {
     "data": {
      "text/html": [
       "<div><style>\n",
       ".dataframe > thead > tr,\n",
       ".dataframe > tbody > tr {\n",
       "  text-align: right;\n",
       "  white-space: pre-wrap;\n",
       "}\n",
       "</style>\n",
       "<small>shape: (10, 2)</small><table border=\"1\" class=\"dataframe\"><thead><tr><th>Complaint Type</th><th>count</th></tr><tr><td>str</td><td>u32</td></tr></thead><tbody><tr><td>&quot;HEATING&quot;</td><td>14200</td></tr><tr><td>&quot;GENERAL CONSTRUCTION&quot;</td><td>7471</td></tr><tr><td>&quot;Street Light Condition&quot;</td><td>7117</td></tr><tr><td>&quot;DOF Literature Request&quot;</td><td>5797</td></tr><tr><td>&quot;PLUMBING&quot;</td><td>5373</td></tr><tr><td>&quot;PAINT - PLASTER&quot;</td><td>5149</td></tr><tr><td>&quot;Blocked Driveway&quot;</td><td>4590</td></tr><tr><td>&quot;NONCONST&quot;</td><td>3998</td></tr><tr><td>&quot;Street Condition&quot;</td><td>3473</td></tr><tr><td>&quot;Illegal Parking&quot;</td><td>3343</td></tr></tbody></table></div>"
      ],
      "text/plain": [
       "shape: (10, 2)\n",
       "┌────────────────────────┬───────┐\n",
       "│ Complaint Type         ┆ count │\n",
       "│ ---                    ┆ ---   │\n",
       "│ str                    ┆ u32   │\n",
       "╞════════════════════════╪═══════╡\n",
       "│ HEATING                ┆ 14200 │\n",
       "│ GENERAL CONSTRUCTION   ┆ 7471  │\n",
       "│ Street Light Condition ┆ 7117  │\n",
       "│ DOF Literature Request ┆ 5797  │\n",
       "│ PLUMBING               ┆ 5373  │\n",
       "│ PAINT - PLASTER        ┆ 5149  │\n",
       "│ Blocked Driveway       ┆ 4590  │\n",
       "│ NONCONST               ┆ 3998  │\n",
       "│ Street Condition       ┆ 3473  │\n",
       "│ Illegal Parking        ┆ 3343  │\n",
       "└────────────────────────┴───────┘"
      ]
     },
     "execution_count": 12,
     "metadata": {},
     "output_type": "execute_result"
    }
   ],
   "source": [
    "complaint_counts = complaints['Complaint Type'].value_counts().top_k(10, by='count')\n",
    "complaint_counts"
   ]
  },
  {
   "cell_type": "markdown",
   "metadata": {
    "id": "OZTCJP5BpcqH"
   },
   "source": [
    "But it gets better! We can plot them!"
   ]
  },
  {
   "cell_type": "code",
   "execution_count": 13,
   "metadata": {
    "colab": {
     "base_uri": "https://localhost:8080/",
     "height": 610
    },
    "executionInfo": {
     "elapsed": 1151,
     "status": "ok",
     "timestamp": 1730963563622,
     "user": {
      "displayName": "Daniele Grotti",
      "userId": "05993002232846155126"
     },
     "user_tz": -60
    },
    "id": "jEqQp5PdpcqI",
    "outputId": "4ee05533-43b7-4d51-c831-5eda39ec7124"
   },
   "outputs": [
    {
     "data": {
      "text/plain": [
       "<Axes: xlabel='Complaint Type', ylabel='count'>"
      ]
     },
     "execution_count": 13,
     "metadata": {},
     "output_type": "execute_result"
    },
    {
     "data": {
      "image/png": "[encoded data removed]",
      "text/plain": [
       "<Figure size 1500x500 with 1 Axes>"
      ]
     },
     "metadata": {},
     "output_type": "display_data"
    }
   ],
   "source": [
    "plt.xticks(rotation=45)\n",
    "sbn.barplot(complaint_counts, x='Complaint Type', y='count',hue='Complaint Type')"
   ]
  },
  {
   "cell_type": "code",
   "execution_count": 14,
   "metadata": {},
   "outputs": [],
   "source": [
    "#end"
   ]
  },
  {
   "cell_type": "markdown",
   "metadata": {
    "id": "88IqkkNlpcqI"
   },
   "source": [
    "<style>\n",
    "    @font-face {\n",
    "        font-family: \"Computer Modern\";\n",
    "        src: url('http://mirrors.ctan.org/fonts/cm-unicode/fonts/otf/cmunss.otf');\n",
    "    }\n",
    "    div.cell{\n",
    "        width:800px;\n",
    "        margin-left:16% !important;\n",
    "        margin-right:auto;\n",
    "    }\n",
    "    h1 {\n",
    "        font-family: Helvetica, serif;\n",
    "    }\n",
    "    h4{\n",
    "        margin-top:12px;\n",
    "        margin-bottom: 3px;\n",
    "       }\n",
    "    div.text_cell_render{\n",
    "        font-family: Computer Modern, \"Helvetica Neue\", Arial, Helvetica, Geneva, sans-serif;\n",
    "        line-height: 145%;\n",
    "        font-size: 130%;\n",
    "        width:800px;\n",
    "        margin-left:auto;\n",
    "        margin-right:auto;\n",
    "    }\n",
    "    .CodeMirror{\n",
    "            font-family: \"Source Code Pro\", source-code-pro,Consolas, monospace;\n",
    "    }\n",
    "    .text_cell_render h5 {\n",
    "        font-weight: 300;\n",
    "        font-size: 22pt;\n",
    "        color: #4057A1;\n",
    "        font-style: italic;\n",
    "        margin-bottom: .5em;\n",
    "        margin-top: 0.5em;\n",
    "        display: block;\n",
    "    }\n",
    "    \n",
    "    .warning{\n",
    "        color: rgb( 240, 20, 20 )\n",
    "        }  "
   ]
  }
 ],
 "metadata": {
  "colab": {
   "provenance": []
  },
  "kernelspec": {
   "display_name": "Python 3",
   "language": "python",
   "name": "python3"
  },
  "language_info": {
   "codemirror_mode": {
    "name": "ipython",
    "version": 3
   },
   "file_extension": ".py",
   "mimetype": "text/x-python",
   "name": "python",
   "nbconvert_exporter": "python",
   "pygments_lexer": "ipython3",
   "version": "3.11.9"
  }
 },
 "nbformat": 4,
 "nbformat_minor": 0
}
