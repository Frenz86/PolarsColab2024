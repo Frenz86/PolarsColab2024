{
 "cells": [
  {
   "cell_type": "markdown",
   "metadata": {
    "id": "MfIaNHPWjqlA"
   },
   "source": [
    "## 8.Polars: TimeStamps"
   ]
  },
  {
   "cell_type": "code",
   "execution_count": 1,
   "metadata": {
    "colab": {
     "base_uri": "https://localhost:8080/"
    },
    "executionInfo": {
     "elapsed": 856,
     "status": "ok",
     "timestamp": 1730965006323,
     "user": {
      "displayName": "Daniele Grotti",
      "userId": "05993002232846155126"
     },
     "user_tz": -60
    },
    "id": "2ngDXcMCjbsf",
    "outputId": "f0aeea22-9082-4fe1-d47b-0fadf194bf1c"
   },
   "outputs": [
    {
     "name": "stdout",
     "output_type": "stream",
     "text": [
      "--2024-11-07 07:36:45--  https://frenzy86.s3.eu-west-2.amazonaws.com/python/data/popularity-contest\n",
      "Resolving frenzy86.s3.eu-west-2.amazonaws.com (frenzy86.s3.eu-west-2.amazonaws.com)... 52.95.149.34, 52.95.149.66, 52.95.150.34, ...\n",
      "Connecting to frenzy86.s3.eu-west-2.amazonaws.com (frenzy86.s3.eu-west-2.amazonaws.com)|52.95.149.34|:443... connected.\n",
      "HTTP request sent, awaiting response... 200 OK\n",
      "Length: 189690 (185K) [application/octet-stream]\n",
      "Saving to: ‘popularity-contest’\n",
      "\n",
      "popularity-contest  100%[===================>] 185.24K   810KB/s    in 0.2s    \n",
      "\n",
      "2024-11-07 07:36:46 (810 KB/s) - ‘popularity-contest’ saved [189690/189690]\n",
      "\n"
     ]
    }
   ],
   "source": [
    "!wget https://frenzy86.s3.eu-west-2.amazonaws.com/python/data/popularity-contest"
   ]
  },
  {
   "cell_type": "code",
   "execution_count": 1,
   "metadata": {
    "executionInfo": {
     "elapsed": 6,
     "status": "ok",
     "timestamp": 1730965006323,
     "user": {
      "displayName": "Daniele Grotti",
      "userId": "05993002232846155126"
     },
     "user_tz": -60
    },
    "id": "9_1up7OwjY2L"
   },
   "outputs": [],
   "source": [
    "#path = \"popularity-contest\"\n",
    "path = \"https://frenzy86.s3.eu-west-2.amazonaws.com/python/data/popularity-contest\""
   ]
  },
  {
   "cell_type": "code",
   "execution_count": 2,
   "metadata": {
    "colab": {
     "base_uri": "https://localhost:8080/"
    },
    "executionInfo": {
     "elapsed": 9313,
     "status": "ok",
     "timestamp": 1730965027170,
     "user": {
      "displayName": "Daniele Grotti",
      "userId": "05993002232846155126"
     },
     "user_tz": -60
    },
    "id": "ENic8KxlrZmE",
    "outputId": "f51860b4-866c-43f6-9cc6-5af7e3109bc2"
   },
   "outputs": [
    {
     "name": "stdout",
     "output_type": "stream",
     "text": [
      "1.23.0\n"
     ]
    }
   ],
   "source": [
    "import polars as pl\n",
    "import polars.selectors as cs\n",
    "import seaborn as sbn\n",
    "import matplotlib.pyplot as plt\n",
    "\n",
    "# Make the graphs a bit prettier, and bigger\n",
    "plt.style.use('ggplot')\n",
    "plt.rcParams['figure.figsize'] = (15, 5)\n",
    "plt.rcParams['font.family'] = 'sans-serif'\n",
    "\n",
    "print(pl.__version__)"
   ]
  },
  {
   "cell_type": "markdown",
   "metadata": {
    "id": "QgjLZ2VIrZmI"
   },
   "source": [
    "# 8.1 Parsing Unix timestamps"
   ]
  },
  {
   "cell_type": "markdown",
   "metadata": {
    "id": "SEQ-nnC5rZmK"
   },
   "source": [
    "The columns in polars dataframes are statically typed, meaning there is no ambiguity regarding parsing data as integers or as dates. The file we're using here is a popularity-contest file I found on my system at `/var/log/popularity-contest`.\n",
    "\n",
    "Here's an [explanation of how this file works](http://popcon.ubuntu.com/README)."
   ]
  },
  {
   "cell_type": "code",
   "execution_count": 3,
   "metadata": {
    "executionInfo": {
     "elapsed": 453,
     "status": "ok",
     "timestamp": 1730965027618,
     "user": {
      "displayName": "Daniele Grotti",
      "userId": "05993002232846155126"
     },
     "user_tz": -60
    },
    "id": "c0EtlEjYrZmL"
   },
   "outputs": [],
   "source": [
    "# Read it, and remove the last row\n",
    "popcon = pl.read_csv(path,\n",
    "                     separator=' ',\n",
    "                     ignore_errors=True,\n",
    "                     new_columns=['atime', 'ctime', 'package-name', 'mru-program', 'tag'],\n",
    "                     )[:-1]"
   ]
  },
  {
   "cell_type": "markdown",
   "metadata": {
    "id": "Q4gSN-EdrZmM"
   },
   "source": [
    "The colums are the access time, created time, package name, recently used program, and a tag. In this case, polars has parsed the access time and created time as integers instead of datetimes."
   ]
  },
  {
   "cell_type": "code",
   "execution_count": 4,
   "metadata": {
    "colab": {
     "base_uri": "https://localhost:8080/",
     "height": 255
    },
    "executionInfo": {
     "elapsed": 6,
     "status": "ok",
     "timestamp": 1710868026888,
     "user": {
      "displayName": "Daniele Grotti",
      "userId": "05993002232846155126"
     },
     "user_tz": -60
    },
    "id": "2a6UyH9grZmM",
    "outputId": "4192a760-4d1f-465e-9be6-35a5675d19eb"
   },
   "outputs": [
    {
     "data": {
      "text/html": [
       "<div><style>\n",
       ".dataframe > thead > tr,\n",
       ".dataframe > tbody > tr {\n",
       "  text-align: right;\n",
       "  white-space: pre-wrap;\n",
       "}\n",
       "</style>\n",
       "<small>shape: (5, 5)</small><table border=\"1\" class=\"dataframe\"><thead><tr><th>atime</th><th>ctime</th><th>package-name</th><th>mru-program</th><th>tag</th></tr><tr><td>i64</td><td>i64</td><td>str</td><td>str</td><td>str</td></tr></thead><tbody><tr><td>1387295797</td><td>1367633260</td><td>&quot;perl-base&quot;</td><td>&quot;/usr/bin/perl&quot;</td><td>null</td></tr><tr><td>1387295796</td><td>1354370480</td><td>&quot;login&quot;</td><td>&quot;/bin/su&quot;</td><td>null</td></tr><tr><td>1387295743</td><td>1354341275</td><td>&quot;libtalloc2&quot;</td><td>&quot;/usr/lib/x86_64-linux-gnu/libt…</td><td>null</td></tr><tr><td>1387295743</td><td>1387224204</td><td>&quot;libwbclient0&quot;</td><td>&quot;/usr/lib/x86_64-linux-gnu/libw…</td><td>&quot;&lt;RECENT-CTIME&gt;&quot;</td></tr><tr><td>1387295742</td><td>1354341253</td><td>&quot;libselinux1&quot;</td><td>&quot;/lib/x86_64-linux-gnu/libselin…</td><td>null</td></tr></tbody></table></div>"
      ],
      "text/plain": [
       "shape: (5, 5)\n",
       "┌────────────┬────────────┬──────────────┬─────────────────────────────────┬────────────────┐\n",
       "│ atime      ┆ ctime      ┆ package-name ┆ mru-program                     ┆ tag            │\n",
       "│ ---        ┆ ---        ┆ ---          ┆ ---                             ┆ ---            │\n",
       "│ i64        ┆ i64        ┆ str          ┆ str                             ┆ str            │\n",
       "╞════════════╪════════════╪══════════════╪═════════════════════════════════╪════════════════╡\n",
       "│ 1387295797 ┆ 1367633260 ┆ perl-base    ┆ /usr/bin/perl                   ┆ null           │\n",
       "│ 1387295796 ┆ 1354370480 ┆ login        ┆ /bin/su                         ┆ null           │\n",
       "│ 1387295743 ┆ 1354341275 ┆ libtalloc2   ┆ /usr/lib/x86_64-linux-gnu/libt… ┆ null           │\n",
       "│ 1387295743 ┆ 1387224204 ┆ libwbclient0 ┆ /usr/lib/x86_64-linux-gnu/libw… ┆ <RECENT-CTIME> │\n",
       "│ 1387295742 ┆ 1354341253 ┆ libselinux1  ┆ /lib/x86_64-linux-gnu/libselin… ┆ null           │\n",
       "└────────────┴────────────┴──────────────┴─────────────────────────────────┴────────────────┘"
      ]
     },
     "execution_count": 4,
     "metadata": {},
     "output_type": "execute_result"
    }
   ],
   "source": [
    "popcon.head()"
   ]
  },
  {
   "cell_type": "markdown",
   "metadata": {
    "id": "da8qYqRrrZmN"
   },
   "source": [
    "We can explicitly convert the integers to datetimes using the `from_epoch` function:"
   ]
  },
  {
   "cell_type": "code",
   "execution_count": 5,
   "metadata": {
    "executionInfo": {
     "elapsed": 265,
     "status": "ok",
     "timestamp": 1730965035967,
     "user": {
      "displayName": "Daniele Grotti",
      "userId": "05993002232846155126"
     },
     "user_tz": -60
    },
    "id": "gQ6bBGCrrZmO"
   },
   "outputs": [],
   "source": [
    "popcon = popcon.with_columns(\n",
    "                            pl.from_epoch('atime', time_unit='s'),\n",
    "                            pl.from_epoch('ctime',time_unit=\"s\") #time_unit='s' is default\n",
    "                            )"
   ]
  },
  {
   "cell_type": "markdown",
   "metadata": {
    "id": "gPSTG-9TrZmO"
   },
   "source": [
    "If we look at the dtype now, it's `pl.Datetime`."
   ]
  },
  {
   "cell_type": "code",
   "execution_count": 6,
   "metadata": {
    "colab": {
     "base_uri": "https://localhost:8080/"
    },
    "executionInfo": {
     "elapsed": 293,
     "status": "ok",
     "timestamp": 1730965037567,
     "user": {
      "displayName": "Daniele Grotti",
      "userId": "05993002232846155126"
     },
     "user_tz": -60
    },
    "id": "xf-rQcQtrZmP",
    "outputId": "08b9369c-e6ba-4af2-9569-dfe163182051"
   },
   "outputs": [
    {
     "data": {
      "text/plain": [
       "Datetime(time_unit='us', time_zone=None)"
      ]
     },
     "execution_count": 6,
     "metadata": {},
     "output_type": "execute_result"
    }
   ],
   "source": [
    "popcon['atime'].dtype"
   ]
  },
  {
   "cell_type": "markdown",
   "metadata": {
    "id": "ExgSmNdarZmP"
   },
   "source": [
    "So now we can look at our `atime` and `ctime` as dates!"
   ]
  },
  {
   "cell_type": "code",
   "execution_count": 7,
   "metadata": {
    "colab": {
     "base_uri": "https://localhost:8080/",
     "height": 255
    },
    "executionInfo": {
     "elapsed": 279,
     "status": "ok",
     "timestamp": 1730965039330,
     "user": {
      "displayName": "Daniele Grotti",
      "userId": "05993002232846155126"
     },
     "user_tz": -60
    },
    "id": "cO6ty65hrZmP",
    "outputId": "cfa7782d-e466-429a-b4d6-48d9f355ba1f"
   },
   "outputs": [
    {
     "data": {
      "text/html": [
       "<div><style>\n",
       ".dataframe > thead > tr,\n",
       ".dataframe > tbody > tr {\n",
       "  text-align: right;\n",
       "  white-space: pre-wrap;\n",
       "}\n",
       "</style>\n",
       "<small>shape: (5, 5)</small><table border=\"1\" class=\"dataframe\"><thead><tr><th>atime</th><th>ctime</th><th>package-name</th><th>mru-program</th><th>tag</th></tr><tr><td>datetime[μs]</td><td>datetime[μs]</td><td>str</td><td>str</td><td>str</td></tr></thead><tbody><tr><td>2013-12-17 15:56:37</td><td>2013-05-04 02:07:40</td><td>&quot;perl-base&quot;</td><td>&quot;/usr/bin/perl&quot;</td><td>null</td></tr><tr><td>2013-12-17 15:56:36</td><td>2012-12-01 14:01:20</td><td>&quot;login&quot;</td><td>&quot;/bin/su&quot;</td><td>null</td></tr><tr><td>2013-12-17 15:55:43</td><td>2012-12-01 05:54:35</td><td>&quot;libtalloc2&quot;</td><td>&quot;/usr/lib/x86_64-linux-gnu/libt…</td><td>null</td></tr><tr><td>2013-12-17 15:55:43</td><td>2013-12-16 20:03:24</td><td>&quot;libwbclient0&quot;</td><td>&quot;/usr/lib/x86_64-linux-gnu/libw…</td><td>&quot;&lt;RECENT-CTIME&gt;&quot;</td></tr><tr><td>2013-12-17 15:55:42</td><td>2012-12-01 05:54:13</td><td>&quot;libselinux1&quot;</td><td>&quot;/lib/x86_64-linux-gnu/libselin…</td><td>null</td></tr></tbody></table></div>"
      ],
      "text/plain": [
       "shape: (5, 5)\n",
       "┌─────────────────────┬─────────────────────┬──────────────┬──────────────────────┬────────────────┐\n",
       "│ atime               ┆ ctime               ┆ package-name ┆ mru-program          ┆ tag            │\n",
       "│ ---                 ┆ ---                 ┆ ---          ┆ ---                  ┆ ---            │\n",
       "│ datetime[μs]        ┆ datetime[μs]        ┆ str          ┆ str                  ┆ str            │\n",
       "╞═════════════════════╪═════════════════════╪══════════════╪══════════════════════╪════════════════╡\n",
       "│ 2013-12-17 15:56:37 ┆ 2013-05-04 02:07:40 ┆ perl-base    ┆ /usr/bin/perl        ┆ null           │\n",
       "│ 2013-12-17 15:56:36 ┆ 2012-12-01 14:01:20 ┆ login        ┆ /bin/su              ┆ null           │\n",
       "│ 2013-12-17 15:55:43 ┆ 2012-12-01 05:54:35 ┆ libtalloc2   ┆ /usr/lib/x86_64-linu ┆ null           │\n",
       "│                     ┆                     ┆              ┆ x-gnu/libt…          ┆                │\n",
       "│ 2013-12-17 15:55:43 ┆ 2013-12-16 20:03:24 ┆ libwbclient0 ┆ /usr/lib/x86_64-linu ┆ <RECENT-CTIME> │\n",
       "│                     ┆                     ┆              ┆ x-gnu/libw…          ┆                │\n",
       "│ 2013-12-17 15:55:42 ┆ 2012-12-01 05:54:13 ┆ libselinux1  ┆ /lib/x86_64-linux-gn ┆ null           │\n",
       "│                     ┆                     ┆              ┆ u/libselin…          ┆                │\n",
       "└─────────────────────┴─────────────────────┴──────────────┴──────────────────────┴────────────────┘"
      ]
     },
     "execution_count": 7,
     "metadata": {},
     "output_type": "execute_result"
    }
   ],
   "source": [
    "popcon.head()"
   ]
  },
  {
   "cell_type": "markdown",
   "metadata": {
    "id": "hPZtcRHtrZmQ"
   },
   "source": [
    "Now suppose we want to look at all packages that aren't libraries. First, I want to get rid of everything with timestamp 0."
   ]
  },
  {
   "cell_type": "code",
   "execution_count": 8,
   "metadata": {
    "colab": {
     "base_uri": "https://localhost:8080/",
     "height": 276
    },
    "executionInfo": {
     "elapsed": 268,
     "status": "ok",
     "timestamp": 1730965041261,
     "user": {
      "displayName": "Daniele Grotti",
      "userId": "05993002232846155126"
     },
     "user_tz": -60
    },
    "id": "-Tu5Rm8IrZmQ",
    "outputId": "7c8a55e6-dc44-41d8-868b-7cad242bba58"
   },
   "outputs": [
    {
     "name": "stdout",
     "output_type": "stream",
     "text": [
      "before filter\n"
     ]
    },
    {
     "data": {
      "text/html": [
       "<div><style>\n",
       ".dataframe > thead > tr,\n",
       ".dataframe > tbody > tr {\n",
       "  text-align: right;\n",
       "  white-space: pre-wrap;\n",
       "}\n",
       "</style>\n",
       "<small>shape: (1, 5)</small><table border=\"1\" class=\"dataframe\"><thead><tr><th>atime</th><th>ctime</th><th>package-name</th><th>mru-program</th><th>tag</th></tr><tr><td>datetime[μs]</td><td>datetime[μs]</td><td>str</td><td>str</td><td>str</td></tr></thead><tbody><tr><td>1970-01-01 00:00:00</td><td>1970-01-01 00:00:00</td><td>&quot;librsync1&quot;</td><td>&quot;&lt;NOFILES&gt;&quot;</td><td>null</td></tr></tbody></table></div>"
      ],
      "text/plain": [
       "shape: (1, 5)\n",
       "┌─────────────────────┬─────────────────────┬──────────────┬─────────────┬──────┐\n",
       "│ atime               ┆ ctime               ┆ package-name ┆ mru-program ┆ tag  │\n",
       "│ ---                 ┆ ---                 ┆ ---          ┆ ---         ┆ ---  │\n",
       "│ datetime[μs]        ┆ datetime[μs]        ┆ str          ┆ str         ┆ str  │\n",
       "╞═════════════════════╪═════════════════════╪══════════════╪═════════════╪══════╡\n",
       "│ 1970-01-01 00:00:00 ┆ 1970-01-01 00:00:00 ┆ librsync1    ┆ <NOFILES>   ┆ null │\n",
       "└─────────────────────┴─────────────────────┴──────────────┴─────────────┴──────┘"
      ]
     },
     "metadata": {},
     "output_type": "display_data"
    },
    {
     "name": "stdout",
     "output_type": "stream",
     "text": [
      "after filter\n"
     ]
    },
    {
     "data": {
      "text/html": [
       "<div><style>\n",
       ".dataframe > thead > tr,\n",
       ".dataframe > tbody > tr {\n",
       "  text-align: right;\n",
       "  white-space: pre-wrap;\n",
       "}\n",
       "</style>\n",
       "<small>shape: (1, 5)</small><table border=\"1\" class=\"dataframe\"><thead><tr><th>atime</th><th>ctime</th><th>package-name</th><th>mru-program</th><th>tag</th></tr><tr><td>datetime[μs]</td><td>datetime[μs]</td><td>str</td><td>str</td><td>str</td></tr></thead><tbody><tr><td>2008-11-20 14:38:20</td><td>2012-12-01 05:54:57</td><td>&quot;libfile-copy-recursive-perl&quot;</td><td>&quot;/usr/share/perl5/File/Copy/Rec…</td><td>&quot;&lt;OLD&gt;&quot;</td></tr></tbody></table></div>"
      ],
      "text/plain": [
       "shape: (1, 5)\n",
       "┌─────────────────────┬─────────────────────┬───────────────────────┬──────────────────────┬───────┐\n",
       "│ atime               ┆ ctime               ┆ package-name          ┆ mru-program          ┆ tag   │\n",
       "│ ---                 ┆ ---                 ┆ ---                   ┆ ---                  ┆ ---   │\n",
       "│ datetime[μs]        ┆ datetime[μs]        ┆ str                   ┆ str                  ┆ str   │\n",
       "╞═════════════════════╪═════════════════════╪═══════════════════════╪══════════════════════╪═══════╡\n",
       "│ 2008-11-20 14:38:20 ┆ 2012-12-01 05:54:57 ┆ libfile-copy-recursiv ┆ /usr/share/perl5/Fil ┆ <OLD> │\n",
       "│                     ┆                     ┆ e-perl                ┆ e/Copy/Rec…          ┆       │\n",
       "└─────────────────────┴─────────────────────┴───────────────────────┴──────────────────────┴───────┘"
      ]
     },
     "metadata": {},
     "output_type": "display_data"
    }
   ],
   "source": [
    "print(\"before filter\")\n",
    "display(popcon.bottom_k(1, by='atime'))\n",
    "popcon = popcon.filter(\n",
    "                        pl.col('atime') > pl.datetime(1970, 1, 1)\n",
    "                        )\n",
    "\n",
    "print(\"after filter\")\n",
    "display(popcon.bottom_k(1, by='atime'))"
   ]
  },
  {
   "cell_type": "markdown",
   "metadata": {
    "id": "9dn7rgSqrZmQ"
   },
   "source": [
    "Now we can use polars' `filter` and `str` look at rows where the package name doesn't contain 'lib'."
   ]
  },
  {
   "cell_type": "code",
   "execution_count": 9,
   "metadata": {
    "colab": {
     "base_uri": "https://localhost:8080/",
     "height": 411
    },
    "executionInfo": {
     "elapsed": 270,
     "status": "ok",
     "timestamp": 1730965045162,
     "user": {
      "displayName": "Daniele Grotti",
      "userId": "05993002232846155126"
     },
     "user_tz": -60
    },
    "id": "S1l3JAmGrZmQ",
    "outputId": "b37f0d76-e7f3-412b-e0bd-19102889637a"
   },
   "outputs": [
    {
     "data": {
      "text/html": [
       "<div><style>\n",
       ".dataframe > thead > tr,\n",
       ".dataframe > tbody > tr {\n",
       "  text-align: right;\n",
       "  white-space: pre-wrap;\n",
       "}\n",
       "</style>\n",
       "<small>shape: (10, 5)</small><table border=\"1\" class=\"dataframe\"><thead><tr><th>atime</th><th>ctime</th><th>package-name</th><th>mru-program</th><th>tag</th></tr><tr><td>datetime[μs]</td><td>datetime[μs]</td><td>str</td><td>str</td><td>str</td></tr></thead><tbody><tr><td>2013-12-17 04:55:39</td><td>2013-12-17 04:55:42</td><td>&quot;ddd&quot;</td><td>&quot;/usr/bin/ddd&quot;</td><td>&quot;&lt;RECENT-CTIME&gt;&quot;</td></tr><tr><td>2013-12-16 20:03:20</td><td>2013-12-16 20:05:13</td><td>&quot;nodejs&quot;</td><td>&quot;/usr/bin/npm&quot;</td><td>&quot;&lt;RECENT-CTIME&gt;&quot;</td></tr><tr><td>2013-12-16 20:03:20</td><td>2013-12-16 20:05:04</td><td>&quot;switchboard-plug-keyboard&quot;</td><td>&quot;/usr/lib/plugs/pantheon/keyboa…</td><td>&quot;&lt;RECENT-CTIME&gt;&quot;</td></tr><tr><td>2013-12-16 20:03:20</td><td>2013-12-16 20:05:04</td><td>&quot;thunderbird-locale-en&quot;</td><td>&quot;/usr/lib/thunderbird-addons/ex…</td><td>&quot;&lt;RECENT-CTIME&gt;&quot;</td></tr><tr><td>2013-12-16 20:08:27</td><td>2013-12-16 20:05:03</td><td>&quot;software-center&quot;</td><td>&quot;/usr/sbin/update-software-cent…</td><td>&quot;&lt;RECENT-CTIME&gt;&quot;</td></tr><tr><td>2013-12-16 20:03:20</td><td>2013-12-16 20:05:00</td><td>&quot;samba-common-bin&quot;</td><td>&quot;/usr/bin/net.samba3&quot;</td><td>&quot;&lt;RECENT-CTIME&gt;&quot;</td></tr><tr><td>2013-12-16 20:08:25</td><td>2013-12-16 20:04:59</td><td>&quot;postgresql-client-9.1&quot;</td><td>&quot;/usr/lib/postgresql/9.1/bin/ps…</td><td>&quot;&lt;RECENT-CTIME&gt;&quot;</td></tr><tr><td>2013-12-16 20:08:23</td><td>2013-12-16 20:04:58</td><td>&quot;postgresql-9.1&quot;</td><td>&quot;/usr/lib/postgresql/9.1/bin/po…</td><td>&quot;&lt;RECENT-CTIME&gt;&quot;</td></tr><tr><td>2013-12-16 20:03:20</td><td>2013-12-16 20:04:55</td><td>&quot;php5-dev&quot;</td><td>&quot;/usr/include/php5/main/snprint…</td><td>&quot;&lt;RECENT-CTIME&gt;&quot;</td></tr><tr><td>2013-12-16 20:03:20</td><td>2013-12-16 20:04:54</td><td>&quot;php-pear&quot;</td><td>&quot;/usr/share/php/XML/Util.php&quot;</td><td>&quot;&lt;RECENT-CTIME&gt;&quot;</td></tr></tbody></table></div>"
      ],
      "text/plain": [
       "shape: (10, 5)\n",
       "┌──────────────┬──────────────────────┬─────────────────────┬─────────────────────┬────────────────┐\n",
       "│ atime        ┆ ctime                ┆ package-name        ┆ mru-program         ┆ tag            │\n",
       "│ ---          ┆ ---                  ┆ ---                 ┆ ---                 ┆ ---            │\n",
       "│ datetime[μs] ┆ datetime[μs]         ┆ str                 ┆ str                 ┆ str            │\n",
       "╞══════════════╪══════════════════════╪═════════════════════╪═════════════════════╪════════════════╡\n",
       "│ 2013-12-17   ┆ 2013-12-17 04:55:42  ┆ ddd                 ┆ /usr/bin/ddd        ┆ <RECENT-CTIME> │\n",
       "│ 04:55:39     ┆                      ┆                     ┆                     ┆                │\n",
       "│ 2013-12-16   ┆ 2013-12-16 20:05:13  ┆ nodejs              ┆ /usr/bin/npm        ┆ <RECENT-CTIME> │\n",
       "│ 20:03:20     ┆                      ┆                     ┆                     ┆                │\n",
       "│ 2013-12-16   ┆ 2013-12-16 20:05:04  ┆ switchboard-plug-ke ┆ /usr/lib/plugs/pant ┆ <RECENT-CTIME> │\n",
       "│ 20:03:20     ┆                      ┆ yboard              ┆ heon/keyboa…        ┆                │\n",
       "│ 2013-12-16   ┆ 2013-12-16 20:05:04  ┆ thunderbird-locale- ┆ /usr/lib/thunderbir ┆ <RECENT-CTIME> │\n",
       "│ 20:03:20     ┆                      ┆ en                  ┆ d-addons/ex…        ┆                │\n",
       "│ 2013-12-16   ┆ 2013-12-16 20:05:03  ┆ software-center     ┆ /usr/sbin/update-so ┆ <RECENT-CTIME> │\n",
       "│ 20:08:27     ┆                      ┆                     ┆ ftware-cent…        ┆                │\n",
       "│ 2013-12-16   ┆ 2013-12-16 20:05:00  ┆ samba-common-bin    ┆ /usr/bin/net.samba3 ┆ <RECENT-CTIME> │\n",
       "│ 20:03:20     ┆                      ┆                     ┆                     ┆                │\n",
       "│ 2013-12-16   ┆ 2013-12-16 20:04:59  ┆ postgresql-client-9 ┆ /usr/lib/postgresql ┆ <RECENT-CTIME> │\n",
       "│ 20:08:25     ┆                      ┆ .1                  ┆ /9.1/bin/ps…        ┆                │\n",
       "│ 2013-12-16   ┆ 2013-12-16 20:04:58  ┆ postgresql-9.1      ┆ /usr/lib/postgresql ┆ <RECENT-CTIME> │\n",
       "│ 20:08:23     ┆                      ┆                     ┆ /9.1/bin/po…        ┆                │\n",
       "│ 2013-12-16   ┆ 2013-12-16 20:04:55  ┆ php5-dev            ┆ /usr/include/php5/m ┆ <RECENT-CTIME> │\n",
       "│ 20:03:20     ┆                      ┆                     ┆ ain/snprint…        ┆                │\n",
       "│ 2013-12-16   ┆ 2013-12-16 20:04:54  ┆ php-pear            ┆ /usr/share/php/XML/ ┆ <RECENT-CTIME> │\n",
       "│ 20:03:20     ┆                      ┆                     ┆ Util.php            ┆                │\n",
       "└──────────────┴──────────────────────┴─────────────────────┴─────────────────────┴────────────────┘"
      ]
     },
     "execution_count": 9,
     "metadata": {},
     "output_type": "execute_result"
    }
   ],
   "source": [
    "nonlibraries = popcon.filter(~pl.col('package-name').str.contains('lib'))\n",
    "nonlibraries.top_k(10, by='ctime')"
   ]
  },
  {
   "cell_type": "code",
   "execution_count": 10,
   "metadata": {
    "executionInfo": {
     "elapsed": 307,
     "status": "ok",
     "timestamp": 1730965046568,
     "user": {
      "displayName": "Daniele Grotti",
      "userId": "05993002232846155126"
     },
     "user_tz": -60
    },
    "id": "wN6Prfr1rZmR"
   },
   "outputs": [],
   "source": [
    "#end"
   ]
  },
  {
   "cell_type": "code",
   "execution_count": null,
   "metadata": {},
   "outputs": [],
   "source": []
  }
 ],
 "metadata": {
  "colab": {
   "provenance": []
  },
  "kernelspec": {
   "display_name": "Python 3",
   "language": "python",
   "name": "python3"
  },
  "language_info": {
   "codemirror_mode": {
    "name": "ipython",
    "version": 3
   },
   "file_extension": ".py",
   "mimetype": "text/x-python",
   "name": "python",
   "nbconvert_exporter": "python",
   "pygments_lexer": "ipython3",
   "version": "3.11.9"
  }
 },
 "nbformat": 4,
 "nbformat_minor": 0
}
