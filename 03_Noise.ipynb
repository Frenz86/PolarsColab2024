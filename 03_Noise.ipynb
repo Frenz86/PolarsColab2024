{
 "cells": [
  {
   "cell_type": "markdown",
   "metadata": {
    "id": "_PC6nqbGeWih"
   },
   "source": [
    "## 3.Polars: Noise"
   ]
  },
  {
   "cell_type": "code",
   "execution_count": 2,
   "metadata": {
    "colab": {
     "base_uri": "https://localhost:8080/"
    },
    "executionInfo": {
     "elapsed": 17639,
     "status": "ok",
     "timestamp": 1730963686142,
     "user": {
      "displayName": "Daniele Grotti",
      "userId": "05993002232846155126"
     },
     "user_tz": -60
    },
    "id": "BdHL9Ty8eS4z",
    "outputId": "aaac52c7-e8bc-4633-d832-1a483d27e795"
   },
   "outputs": [
    {
     "name": "stdout",
     "output_type": "stream",
     "text": [
      "--2024-11-07 07:14:27--  https://frenzy86.s3.eu-west-2.amazonaws.com/python/data/311-service-requests.csv\n",
      "Resolving frenzy86.s3.eu-west-2.amazonaws.com (frenzy86.s3.eu-west-2.amazonaws.com)... 52.95.191.30, 3.5.245.169, 52.95.144.30, ...\n",
      "Connecting to frenzy86.s3.eu-west-2.amazonaws.com (frenzy86.s3.eu-west-2.amazonaws.com)|52.95.191.30|:443... connected.\n",
      "HTTP request sent, awaiting response... 200 OK\n",
      "Length: 55052764 (53M) [text/csv]\n",
      "Saving to: ‘311-service-requests.csv’\n",
      "\n",
      "311-service-request 100%[===================>]  52.50M  8.54MB/s    in 17s     \n",
      "\n",
      "2024-11-07 07:14:45 (3.11 MB/s) - ‘311-service-requests.csv’ saved [55052764/55052764]\n",
      "\n"
     ]
    }
   ],
   "source": [
    "!wget https://frenzy86.s3.eu-west-2.amazonaws.com/python/data/311-service-requests.csv"
   ]
  },
  {
   "cell_type": "code",
   "execution_count": 1,
   "metadata": {
    "executionInfo": {
     "elapsed": 500,
     "status": "ok",
     "timestamp": 1730963668058,
     "user": {
      "displayName": "Daniele Grotti",
      "userId": "05993002232846155126"
     },
     "user_tz": -60
    },
    "id": "QUUJLxWgeS1p"
   },
   "outputs": [],
   "source": [
    "#path = \"311-service-requests.csv\"\n",
    "path = \"https://frenzy86.s3.eu-west-2.amazonaws.com/python/data/311-service-requests.csv\""
   ]
  },
  {
   "cell_type": "code",
   "execution_count": 2,
   "metadata": {
    "colab": {
     "base_uri": "https://localhost:8080/"
    },
    "executionInfo": {
     "elapsed": 3603,
     "status": "ok",
     "timestamp": 1730963703575,
     "user": {
      "displayName": "Daniele Grotti",
      "userId": "05993002232846155126"
     },
     "user_tz": -60
    },
    "id": "V01QblDhp07D",
    "outputId": "c2617409-1c15-4ddd-debd-1511f2da84bf"
   },
   "outputs": [
    {
     "name": "stdout",
     "output_type": "stream",
     "text": [
      "1.23.0\n"
     ]
    }
   ],
   "source": [
    "import polars as pl\n",
    "import polars.selectors as cs\n",
    "import seaborn as sbn\n",
    "import matplotlib.pyplot as plt\n",
    "\n",
    "# Make the graphs a bit prettier, and bigger\n",
    "plt.style.use('ggplot')\n",
    "plt.rcParams['figure.figsize'] = (15, 5)\n",
    "\n",
    "print(pl.__version__)"
   ]
  },
  {
   "cell_type": "markdown",
   "metadata": {
    "id": "bOAYhdMYp07I"
   },
   "source": [
    "Let's continue with our NYC 311 service requests example."
   ]
  },
  {
   "cell_type": "code",
   "execution_count": 3,
   "metadata": {
    "executionInfo": {
     "elapsed": 956,
     "status": "ok",
     "timestamp": 1730963720602,
     "user": {
      "displayName": "Daniele Grotti",
      "userId": "05993002232846155126"
     },
     "user_tz": -60
    },
    "id": "5Q-zzIoEp07K"
   },
   "outputs": [],
   "source": [
    "# because of mixed types we specify dtype to prevent any errors\n",
    "complaints = pl.read_csv(path, schema_overrides={'Incident Zip':pl.Utf8})"
   ]
  },
  {
   "cell_type": "markdown",
   "metadata": {
    "id": "B3lUJ1g-p07K"
   },
   "source": [
    "# 3.1 Selecting only noise complaints"
   ]
  },
  {
   "cell_type": "markdown",
   "metadata": {
    "id": "J7uwG6S7p07L"
   },
   "source": [
    "I'd like to know which borough has the most noise complaints. First, we'll take a look at the data to see what it looks like:"
   ]
  },
  {
   "cell_type": "code",
   "execution_count": 4,
   "metadata": {
    "colab": {
     "base_uri": "https://localhost:8080/",
     "height": 518
    },
    "executionInfo": {
     "elapsed": 445,
     "status": "ok",
     "timestamp": 1730963723851,
     "user": {
      "displayName": "Daniele Grotti",
      "userId": "05993002232846155126"
     },
     "user_tz": -60
    },
    "id": "LsvFzk7fp07L",
    "outputId": "1e5de4dd-c57e-4c04-ed7e-8db30213b955"
   },
   "outputs": [
    {
     "data": {
      "text/html": [
       "<div><style>\n",
       ".dataframe > thead > tr,\n",
       ".dataframe > tbody > tr {\n",
       "  text-align: right;\n",
       "  white-space: pre-wrap;\n",
       "}\n",
       "</style>\n",
       "<small>shape: (5, 52)</small><table border=\"1\" class=\"dataframe\"><thead><tr><th>Unique Key</th><th>Created Date</th><th>Closed Date</th><th>Agency</th><th>Agency Name</th><th>Complaint Type</th><th>Descriptor</th><th>Location Type</th><th>Incident Zip</th><th>Incident Address</th><th>Street Name</th><th>Cross Street 1</th><th>Cross Street 2</th><th>Intersection Street 1</th><th>Intersection Street 2</th><th>Address Type</th><th>City</th><th>Landmark</th><th>Facility Type</th><th>Status</th><th>Due Date</th><th>Resolution Action Updated Date</th><th>Community Board</th><th>Borough</th><th>X Coordinate (State Plane)</th><th>Y Coordinate (State Plane)</th><th>Park Facility Name</th><th>Park Borough</th><th>School Name</th><th>School Number</th><th>School Region</th><th>School Code</th><th>School Phone Number</th><th>School Address</th><th>School City</th><th>School State</th><th>School Zip</th><th>School Not Found</th><th>School or Citywide Complaint</th><th>Vehicle Type</th><th>Taxi Company Borough</th><th>Taxi Pick Up Location</th><th>Bridge Highway Name</th><th>Bridge Highway Direction</th><th>Road Ramp</th><th>Bridge Highway Segment</th><th>Garage Lot Name</th><th>Ferry Direction</th><th>Ferry Terminal Name</th><th>Latitude</th><th>Longitude</th><th>Location</th></tr><tr><td>i64</td><td>str</td><td>str</td><td>str</td><td>str</td><td>str</td><td>str</td><td>str</td><td>str</td><td>str</td><td>str</td><td>str</td><td>str</td><td>str</td><td>str</td><td>str</td><td>str</td><td>str</td><td>str</td><td>str</td><td>str</td><td>str</td><td>str</td><td>str</td><td>i64</td><td>i64</td><td>str</td><td>str</td><td>str</td><td>str</td><td>str</td><td>str</td><td>str</td><td>str</td><td>str</td><td>str</td><td>str</td><td>str</td><td>str</td><td>str</td><td>str</td><td>str</td><td>str</td><td>str</td><td>str</td><td>str</td><td>str</td><td>str</td><td>str</td><td>f64</td><td>f64</td><td>str</td></tr></thead><tbody><tr><td>26589651</td><td>&quot;10/31/2013 02:08:41 AM&quot;</td><td>null</td><td>&quot;NYPD&quot;</td><td>&quot;New York City Police Departmen…</td><td>&quot;Noise - Street/Sidewalk&quot;</td><td>&quot;Loud Talking&quot;</td><td>&quot;Street/Sidewalk&quot;</td><td>&quot;11432&quot;</td><td>&quot;90-03 169 STREET&quot;</td><td>&quot;169 STREET&quot;</td><td>&quot;90 AVENUE&quot;</td><td>&quot;91 AVENUE&quot;</td><td>null</td><td>null</td><td>&quot;ADDRESS&quot;</td><td>&quot;JAMAICA&quot;</td><td>null</td><td>&quot;Precinct&quot;</td><td>&quot;Assigned&quot;</td><td>&quot;10/31/2013 10:08:41 AM&quot;</td><td>&quot;10/31/2013 02:35:17 AM&quot;</td><td>&quot;12 QUEENS&quot;</td><td>&quot;QUEENS&quot;</td><td>1042027</td><td>197389</td><td>&quot;Unspecified&quot;</td><td>&quot;QUEENS&quot;</td><td>&quot;Unspecified&quot;</td><td>&quot;Unspecified&quot;</td><td>&quot;Unspecified&quot;</td><td>&quot;Unspecified&quot;</td><td>&quot;Unspecified&quot;</td><td>&quot;Unspecified&quot;</td><td>&quot;Unspecified&quot;</td><td>&quot;Unspecified&quot;</td><td>&quot;Unspecified&quot;</td><td>&quot;N&quot;</td><td>null</td><td>null</td><td>null</td><td>null</td><td>null</td><td>null</td><td>null</td><td>null</td><td>null</td><td>null</td><td>null</td><td>40.708275</td><td>-73.791604</td><td>&quot;(40.70827532593202, -73.791603…</td></tr><tr><td>26593698</td><td>&quot;10/31/2013 02:01:04 AM&quot;</td><td>null</td><td>&quot;NYPD&quot;</td><td>&quot;New York City Police Departmen…</td><td>&quot;Illegal Parking&quot;</td><td>&quot;Commercial Overnight Parking&quot;</td><td>&quot;Street/Sidewalk&quot;</td><td>&quot;11378&quot;</td><td>&quot;58 AVENUE&quot;</td><td>&quot;58 AVENUE&quot;</td><td>&quot;58 PLACE&quot;</td><td>&quot;59 STREET&quot;</td><td>null</td><td>null</td><td>&quot;BLOCKFACE&quot;</td><td>&quot;MASPETH&quot;</td><td>null</td><td>&quot;Precinct&quot;</td><td>&quot;Open&quot;</td><td>&quot;10/31/2013 10:01:04 AM&quot;</td><td>null</td><td>&quot;05 QUEENS&quot;</td><td>&quot;QUEENS&quot;</td><td>1009349</td><td>201984</td><td>&quot;Unspecified&quot;</td><td>&quot;QUEENS&quot;</td><td>&quot;Unspecified&quot;</td><td>&quot;Unspecified&quot;</td><td>&quot;Unspecified&quot;</td><td>&quot;Unspecified&quot;</td><td>&quot;Unspecified&quot;</td><td>&quot;Unspecified&quot;</td><td>&quot;Unspecified&quot;</td><td>&quot;Unspecified&quot;</td><td>&quot;Unspecified&quot;</td><td>&quot;N&quot;</td><td>null</td><td>null</td><td>null</td><td>null</td><td>null</td><td>null</td><td>null</td><td>null</td><td>null</td><td>null</td><td>null</td><td>40.721041</td><td>-73.909453</td><td>&quot;(40.721040535628305, -73.90945…</td></tr><tr><td>26594139</td><td>&quot;10/31/2013 02:00:24 AM&quot;</td><td>&quot;10/31/2013 02:40:32 AM&quot;</td><td>&quot;NYPD&quot;</td><td>&quot;New York City Police Departmen…</td><td>&quot;Noise - Commercial&quot;</td><td>&quot;Loud Music/Party&quot;</td><td>&quot;Club/Bar/Restaurant&quot;</td><td>&quot;10032&quot;</td><td>&quot;4060 BROADWAY&quot;</td><td>&quot;BROADWAY&quot;</td><td>&quot;WEST 171 STREET&quot;</td><td>&quot;WEST 172 STREET&quot;</td><td>null</td><td>null</td><td>&quot;ADDRESS&quot;</td><td>&quot;NEW YORK&quot;</td><td>null</td><td>&quot;Precinct&quot;</td><td>&quot;Closed&quot;</td><td>&quot;10/31/2013 10:00:24 AM&quot;</td><td>&quot;10/31/2013 02:39:42 AM&quot;</td><td>&quot;12 MANHATTAN&quot;</td><td>&quot;MANHATTAN&quot;</td><td>1001088</td><td>246531</td><td>&quot;Unspecified&quot;</td><td>&quot;MANHATTAN&quot;</td><td>&quot;Unspecified&quot;</td><td>&quot;Unspecified&quot;</td><td>&quot;Unspecified&quot;</td><td>&quot;Unspecified&quot;</td><td>&quot;Unspecified&quot;</td><td>&quot;Unspecified&quot;</td><td>&quot;Unspecified&quot;</td><td>&quot;Unspecified&quot;</td><td>&quot;Unspecified&quot;</td><td>&quot;N&quot;</td><td>null</td><td>null</td><td>null</td><td>null</td><td>null</td><td>null</td><td>null</td><td>null</td><td>null</td><td>null</td><td>null</td><td>40.84333</td><td>-73.939144</td><td>&quot;(40.84332975466513, -73.939143…</td></tr><tr><td>26595721</td><td>&quot;10/31/2013 01:56:23 AM&quot;</td><td>&quot;10/31/2013 02:21:48 AM&quot;</td><td>&quot;NYPD&quot;</td><td>&quot;New York City Police Departmen…</td><td>&quot;Noise - Vehicle&quot;</td><td>&quot;Car/Truck Horn&quot;</td><td>&quot;Street/Sidewalk&quot;</td><td>&quot;10023&quot;</td><td>&quot;WEST 72 STREET&quot;</td><td>&quot;WEST 72 STREET&quot;</td><td>&quot;COLUMBUS AVENUE&quot;</td><td>&quot;AMSTERDAM AVENUE&quot;</td><td>null</td><td>null</td><td>&quot;BLOCKFACE&quot;</td><td>&quot;NEW YORK&quot;</td><td>null</td><td>&quot;Precinct&quot;</td><td>&quot;Closed&quot;</td><td>&quot;10/31/2013 09:56:23 AM&quot;</td><td>&quot;10/31/2013 02:21:10 AM&quot;</td><td>&quot;07 MANHATTAN&quot;</td><td>&quot;MANHATTAN&quot;</td><td>989730</td><td>222727</td><td>&quot;Unspecified&quot;</td><td>&quot;MANHATTAN&quot;</td><td>&quot;Unspecified&quot;</td><td>&quot;Unspecified&quot;</td><td>&quot;Unspecified&quot;</td><td>&quot;Unspecified&quot;</td><td>&quot;Unspecified&quot;</td><td>&quot;Unspecified&quot;</td><td>&quot;Unspecified&quot;</td><td>&quot;Unspecified&quot;</td><td>&quot;Unspecified&quot;</td><td>&quot;N&quot;</td><td>null</td><td>null</td><td>null</td><td>null</td><td>null</td><td>null</td><td>null</td><td>null</td><td>null</td><td>null</td><td>null</td><td>40.778009</td><td>-73.980213</td><td>&quot;(40.7780087446372, -73.9802134…</td></tr><tr><td>26590930</td><td>&quot;10/31/2013 01:53:44 AM&quot;</td><td>null</td><td>&quot;DOHMH&quot;</td><td>&quot;Department of Health and Menta…</td><td>&quot;Rodent&quot;</td><td>&quot;Condition Attracting Rodents&quot;</td><td>&quot;Vacant Lot&quot;</td><td>&quot;10027&quot;</td><td>&quot;WEST 124 STREET&quot;</td><td>&quot;WEST 124 STREET&quot;</td><td>&quot;LENOX AVENUE&quot;</td><td>&quot;ADAM CLAYTON POWELL JR BOULEVA…</td><td>null</td><td>null</td><td>&quot;BLOCKFACE&quot;</td><td>&quot;NEW YORK&quot;</td><td>null</td><td>&quot;N/A&quot;</td><td>&quot;Pending&quot;</td><td>&quot;11/30/2013 01:53:44 AM&quot;</td><td>&quot;10/31/2013 01:59:54 AM&quot;</td><td>&quot;10 MANHATTAN&quot;</td><td>&quot;MANHATTAN&quot;</td><td>998815</td><td>233545</td><td>&quot;Unspecified&quot;</td><td>&quot;MANHATTAN&quot;</td><td>&quot;Unspecified&quot;</td><td>&quot;Unspecified&quot;</td><td>&quot;Unspecified&quot;</td><td>&quot;Unspecified&quot;</td><td>&quot;Unspecified&quot;</td><td>&quot;Unspecified&quot;</td><td>&quot;Unspecified&quot;</td><td>&quot;Unspecified&quot;</td><td>&quot;Unspecified&quot;</td><td>&quot;N&quot;</td><td>null</td><td>null</td><td>null</td><td>null</td><td>null</td><td>null</td><td>null</td><td>null</td><td>null</td><td>null</td><td>null</td><td>40.807691</td><td>-73.947387</td><td>&quot;(40.80769092704951, -73.947387…</td></tr></tbody></table></div>"
      ],
      "text/plain": [
       "shape: (5, 52)\n",
       "┌────────────┬────────────┬───────────┬────────┬───┬───────────┬───────────┬───────────┬───────────┐\n",
       "│ Unique Key ┆ Created    ┆ Closed    ┆ Agency ┆ … ┆ Ferry     ┆ Latitude  ┆ Longitude ┆ Location  │\n",
       "│ ---        ┆ Date       ┆ Date      ┆ ---    ┆   ┆ Terminal  ┆ ---       ┆ ---       ┆ ---       │\n",
       "│ i64        ┆ ---        ┆ ---       ┆ str    ┆   ┆ Name      ┆ f64       ┆ f64       ┆ str       │\n",
       "│            ┆ str        ┆ str       ┆        ┆   ┆ ---       ┆           ┆           ┆           │\n",
       "│            ┆            ┆           ┆        ┆   ┆ str       ┆           ┆           ┆           │\n",
       "╞════════════╪════════════╪═══════════╪════════╪═══╪═══════════╪═══════════╪═══════════╪═══════════╡\n",
       "│ 26589651   ┆ 10/31/2013 ┆ null      ┆ NYPD   ┆ … ┆ null      ┆ 40.708275 ┆ -73.79160 ┆ (40.70827 │\n",
       "│            ┆ 02:08:41   ┆           ┆        ┆   ┆           ┆           ┆ 4         ┆ 532593202 │\n",
       "│            ┆ AM         ┆           ┆        ┆   ┆           ┆           ┆           ┆ , -73.791 │\n",
       "│            ┆            ┆           ┆        ┆   ┆           ┆           ┆           ┆ 603…      │\n",
       "│ 26593698   ┆ 10/31/2013 ┆ null      ┆ NYPD   ┆ … ┆ null      ┆ 40.721041 ┆ -73.90945 ┆ (40.72104 │\n",
       "│            ┆ 02:01:04   ┆           ┆        ┆   ┆           ┆           ┆ 3         ┆ 053562830 │\n",
       "│            ┆ AM         ┆           ┆        ┆   ┆           ┆           ┆           ┆ 5, -73.90 │\n",
       "│            ┆            ┆           ┆        ┆   ┆           ┆           ┆           ┆ 945…      │\n",
       "│ 26594139   ┆ 10/31/2013 ┆ 10/31/201 ┆ NYPD   ┆ … ┆ null      ┆ 40.84333  ┆ -73.93914 ┆ (40.84332 │\n",
       "│            ┆ 02:00:24   ┆ 3         ┆        ┆   ┆           ┆           ┆ 4         ┆ 975466513 │\n",
       "│            ┆ AM         ┆ 02:40:32  ┆        ┆   ┆           ┆           ┆           ┆ , -73.939 │\n",
       "│            ┆            ┆ AM        ┆        ┆   ┆           ┆           ┆           ┆ 143…      │\n",
       "│ 26595721   ┆ 10/31/2013 ┆ 10/31/201 ┆ NYPD   ┆ … ┆ null      ┆ 40.778009 ┆ -73.98021 ┆ (40.77800 │\n",
       "│            ┆ 01:56:23   ┆ 3         ┆        ┆   ┆           ┆           ┆ 3         ┆ 87446372, │\n",
       "│            ┆ AM         ┆ 02:21:48  ┆        ┆   ┆           ┆           ┆           ┆ -73.98021 │\n",
       "│            ┆            ┆ AM        ┆        ┆   ┆           ┆           ┆           ┆ 34…       │\n",
       "│ 26590930   ┆ 10/31/2013 ┆ null      ┆ DOHMH  ┆ … ┆ null      ┆ 40.807691 ┆ -73.94738 ┆ (40.80769 │\n",
       "│            ┆ 01:53:44   ┆           ┆        ┆   ┆           ┆           ┆ 7         ┆ 092704951 │\n",
       "│            ┆ AM         ┆           ┆        ┆   ┆           ┆           ┆           ┆ , -73.947 │\n",
       "│            ┆            ┆           ┆        ┆   ┆           ┆           ┆           ┆ 387…      │\n",
       "└────────────┴────────────┴───────────┴────────┴───┴───────────┴───────────┴───────────┴───────────┘"
      ]
     },
     "execution_count": 4,
     "metadata": {},
     "output_type": "execute_result"
    }
   ],
   "source": [
    "complaints.head()"
   ]
  },
  {
   "cell_type": "markdown",
   "metadata": {
    "id": "8Re0OauNp07N"
   },
   "source": [
    "To get the noise complaints, we need to find the rows where the \"Complaint Type\" column is \"Noise - Street/Sidewalk\". I'll show you how to do that, and then explain what's going on."
   ]
  },
  {
   "cell_type": "code",
   "execution_count": 5,
   "metadata": {
    "colab": {
     "base_uri": "https://localhost:8080/",
     "height": 368
    },
    "executionInfo": {
     "elapsed": 9,
     "status": "ok",
     "timestamp": 1730963725761,
     "user": {
      "displayName": "Daniele Grotti",
      "userId": "05993002232846155126"
     },
     "user_tz": -60
    },
    "id": "Veqy8keop07N",
    "outputId": "e35c4b8e-afac-4c94-f4ef-bda4dc6f1d9e"
   },
   "outputs": [
    {
     "data": {
      "text/html": [
       "<div><style>\n",
       ".dataframe > thead > tr,\n",
       ".dataframe > tbody > tr {\n",
       "  text-align: right;\n",
       "  white-space: pre-wrap;\n",
       "}\n",
       "</style>\n",
       "<small>shape: (3, 52)</small><table border=\"1\" class=\"dataframe\"><thead><tr><th>Unique Key</th><th>Created Date</th><th>Closed Date</th><th>Agency</th><th>Agency Name</th><th>Complaint Type</th><th>Descriptor</th><th>Location Type</th><th>Incident Zip</th><th>Incident Address</th><th>Street Name</th><th>Cross Street 1</th><th>Cross Street 2</th><th>Intersection Street 1</th><th>Intersection Street 2</th><th>Address Type</th><th>City</th><th>Landmark</th><th>Facility Type</th><th>Status</th><th>Due Date</th><th>Resolution Action Updated Date</th><th>Community Board</th><th>Borough</th><th>X Coordinate (State Plane)</th><th>Y Coordinate (State Plane)</th><th>Park Facility Name</th><th>Park Borough</th><th>School Name</th><th>School Number</th><th>School Region</th><th>School Code</th><th>School Phone Number</th><th>School Address</th><th>School City</th><th>School State</th><th>School Zip</th><th>School Not Found</th><th>School or Citywide Complaint</th><th>Vehicle Type</th><th>Taxi Company Borough</th><th>Taxi Pick Up Location</th><th>Bridge Highway Name</th><th>Bridge Highway Direction</th><th>Road Ramp</th><th>Bridge Highway Segment</th><th>Garage Lot Name</th><th>Ferry Direction</th><th>Ferry Terminal Name</th><th>Latitude</th><th>Longitude</th><th>Location</th></tr><tr><td>i64</td><td>str</td><td>str</td><td>str</td><td>str</td><td>str</td><td>str</td><td>str</td><td>str</td><td>str</td><td>str</td><td>str</td><td>str</td><td>str</td><td>str</td><td>str</td><td>str</td><td>str</td><td>str</td><td>str</td><td>str</td><td>str</td><td>str</td><td>str</td><td>i64</td><td>i64</td><td>str</td><td>str</td><td>str</td><td>str</td><td>str</td><td>str</td><td>str</td><td>str</td><td>str</td><td>str</td><td>str</td><td>str</td><td>str</td><td>str</td><td>str</td><td>str</td><td>str</td><td>str</td><td>str</td><td>str</td><td>str</td><td>str</td><td>str</td><td>f64</td><td>f64</td><td>str</td></tr></thead><tbody><tr><td>26589651</td><td>&quot;10/31/2013 02:08:41 AM&quot;</td><td>null</td><td>&quot;NYPD&quot;</td><td>&quot;New York City Police Departmen…</td><td>&quot;Noise - Street/Sidewalk&quot;</td><td>&quot;Loud Talking&quot;</td><td>&quot;Street/Sidewalk&quot;</td><td>&quot;11432&quot;</td><td>&quot;90-03 169 STREET&quot;</td><td>&quot;169 STREET&quot;</td><td>&quot;90 AVENUE&quot;</td><td>&quot;91 AVENUE&quot;</td><td>null</td><td>null</td><td>&quot;ADDRESS&quot;</td><td>&quot;JAMAICA&quot;</td><td>null</td><td>&quot;Precinct&quot;</td><td>&quot;Assigned&quot;</td><td>&quot;10/31/2013 10:08:41 AM&quot;</td><td>&quot;10/31/2013 02:35:17 AM&quot;</td><td>&quot;12 QUEENS&quot;</td><td>&quot;QUEENS&quot;</td><td>1042027</td><td>197389</td><td>&quot;Unspecified&quot;</td><td>&quot;QUEENS&quot;</td><td>&quot;Unspecified&quot;</td><td>&quot;Unspecified&quot;</td><td>&quot;Unspecified&quot;</td><td>&quot;Unspecified&quot;</td><td>&quot;Unspecified&quot;</td><td>&quot;Unspecified&quot;</td><td>&quot;Unspecified&quot;</td><td>&quot;Unspecified&quot;</td><td>&quot;Unspecified&quot;</td><td>&quot;N&quot;</td><td>null</td><td>null</td><td>null</td><td>null</td><td>null</td><td>null</td><td>null</td><td>null</td><td>null</td><td>null</td><td>null</td><td>40.708275</td><td>-73.791604</td><td>&quot;(40.70827532593202, -73.791603…</td></tr><tr><td>26594086</td><td>&quot;10/31/2013 12:54:03 AM&quot;</td><td>&quot;10/31/2013 02:16:39 AM&quot;</td><td>&quot;NYPD&quot;</td><td>&quot;New York City Police Departmen…</td><td>&quot;Noise - Street/Sidewalk&quot;</td><td>&quot;Loud Music/Party&quot;</td><td>&quot;Street/Sidewalk&quot;</td><td>&quot;10310&quot;</td><td>&quot;173 CAMPBELL AVENUE&quot;</td><td>&quot;CAMPBELL AVENUE&quot;</td><td>&quot;HENDERSON AVENUE&quot;</td><td>&quot;WINEGAR LANE&quot;</td><td>null</td><td>null</td><td>&quot;ADDRESS&quot;</td><td>&quot;STATEN ISLAND&quot;</td><td>null</td><td>&quot;Precinct&quot;</td><td>&quot;Closed&quot;</td><td>&quot;10/31/2013 08:54:03 AM&quot;</td><td>&quot;10/31/2013 02:07:14 AM&quot;</td><td>&quot;01 STATEN ISLAND&quot;</td><td>&quot;STATEN ISLAND&quot;</td><td>952013</td><td>171076</td><td>&quot;Unspecified&quot;</td><td>&quot;STATEN ISLAND&quot;</td><td>&quot;Unspecified&quot;</td><td>&quot;Unspecified&quot;</td><td>&quot;Unspecified&quot;</td><td>&quot;Unspecified&quot;</td><td>&quot;Unspecified&quot;</td><td>&quot;Unspecified&quot;</td><td>&quot;Unspecified&quot;</td><td>&quot;Unspecified&quot;</td><td>&quot;Unspecified&quot;</td><td>&quot;N&quot;</td><td>null</td><td>null</td><td>null</td><td>null</td><td>null</td><td>null</td><td>null</td><td>null</td><td>null</td><td>null</td><td>null</td><td>40.636182</td><td>-74.11615</td><td>&quot;(40.63618202176914, -74.116150…</td></tr><tr><td>26591573</td><td>&quot;10/31/2013 12:35:18 AM&quot;</td><td>&quot;10/31/2013 02:41:35 AM&quot;</td><td>&quot;NYPD&quot;</td><td>&quot;New York City Police Departmen…</td><td>&quot;Noise - Street/Sidewalk&quot;</td><td>&quot;Loud Talking&quot;</td><td>&quot;Street/Sidewalk&quot;</td><td>&quot;10312&quot;</td><td>&quot;24 PRINCETON LANE&quot;</td><td>&quot;PRINCETON LANE&quot;</td><td>&quot;HAMPTON GREEN&quot;</td><td>&quot;DEAD END&quot;</td><td>null</td><td>null</td><td>&quot;ADDRESS&quot;</td><td>&quot;STATEN ISLAND&quot;</td><td>null</td><td>&quot;Precinct&quot;</td><td>&quot;Closed&quot;</td><td>&quot;10/31/2013 08:35:18 AM&quot;</td><td>&quot;10/31/2013 01:45:17 AM&quot;</td><td>&quot;03 STATEN ISLAND&quot;</td><td>&quot;STATEN ISLAND&quot;</td><td>929577</td><td>140964</td><td>&quot;Unspecified&quot;</td><td>&quot;STATEN ISLAND&quot;</td><td>&quot;Unspecified&quot;</td><td>&quot;Unspecified&quot;</td><td>&quot;Unspecified&quot;</td><td>&quot;Unspecified&quot;</td><td>&quot;Unspecified&quot;</td><td>&quot;Unspecified&quot;</td><td>&quot;Unspecified&quot;</td><td>&quot;Unspecified&quot;</td><td>&quot;Unspecified&quot;</td><td>&quot;N&quot;</td><td>null</td><td>null</td><td>null</td><td>null</td><td>null</td><td>null</td><td>null</td><td>null</td><td>null</td><td>null</td><td>null</td><td>40.553421</td><td>-74.196743</td><td>&quot;(40.55342078716953, -74.196743…</td></tr></tbody></table></div>"
      ],
      "text/plain": [
       "shape: (3, 52)\n",
       "┌────────────┬────────────┬───────────┬────────┬───┬───────────┬───────────┬───────────┬───────────┐\n",
       "│ Unique Key ┆ Created    ┆ Closed    ┆ Agency ┆ … ┆ Ferry     ┆ Latitude  ┆ Longitude ┆ Location  │\n",
       "│ ---        ┆ Date       ┆ Date      ┆ ---    ┆   ┆ Terminal  ┆ ---       ┆ ---       ┆ ---       │\n",
       "│ i64        ┆ ---        ┆ ---       ┆ str    ┆   ┆ Name      ┆ f64       ┆ f64       ┆ str       │\n",
       "│            ┆ str        ┆ str       ┆        ┆   ┆ ---       ┆           ┆           ┆           │\n",
       "│            ┆            ┆           ┆        ┆   ┆ str       ┆           ┆           ┆           │\n",
       "╞════════════╪════════════╪═══════════╪════════╪═══╪═══════════╪═══════════╪═══════════╪═══════════╡\n",
       "│ 26589651   ┆ 10/31/2013 ┆ null      ┆ NYPD   ┆ … ┆ null      ┆ 40.708275 ┆ -73.79160 ┆ (40.70827 │\n",
       "│            ┆ 02:08:41   ┆           ┆        ┆   ┆           ┆           ┆ 4         ┆ 532593202 │\n",
       "│            ┆ AM         ┆           ┆        ┆   ┆           ┆           ┆           ┆ , -73.791 │\n",
       "│            ┆            ┆           ┆        ┆   ┆           ┆           ┆           ┆ 603…      │\n",
       "│ 26594086   ┆ 10/31/2013 ┆ 10/31/201 ┆ NYPD   ┆ … ┆ null      ┆ 40.636182 ┆ -74.11615 ┆ (40.63618 │\n",
       "│            ┆ 12:54:03   ┆ 3         ┆        ┆   ┆           ┆           ┆           ┆ 202176914 │\n",
       "│            ┆ AM         ┆ 02:16:39  ┆        ┆   ┆           ┆           ┆           ┆ , -74.116 │\n",
       "│            ┆            ┆ AM        ┆        ┆   ┆           ┆           ┆           ┆ 150…      │\n",
       "│ 26591573   ┆ 10/31/2013 ┆ 10/31/201 ┆ NYPD   ┆ … ┆ null      ┆ 40.553421 ┆ -74.19674 ┆ (40.55342 │\n",
       "│            ┆ 12:35:18   ┆ 3         ┆        ┆   ┆           ┆           ┆ 3         ┆ 078716953 │\n",
       "│            ┆ AM         ┆ 02:41:35  ┆        ┆   ┆           ┆           ┆           ┆ , -74.196 │\n",
       "│            ┆            ┆ AM        ┆        ┆   ┆           ┆           ┆           ┆ 743…      │\n",
       "└────────────┴────────────┴───────────┴────────┴───┴───────────┴───────────┴───────────┴───────────┘"
      ]
     },
     "execution_count": 5,
     "metadata": {},
     "output_type": "execute_result"
    }
   ],
   "source": [
    "noise_complaints = complaints.filter(pl.col('Complaint Type') == \"Noise - Street/Sidewalk\")\n",
    "noise_complaints.head(3)"
   ]
  },
  {
   "cell_type": "markdown",
   "metadata": {
    "id": "kYq-XAT4p07O"
   },
   "source": [
    "If you look at `noise_complaints`, you'll see that this worked, and it only contains complaints with the right complaint type. But how does this work? Let's deconstruct it into two pieces"
   ]
  },
  {
   "cell_type": "code",
   "execution_count": 6,
   "metadata": {
    "colab": {
     "base_uri": "https://localhost:8080/",
     "height": 34
    },
    "executionInfo": {
     "elapsed": 7,
     "status": "ok",
     "timestamp": 1730963727244,
     "user": {
      "displayName": "Daniele Grotti",
      "userId": "05993002232846155126"
     },
     "user_tz": -60
    },
    "id": "S9jq5hycp07O",
    "outputId": "7a08cd24-a6e5-485e-a539-6ddb707f4c29"
   },
   "outputs": [
    {
     "data": {
      "text/html": [
       "[(col(\"Complaint Type\")) == (String(Noise - Street/Sidewalk))]"
      ],
      "text/plain": [
       "<Expr ['[(col(\"Complaint Type\")) == (S…'] at 0x28AD923D0D0>"
      ]
     },
     "execution_count": 6,
     "metadata": {},
     "output_type": "execute_result"
    }
   ],
   "source": [
    "pl.col('Complaint Type') == \"Noise - Street/Sidewalk\""
   ]
  },
  {
   "cell_type": "markdown",
   "metadata": {
    "id": "sQcUWeifp07O"
   },
   "source": [
    "This is a polars expression, which represents a transformation of Series. In this case, this expression represents a mapping from 'Complaint Type' Series (a str) to a boolean Series based on the predecate. The \"filter\" function will take in any expression which evaluates to a boolean Series.\n",
    "\n",
    "You can also store and combine more than one expression with the `&` operator like this:"
   ]
  },
  {
   "cell_type": "code",
   "execution_count": 7,
   "metadata": {
    "colab": {
     "base_uri": "https://localhost:8080/",
     "height": 500
    },
    "executionInfo": {
     "elapsed": 8,
     "status": "ok",
     "timestamp": 1730963785808,
     "user": {
      "displayName": "Daniele Grotti",
      "userId": "05993002232846155126"
     },
     "user_tz": -60
    },
    "id": "DfkIpyo2p07P",
    "outputId": "b9c65a1f-49c5-4ad0-a986-7bd373819e8e"
   },
   "outputs": [
    {
     "data": {
      "text/html": [
       "<div><style>\n",
       ".dataframe > thead > tr,\n",
       ".dataframe > tbody > tr {\n",
       "  text-align: right;\n",
       "  white-space: pre-wrap;\n",
       "}\n",
       "</style>\n",
       "<small>shape: (5, 52)</small><table border=\"1\" class=\"dataframe\"><thead><tr><th>Unique Key</th><th>Created Date</th><th>Closed Date</th><th>Agency</th><th>Agency Name</th><th>Complaint Type</th><th>Descriptor</th><th>Location Type</th><th>Incident Zip</th><th>Incident Address</th><th>Street Name</th><th>Cross Street 1</th><th>Cross Street 2</th><th>Intersection Street 1</th><th>Intersection Street 2</th><th>Address Type</th><th>City</th><th>Landmark</th><th>Facility Type</th><th>Status</th><th>Due Date</th><th>Resolution Action Updated Date</th><th>Community Board</th><th>Borough</th><th>X Coordinate (State Plane)</th><th>Y Coordinate (State Plane)</th><th>Park Facility Name</th><th>Park Borough</th><th>School Name</th><th>School Number</th><th>School Region</th><th>School Code</th><th>School Phone Number</th><th>School Address</th><th>School City</th><th>School State</th><th>School Zip</th><th>School Not Found</th><th>School or Citywide Complaint</th><th>Vehicle Type</th><th>Taxi Company Borough</th><th>Taxi Pick Up Location</th><th>Bridge Highway Name</th><th>Bridge Highway Direction</th><th>Road Ramp</th><th>Bridge Highway Segment</th><th>Garage Lot Name</th><th>Ferry Direction</th><th>Ferry Terminal Name</th><th>Latitude</th><th>Longitude</th><th>Location</th></tr><tr><td>i64</td><td>str</td><td>str</td><td>str</td><td>str</td><td>str</td><td>str</td><td>str</td><td>str</td><td>str</td><td>str</td><td>str</td><td>str</td><td>str</td><td>str</td><td>str</td><td>str</td><td>str</td><td>str</td><td>str</td><td>str</td><td>str</td><td>str</td><td>str</td><td>i64</td><td>i64</td><td>str</td><td>str</td><td>str</td><td>str</td><td>str</td><td>str</td><td>str</td><td>str</td><td>str</td><td>str</td><td>str</td><td>str</td><td>str</td><td>str</td><td>str</td><td>str</td><td>str</td><td>str</td><td>str</td><td>str</td><td>str</td><td>str</td><td>str</td><td>f64</td><td>f64</td><td>str</td></tr></thead><tbody><tr><td>26595564</td><td>&quot;10/31/2013 12:30:36 AM&quot;</td><td>null</td><td>&quot;NYPD&quot;</td><td>&quot;New York City Police Departmen…</td><td>&quot;Noise - Street/Sidewalk&quot;</td><td>&quot;Loud Music/Party&quot;</td><td>&quot;Street/Sidewalk&quot;</td><td>&quot;11236&quot;</td><td>&quot;AVENUE J&quot;</td><td>&quot;AVENUE J&quot;</td><td>&quot;EAST 80 STREET&quot;</td><td>&quot;EAST 81 STREET&quot;</td><td>null</td><td>null</td><td>&quot;BLOCKFACE&quot;</td><td>&quot;BROOKLYN&quot;</td><td>null</td><td>&quot;Precinct&quot;</td><td>&quot;Open&quot;</td><td>&quot;10/31/2013 08:30:36 AM&quot;</td><td>null</td><td>&quot;18 BROOKLYN&quot;</td><td>&quot;BROOKLYN&quot;</td><td>1008937</td><td>170310</td><td>&quot;Unspecified&quot;</td><td>&quot;BROOKLYN&quot;</td><td>&quot;Unspecified&quot;</td><td>&quot;Unspecified&quot;</td><td>&quot;Unspecified&quot;</td><td>&quot;Unspecified&quot;</td><td>&quot;Unspecified&quot;</td><td>&quot;Unspecified&quot;</td><td>&quot;Unspecified&quot;</td><td>&quot;Unspecified&quot;</td><td>&quot;Unspecified&quot;</td><td>&quot;N&quot;</td><td>null</td><td>null</td><td>null</td><td>null</td><td>null</td><td>null</td><td>null</td><td>null</td><td>null</td><td>null</td><td>null</td><td>40.634104</td><td>-73.911055</td><td>&quot;(40.634103775951736, -73.91105…</td></tr><tr><td>26595553</td><td>&quot;10/31/2013 12:05:10 AM&quot;</td><td>&quot;10/31/2013 02:43:43 AM&quot;</td><td>&quot;NYPD&quot;</td><td>&quot;New York City Police Departmen…</td><td>&quot;Noise - Street/Sidewalk&quot;</td><td>&quot;Loud Talking&quot;</td><td>&quot;Street/Sidewalk&quot;</td><td>&quot;11225&quot;</td><td>&quot;25 LEFFERTS AVENUE&quot;</td><td>&quot;LEFFERTS AVENUE&quot;</td><td>&quot;WASHINGTON AVENUE&quot;</td><td>&quot;BEDFORD AVENUE&quot;</td><td>null</td><td>null</td><td>&quot;ADDRESS&quot;</td><td>&quot;BROOKLYN&quot;</td><td>null</td><td>&quot;Precinct&quot;</td><td>&quot;Closed&quot;</td><td>&quot;10/31/2013 08:05:10 AM&quot;</td><td>&quot;10/31/2013 01:29:29 AM&quot;</td><td>&quot;09 BROOKLYN&quot;</td><td>&quot;BROOKLYN&quot;</td><td>995366</td><td>180388</td><td>&quot;Unspecified&quot;</td><td>&quot;BROOKLYN&quot;</td><td>&quot;Unspecified&quot;</td><td>&quot;Unspecified&quot;</td><td>&quot;Unspecified&quot;</td><td>&quot;Unspecified&quot;</td><td>&quot;Unspecified&quot;</td><td>&quot;Unspecified&quot;</td><td>&quot;Unspecified&quot;</td><td>&quot;Unspecified&quot;</td><td>&quot;Unspecified&quot;</td><td>&quot;N&quot;</td><td>null</td><td>null</td><td>null</td><td>null</td><td>null</td><td>null</td><td>null</td><td>null</td><td>null</td><td>null</td><td>null</td><td>40.661793</td><td>-73.959934</td><td>&quot;(40.6617931276793, -73.9599336…</td></tr><tr><td>26594653</td><td>&quot;10/30/2013 11:26:32 PM&quot;</td><td>&quot;10/31/2013 12:18:54 AM&quot;</td><td>&quot;NYPD&quot;</td><td>&quot;New York City Police Departmen…</td><td>&quot;Noise - Street/Sidewalk&quot;</td><td>&quot;Loud Music/Party&quot;</td><td>&quot;Street/Sidewalk&quot;</td><td>&quot;11222&quot;</td><td>null</td><td>null</td><td>null</td><td>null</td><td>&quot;DOBBIN STREET&quot;</td><td>&quot;NORMAN STREET&quot;</td><td>&quot;INTERSECTION&quot;</td><td>&quot;BROOKLYN&quot;</td><td>null</td><td>&quot;Precinct&quot;</td><td>&quot;Closed&quot;</td><td>&quot;10/31/2013 07:26:32 AM&quot;</td><td>&quot;10/31/2013 12:18:54 AM&quot;</td><td>&quot;01 BROOKLYN&quot;</td><td>&quot;BROOKLYN&quot;</td><td>996925</td><td>203271</td><td>&quot;Unspecified&quot;</td><td>&quot;BROOKLYN&quot;</td><td>&quot;Unspecified&quot;</td><td>&quot;Unspecified&quot;</td><td>&quot;Unspecified&quot;</td><td>&quot;Unspecified&quot;</td><td>&quot;Unspecified&quot;</td><td>&quot;Unspecified&quot;</td><td>&quot;Unspecified&quot;</td><td>&quot;Unspecified&quot;</td><td>&quot;Unspecified&quot;</td><td>&quot;N&quot;</td><td>null</td><td>null</td><td>null</td><td>null</td><td>null</td><td>null</td><td>null</td><td>null</td><td>null</td><td>null</td><td>null</td><td>40.7246</td><td>-73.954271</td><td>&quot;(40.724599563793525, -73.95427…</td></tr><tr><td>26591992</td><td>&quot;10/30/2013 10:02:58 PM&quot;</td><td>&quot;10/30/2013 10:23:20 PM&quot;</td><td>&quot;NYPD&quot;</td><td>&quot;New York City Police Departmen…</td><td>&quot;Noise - Street/Sidewalk&quot;</td><td>&quot;Loud Talking&quot;</td><td>&quot;Street/Sidewalk&quot;</td><td>&quot;11218&quot;</td><td>&quot;DITMAS AVENUE&quot;</td><td>&quot;DITMAS AVENUE&quot;</td><td>null</td><td>null</td><td>null</td><td>null</td><td>&quot;LATLONG&quot;</td><td>&quot;BROOKLYN&quot;</td><td>null</td><td>&quot;Precinct&quot;</td><td>&quot;Closed&quot;</td><td>&quot;10/31/2013 06:02:58 AM&quot;</td><td>&quot;10/30/2013 10:23:20 PM&quot;</td><td>&quot;01 BROOKLYN&quot;</td><td>&quot;BROOKLYN&quot;</td><td>991895</td><td>171051</td><td>&quot;Unspecified&quot;</td><td>&quot;BROOKLYN&quot;</td><td>&quot;Unspecified&quot;</td><td>&quot;Unspecified&quot;</td><td>&quot;Unspecified&quot;</td><td>&quot;Unspecified&quot;</td><td>&quot;Unspecified&quot;</td><td>&quot;Unspecified&quot;</td><td>&quot;Unspecified&quot;</td><td>&quot;Unspecified&quot;</td><td>&quot;Unspecified&quot;</td><td>&quot;N&quot;</td><td>null</td><td>null</td><td>null</td><td>null</td><td>null</td><td>null</td><td>null</td><td>null</td><td>null</td><td>null</td><td>null</td><td>40.636169</td><td>-73.972455</td><td>&quot;(40.63616876563881, -73.972455…</td></tr><tr><td>26594167</td><td>&quot;10/30/2013 08:38:25 PM&quot;</td><td>&quot;10/30/2013 10:26:28 PM&quot;</td><td>&quot;NYPD&quot;</td><td>&quot;New York City Police Departmen…</td><td>&quot;Noise - Street/Sidewalk&quot;</td><td>&quot;Loud Music/Party&quot;</td><td>&quot;Street/Sidewalk&quot;</td><td>&quot;11218&quot;</td><td>&quot;126 BEVERLY ROAD&quot;</td><td>&quot;BEVERLY ROAD&quot;</td><td>&quot;CHURCH AVENUE&quot;</td><td>&quot;EAST 2 STREET&quot;</td><td>null</td><td>null</td><td>&quot;ADDRESS&quot;</td><td>&quot;BROOKLYN&quot;</td><td>null</td><td>&quot;Precinct&quot;</td><td>&quot;Closed&quot;</td><td>&quot;10/31/2013 04:38:25 AM&quot;</td><td>&quot;10/30/2013 10:26:28 PM&quot;</td><td>&quot;12 BROOKLYN&quot;</td><td>&quot;BROOKLYN&quot;</td><td>990144</td><td>173511</td><td>&quot;Unspecified&quot;</td><td>&quot;BROOKLYN&quot;</td><td>&quot;Unspecified&quot;</td><td>&quot;Unspecified&quot;</td><td>&quot;Unspecified&quot;</td><td>&quot;Unspecified&quot;</td><td>&quot;Unspecified&quot;</td><td>&quot;Unspecified&quot;</td><td>&quot;Unspecified&quot;</td><td>&quot;Unspecified&quot;</td><td>&quot;Unspecified&quot;</td><td>&quot;N&quot;</td><td>null</td><td>null</td><td>null</td><td>null</td><td>null</td><td>null</td><td>null</td><td>null</td><td>null</td><td>null</td><td>null</td><td>40.642922</td><td>-73.978762</td><td>&quot;(40.6429222774404, -73.9787617…</td></tr></tbody></table></div>"
      ],
      "text/plain": [
       "shape: (5, 52)\n",
       "┌────────────┬────────────┬───────────┬────────┬───┬───────────┬───────────┬───────────┬───────────┐\n",
       "│ Unique Key ┆ Created    ┆ Closed    ┆ Agency ┆ … ┆ Ferry     ┆ Latitude  ┆ Longitude ┆ Location  │\n",
       "│ ---        ┆ Date       ┆ Date      ┆ ---    ┆   ┆ Terminal  ┆ ---       ┆ ---       ┆ ---       │\n",
       "│ i64        ┆ ---        ┆ ---       ┆ str    ┆   ┆ Name      ┆ f64       ┆ f64       ┆ str       │\n",
       "│            ┆ str        ┆ str       ┆        ┆   ┆ ---       ┆           ┆           ┆           │\n",
       "│            ┆            ┆           ┆        ┆   ┆ str       ┆           ┆           ┆           │\n",
       "╞════════════╪════════════╪═══════════╪════════╪═══╪═══════════╪═══════════╪═══════════╪═══════════╡\n",
       "│ 26595564   ┆ 10/31/2013 ┆ null      ┆ NYPD   ┆ … ┆ null      ┆ 40.634104 ┆ -73.91105 ┆ (40.63410 │\n",
       "│            ┆ 12:30:36   ┆           ┆        ┆   ┆           ┆           ┆ 5         ┆ 377595173 │\n",
       "│            ┆ AM         ┆           ┆        ┆   ┆           ┆           ┆           ┆ 6, -73.91 │\n",
       "│            ┆            ┆           ┆        ┆   ┆           ┆           ┆           ┆ 105…      │\n",
       "│ 26595553   ┆ 10/31/2013 ┆ 10/31/201 ┆ NYPD   ┆ … ┆ null      ┆ 40.661793 ┆ -73.95993 ┆ (40.66179 │\n",
       "│            ┆ 12:05:10   ┆ 3         ┆        ┆   ┆           ┆           ┆ 4         ┆ 31276793, │\n",
       "│            ┆ AM         ┆ 02:43:43  ┆        ┆   ┆           ┆           ┆           ┆ -73.95993 │\n",
       "│            ┆            ┆ AM        ┆        ┆   ┆           ┆           ┆           ┆ 36…       │\n",
       "│ 26594653   ┆ 10/30/2013 ┆ 10/31/201 ┆ NYPD   ┆ … ┆ null      ┆ 40.7246   ┆ -73.95427 ┆ (40.72459 │\n",
       "│            ┆ 11:26:32   ┆ 3         ┆        ┆   ┆           ┆           ┆ 1         ┆ 956379352 │\n",
       "│            ┆ PM         ┆ 12:18:54  ┆        ┆   ┆           ┆           ┆           ┆ 5, -73.95 │\n",
       "│            ┆            ┆ AM        ┆        ┆   ┆           ┆           ┆           ┆ 427…      │\n",
       "│ 26591992   ┆ 10/30/2013 ┆ 10/30/201 ┆ NYPD   ┆ … ┆ null      ┆ 40.636169 ┆ -73.97245 ┆ (40.63616 │\n",
       "│            ┆ 10:02:58   ┆ 3         ┆        ┆   ┆           ┆           ┆ 5         ┆ 876563881 │\n",
       "│            ┆ PM         ┆ 10:23:20  ┆        ┆   ┆           ┆           ┆           ┆ , -73.972 │\n",
       "│            ┆            ┆ PM        ┆        ┆   ┆           ┆           ┆           ┆ 455…      │\n",
       "│ 26594167   ┆ 10/30/2013 ┆ 10/30/201 ┆ NYPD   ┆ … ┆ null      ┆ 40.642922 ┆ -73.97876 ┆ (40.64292 │\n",
       "│            ┆ 08:38:25   ┆ 3         ┆        ┆   ┆           ┆           ┆ 2         ┆ 22774404, │\n",
       "│            ┆ PM         ┆ 10:26:28  ┆        ┆   ┆           ┆           ┆           ┆ -73.97876 │\n",
       "│            ┆            ┆ PM        ┆        ┆   ┆           ┆           ┆           ┆ 17…       │\n",
       "└────────────┴────────────┴───────────┴────────┴───┴───────────┴───────────┴───────────┴───────────┘"
      ]
     },
     "execution_count": 7,
     "metadata": {},
     "output_type": "execute_result"
    }
   ],
   "source": [
    "is_noise_mask = pl.col('Complaint Type') == \"Noise - Street/Sidewalk\"\n",
    "in_brooklyn_mask = pl.col('Borough') == \"BROOKLYN\"\n",
    "complaints.filter(is_noise_mask & in_brooklyn_mask).head()"
   ]
  },
  {
   "cell_type": "markdown",
   "metadata": {
    "id": "3XuDm3Gnp07P"
   },
   "source": [
    "Or if we just wanted a few columns:"
   ]
  },
  {
   "cell_type": "code",
   "execution_count": 10,
   "metadata": {
    "colab": {
     "base_uri": "https://localhost:8080/",
     "height": 411
    },
    "executionInfo": {
     "elapsed": 417,
     "status": "ok",
     "timestamp": 1730963730861,
     "user": {
      "displayName": "Daniele Grotti",
      "userId": "05993002232846155126"
     },
     "user_tz": -60
    },
    "id": "jjYp7w4up07P",
    "outputId": "0a9ebd5f-be58-4439-8336-bbec1b09d9ec"
   },
   "outputs": [],
   "source": [
    "#complaints.filter(is_noise & in_brooklyn)[['Complaint Type', 'Borough', 'Created Date', 'Descriptor']].head(10)"
   ]
  },
  {
   "cell_type": "markdown",
   "metadata": {
    "id": "_TkphZxOp07P"
   },
   "source": [
    "# 3.2 So, which borough has the most noise complaints?"
   ]
  },
  {
   "cell_type": "code",
   "execution_count": 11,
   "metadata": {
    "colab": {
     "base_uri": "https://localhost:8080/",
     "height": 286
    },
    "executionInfo": {
     "elapsed": 6,
     "status": "ok",
     "timestamp": 1730963732621,
     "user": {
      "displayName": "Daniele Grotti",
      "userId": "05993002232846155126"
     },
     "user_tz": -60
    },
    "id": "3-q7qcSEp07Q",
    "outputId": "03917497-70e6-49c9-83dc-c1556d16b4aa"
   },
   "outputs": [
    {
     "data": {
      "text/html": [
       "<div><style>\n",
       ".dataframe > thead > tr,\n",
       ".dataframe > tbody > tr {\n",
       "  text-align: right;\n",
       "  white-space: pre-wrap;\n",
       "}\n",
       "</style>\n",
       "<small>shape: (6, 2)</small><table border=\"1\" class=\"dataframe\"><thead><tr><th>Borough</th><th>count</th></tr><tr><td>str</td><td>u32</td></tr></thead><tbody><tr><td>&quot;MANHATTAN&quot;</td><td>917</td></tr><tr><td>&quot;BROOKLYN&quot;</td><td>456</td></tr><tr><td>&quot;BRONX&quot;</td><td>292</td></tr><tr><td>&quot;QUEENS&quot;</td><td>226</td></tr><tr><td>&quot;STATEN ISLAND&quot;</td><td>36</td></tr><tr><td>&quot;Unspecified&quot;</td><td>1</td></tr></tbody></table></div>"
      ],
      "text/plain": [
       "shape: (6, 2)\n",
       "┌───────────────┬───────┐\n",
       "│ Borough       ┆ count │\n",
       "│ ---           ┆ ---   │\n",
       "│ str           ┆ u32   │\n",
       "╞═══════════════╪═══════╡\n",
       "│ MANHATTAN     ┆ 917   │\n",
       "│ BROOKLYN      ┆ 456   │\n",
       "│ BRONX         ┆ 292   │\n",
       "│ QUEENS        ┆ 226   │\n",
       "│ STATEN ISLAND ┆ 36    │\n",
       "│ Unspecified   ┆ 1     │\n",
       "└───────────────┴───────┘"
      ]
     },
     "execution_count": 11,
     "metadata": {},
     "output_type": "execute_result"
    }
   ],
   "source": [
    "noise_complaints = complaints.filter(pl.col('Complaint Type') == \"Noise - Street/Sidewalk\")\n",
    "noise_complaints['Borough'].value_counts(sort=True)"
   ]
  },
  {
   "cell_type": "markdown",
   "metadata": {
    "id": "Zcs7DykWp07Q"
   },
   "source": [
    "It's Manhattan! But Manhattan probably has a lot of complaints in total. Maybe it's better to get the percentage of all complaints that are noise complaints? That would be easy too with the `groupby` method:"
   ]
  },
  {
   "cell_type": "code",
   "execution_count": 12,
   "metadata": {
    "colab": {
     "base_uri": "https://localhost:8080/",
     "height": 286
    },
    "executionInfo": {
     "elapsed": 488,
     "status": "ok",
     "timestamp": 1730963738394,
     "user": {
      "displayName": "Daniele Grotti",
      "userId": "05993002232846155126"
     },
     "user_tz": -60
    },
    "id": "RHMTN0EJp07Q",
    "outputId": "920fd8f6-732c-4271-ed74-09f1d0855815"
   },
   "outputs": [
    {
     "data": {
      "text/html": [
       "<div><style>\n",
       ".dataframe > thead > tr,\n",
       ".dataframe > tbody > tr {\n",
       "  text-align: right;\n",
       "  white-space: pre-wrap;\n",
       "}\n",
       "</style>\n",
       "<small>shape: (6, 2)</small><table border=\"1\" class=\"dataframe\"><thead><tr><th>Borough</th><th>noise_complaint_avg</th></tr><tr><td>str</td><td>u32</td></tr></thead><tbody><tr><td>&quot;MANHATTAN&quot;</td><td>917</td></tr><tr><td>&quot;BROOKLYN&quot;</td><td>456</td></tr><tr><td>&quot;BRONX&quot;</td><td>292</td></tr><tr><td>&quot;QUEENS&quot;</td><td>226</td></tr><tr><td>&quot;STATEN ISLAND&quot;</td><td>36</td></tr><tr><td>&quot;Unspecified&quot;</td><td>1</td></tr></tbody></table></div>"
      ],
      "text/plain": [
       "shape: (6, 2)\n",
       "┌───────────────┬─────────────────────┐\n",
       "│ Borough       ┆ noise_complaint_avg │\n",
       "│ ---           ┆ ---                 │\n",
       "│ str           ┆ u32                 │\n",
       "╞═══════════════╪═════════════════════╡\n",
       "│ MANHATTAN     ┆ 917                 │\n",
       "│ BROOKLYN      ┆ 456                 │\n",
       "│ BRONX         ┆ 292                 │\n",
       "│ QUEENS        ┆ 226                 │\n",
       "│ STATEN ISLAND ┆ 36                  │\n",
       "│ Unspecified   ┆ 1                   │\n",
       "└───────────────┴─────────────────────┘"
      ]
     },
     "execution_count": 12,
     "metadata": {},
     "output_type": "execute_result"
    }
   ],
   "source": [
    "complaint_avgs = complaints.group_by(\"Borough\")\\\n",
    "                                .agg(noise_complaint_avg=(pl.col('Complaint Type') == \"Noise - Street/Sidewalk\").sum())\\\n",
    "                                .sort('noise_complaint_avg', descending=True)\n",
    "\n",
    "\n",
    "complaint_avgs"
   ]
  },
  {
   "cell_type": "markdown",
   "metadata": {
    "id": "u6Ksr08qp07R"
   },
   "source": [
    "It looks like noise complaints make up about 3.7% of all complaints in Manhattan. Which isn't a lot, but it's still leading amongst all boroughs."
   ]
  },
  {
   "cell_type": "code",
   "execution_count": 13,
   "metadata": {
    "colab": {
     "base_uri": "https://localhost:8080/",
     "height": 469
    },
    "executionInfo": {
     "elapsed": 450,
     "status": "ok",
     "timestamp": 1730963802013,
     "user": {
      "displayName": "Daniele Grotti",
      "userId": "05993002232846155126"
     },
     "user_tz": -60
    },
    "id": "Kl9HUmWSp07R",
    "outputId": "23d9cddd-9cbb-4c62-a872-5b6f0826c708"
   },
   "outputs": [
    {
     "data": {
      "image/png": "[encoded data removed]",
      "text/plain": [
       "<Figure size 1500x500 with 1 Axes>"
      ]
     },
     "metadata": {},
     "output_type": "display_data"
    }
   ],
   "source": [
    "sbn.barplot(complaint_avgs, x='Borough', y='noise_complaint_avg',hue='Borough');"
   ]
  },
  {
   "cell_type": "markdown",
   "metadata": {
    "id": "FFMH5btDp07R"
   },
   "source": [
    "So Manhattan really does complain more about noise than the other boroughs! Neat."
   ]
  },
  {
   "cell_type": "code",
   "execution_count": 14,
   "metadata": {
    "id": "9R8tJSllp07R"
   },
   "outputs": [],
   "source": [
    "#end"
   ]
  },
  {
   "cell_type": "markdown",
   "metadata": {
    "id": "aTTzQtbbp07R"
   },
   "source": [
    "<style>\n",
    "    @font-face {\n",
    "        font-family: \"Computer Modern\";\n",
    "        src: url('http://mirrors.ctan.org/fonts/cm-unicode/fonts/otf/cmunss.otf');\n",
    "    }\n",
    "    div.cell{\n",
    "        width:800px;\n",
    "        margin-left:16% !important;\n",
    "        margin-right:auto;\n",
    "    }\n",
    "    h1 {\n",
    "        font-family: Helvetica, serif;\n",
    "    }\n",
    "    h4{\n",
    "        margin-top:12px;\n",
    "        margin-bottom: 3px;\n",
    "       }\n",
    "    div.text_cell_render{\n",
    "        font-family: Computer Modern, \"Helvetica Neue\", Arial, Helvetica, Geneva, sans-serif;\n",
    "        line-height: 145%;\n",
    "        font-size: 130%;\n",
    "        width:800px;\n",
    "        margin-left:auto;\n",
    "        margin-right:auto;\n",
    "    }\n",
    "    .CodeMirror{\n",
    "            font-family: \"Source Code Pro\", source-code-pro,Consolas, monospace;\n",
    "    }\n",
    "    .text_cell_render h5 {\n",
    "        font-weight: 300;\n",
    "        font-size: 22pt;\n",
    "        color: #4057A1;\n",
    "        font-style: italic;\n",
    "        margin-bottom: .5em;\n",
    "        margin-top: 0.5em;\n",
    "        display: block;\n",
    "    }\n",
    "    \n",
    "    .warning{\n",
    "        color: rgb( 240, 20, 20 )\n",
    "        }  "
   ]
  }
 ],
 "metadata": {
  "colab": {
   "provenance": []
  },
  "kernelspec": {
   "display_name": "Python 3",
   "language": "python",
   "name": "python3"
  },
  "language_info": {
   "codemirror_mode": {
    "name": "ipython",
    "version": 3
   },
   "file_extension": ".py",
   "mimetype": "text/x-python",
   "name": "python",
   "nbconvert_exporter": "python",
   "pygments_lexer": "ipython3",
   "version": "3.11.9"
  }
 },
 "nbformat": 4,
 "nbformat_minor": 0
}
